{
 "cells": [
  {
   "cell_type": "code",
   "execution_count": 1,
   "metadata": {},
   "outputs": [],
   "source": [
    "import numpy as np\n",
    "import arviz as az\n",
    "from arviz import ess\n",
    "# import pymc3 as pm\n",
    "import pickle\n",
    "import matplotlib.pyplot as plt\n",
    "from google.protobuf import text_format\n",
    "from scipy.stats import multivariate_normal as mvn\n",
    "from scipy.stats import skewnorm\n",
    "from scipy.stats import norm\n",
    "from scipy.interpolate import griddata\n",
    "from pp_mix.interface import estimate_density_seq\n",
    "from pp_mix.params_helper import make_default_strauss\n",
    "import pp_mix.protos.py.params_pb2 as params_pb2\n",
    "\n",
    "\n",
    "from pp_mix.state import extract_chain\n",
    "from pp_mix.interface import ConditionalMCMC, RJMCMC, estimate_density_seq, simulate_strauss2d\n",
    "from pp_mix.utils import loadChains, to_numpy, to_proto\n",
    "from pp_mix.protos.py.state_pb2 import UnivariateMixtureState, MultivariateMixtureState\n",
    "from pp_mix.protos.py.params_pb2 import Params, DPPParams, GammaParams"
   ]
  },
  {
   "cell_type": "code",
   "execution_count": 2,
   "metadata": {},
   "outputs": [],
   "source": [
    "from scipy.stats import dirichlet\n",
    "\n",
    "true_mu = np.array([-3.5, 3, 0, 6])\n",
    "true_sigma = np.array([0.8, 0.5, 0.4, 0.5])\n",
    "w_t = np.array([0.25, 0.25, 0.3, 0.2])\n",
    "\n",
    "alpha0 = 500\n",
    "L = 10000\n",
    "y_t = np.random.choice(len(w_t), size=L, replace=True, p=w_t)\n",
    "locations = true_mu[y_t] + true_sigma[y_t] * np.random.normal(size=L)\n",
    "weights = dirichlet.rvs(np.ones(L) * 500 / L)[0, :]\n",
    "s = 0.25\n",
    "\n",
    "\n",
    "def f0(x):\n",
    "    out = np.zeros_like(x)\n",
    "    for w, l in zip(weights, locations):\n",
    "        out += w * norm.pdf(x, l, s)\n",
    "    return out\n",
    "\n",
    "def generate_data(size):\n",
    "    clus_alloc = np.random.choice(L, size=size, replace=True, p=weights)\n",
    "    out = np.random.normal(size=size) * s + locations[clus_alloc]\n",
    "    return out"
   ]
  },
  {
   "cell_type": "code",
   "execution_count": 3,
   "metadata": {},
   "outputs": [
    {
     "data": {
      "text/plain": [
       "(array([ 22.,  62.,  23.,  33., 131.,  15.,  87.,  19.,  68.,  40.]),\n",
       " array([-5.62265426, -4.31200308, -3.0013519 , -1.69070072, -0.38004955,\n",
       "         0.93060163,  2.24125281,  3.55190399,  4.86255517,  6.17320635,\n",
       "         7.48385753]),\n",
       " <a list of 10 Patch objects>)"
      ]
     },
     "execution_count": 3,
     "metadata": {},
     "output_type": "execute_result"
    },
    {
     "data": {
      "image/png": "[encoded data removed]",
      "text/plain": [
       "<Figure size 432x288 with 1 Axes>"
      ]
     },
     "metadata": {
      "needs_background": "light"
     },
     "output_type": "display_data"
    }
   ],
   "source": [
    "xgrid = np.linspace(-6, 8, 500)\n",
    "f_eval = f0(xgrid)\n",
    "data = np.loadtxt(\"data/data_univ_miller_dunson.txt\")\n",
    "plt.hist(data)"
   ]
  },
  {
   "cell_type": "code",
   "execution_count": 77,
   "metadata": {},
   "outputs": [
    {
     "name": "stderr",
     "output_type": "stream",
     "text": [
      "ERROR:root:jump_params not recognized\n"
     ]
    }
   ],
   "source": [
    "dpp_params = DPPParams(nu=25, rho=4.0, N=50, s=0.5)\n",
    "prec_params = GammaParams(alpha=1.0, beta=1.0)\n",
    "rjsampler = RJMCMC(pp_params=dpp_params, \n",
    "                 prec_params=prec_params)\n",
    "\n",
    "gamma_jump_params = params_pb2.GammaParams(alpha=1, beta=1)\n",
    "cond_sampler = ConditionalMCMC(pp_params=dpp_params, \n",
    "                          prec_params=prec_params,\n",
    "                          jump_params=gamma_jump_params)"
   ]
  },
  {
   "cell_type": "code",
   "execution_count": 89,
   "metadata": {
    "scrolled": true
   },
   "outputs": [
    {
     "name": "stdout",
     "output_type": "stream",
     "text": [
      "Burnin, iter # 200  /  10000\n",
      "Burnin, iter # 400  /  10000\n",
      "Burnin, iter # 600  /  10000\n",
      "Burnin, iter # 800  /  10000\n",
      "Burnin, iter # 1000  /  10000\n",
      "Burnin, iter # 1200  /  10000\n",
      "Burnin, iter # 1400  /  10000\n",
      "Burnin, iter # 1600  /  10000\n",
      "Burnin, iter # 1800  /  10000\n",
      "Burnin, iter # 2000  /  10000\n",
      "Burnin, iter # 2200  /  10000\n",
      "Burnin, iter # 2400  /  10000\n",
      "Burnin, iter # 2600  /  10000\n",
      "Burnin, iter # 2800  /  10000\n",
      "Burnin, iter # 3000  /  10000\n",
      "Burnin, iter # 3200  /  10000\n",
      "Burnin, iter # 3400  /  10000\n",
      "Burnin, iter # 3600  /  10000\n",
      "Burnin, iter # 3800  /  10000\n",
      "Burnin, iter # 4000  /  10000\n",
      "Burnin, iter # 4200  /  10000\n",
      "Burnin, iter # 4400  /  10000\n",
      "Burnin, iter # 4600  /  10000\n",
      "Burnin, iter # 4800  /  10000\n",
      "Burnin, iter # 5000  /  10000\n",
      "Burnin, iter # 5200  /  10000\n",
      "Burnin, iter # 5400  /  10000\n",
      "Burnin, iter # 5600  /  10000\n",
      "Burnin, iter # 5800  /  10000\n",
      "Burnin, iter # 6000  /  10000\n",
      "Burnin, iter # 6200  /  10000\n",
      "Burnin, iter # 6400  /  10000\n",
      "Burnin, iter # 6600  /  10000\n",
      "Burnin, iter # 6800  /  10000\n",
      "Burnin, iter # 7000  /  10000\n",
      "Burnin, iter # 7200  /  10000\n",
      "Burnin, iter # 7400  /  10000\n",
      "Burnin, iter # 7600  /  10000\n",
      "Burnin, iter # 7800  /  10000\n",
      "Burnin, iter # 8000  /  10000\n",
      "Burnin, iter # 8200  /  10000\n",
      "Burnin, iter # 8400  /  10000\n",
      "Burnin, iter # 8600  /  10000\n",
      "Burnin, iter # 8800  /  10000\n",
      "Burnin, iter # 9000  /  10000\n",
      "Burnin, iter # 9200  /  10000\n",
      "Burnin, iter # 9400  /  10000\n",
      "Burnin, iter # 9600  /  10000\n",
      "Burnin, iter # 9800  /  10000\n",
      "Burnin, iter # 10000  /  10000\n",
      "Running, iter # 200  /  10000\n",
      "Running, iter # 400  /  10000\n",
      "Running, iter # 600  /  10000\n",
      "Running, iter # 800  /  10000\n",
      "Running, iter # 1000  /  10000\n",
      "Running, iter # 1200  /  10000\n",
      "Running, iter # 1400  /  10000\n",
      "Running, iter # 1600  /  10000\n",
      "Running, iter # 1800  /  10000\n",
      "Running, iter # 2000  /  10000\n",
      "Running, iter # 2200  /  10000\n",
      "Running, iter # 2400  /  10000\n",
      "Running, iter # 2600  /  10000\n",
      "Running, iter # 2800  /  10000\n",
      "Running, iter # 3000  /  10000\n",
      "Running, iter # 3200  /  10000\n",
      "Running, iter # 3400  /  10000\n",
      "Running, iter # 3600  /  10000\n",
      "Running, iter # 3800  /  10000\n",
      "Running, iter # 4000  /  10000\n",
      "Running, iter # 4200  /  10000\n",
      "Running, iter # 4400  /  10000\n",
      "Running, iter # 4600  /  10000\n",
      "Running, iter # 4800  /  10000\n",
      "Running, iter # 5000  /  10000\n",
      "Running, iter # 5200  /  10000\n",
      "Running, iter # 5400  /  10000\n",
      "Running, iter # 5600  /  10000\n",
      "Running, iter # 5800  /  10000\n",
      "Running, iter # 6000  /  10000\n",
      "Running, iter # 6200  /  10000\n",
      "Running, iter # 6400  /  10000\n",
      "Running, iter # 6600  /  10000\n",
      "Running, iter # 6800  /  10000\n",
      "Running, iter # 7000  /  10000\n",
      "Running, iter # 7200  /  10000\n",
      "Running, iter # 7400  /  10000\n",
      "Running, iter # 7600  /  10000\n",
      "Running, iter # 7800  /  10000\n",
      "Running, iter # 8000  /  10000\n",
      "Running, iter # 8200  /  10000\n",
      "Running, iter # 8400  /  10000\n",
      "Running, iter # 8600  /  10000\n",
      "Running, iter # 8800  /  10000\n",
      "Running, iter # 9000  /  10000\n",
      "Running, iter # 9200  /  10000\n",
      "Running, iter # 9400  /  10000\n",
      "Running, iter # 9600  /  10000\n",
      "Running, iter # 9800  /  10000\n",
      "Running, iter # 10000  /  10000\n"
     ]
    }
   ],
   "source": [
    "cond_sampler.run(10000, 10000, 1, data)\n",
    "# rjsampler.run(10000, 10000, 1, data)"
   ]
  },
  {
   "cell_type": "code",
   "execution_count": 90,
   "metadata": {},
   "outputs": [],
   "source": [
    "# cond_sampler.serialize_chains(\"data/dpp_univ_cond.recordio\")\n",
    "# rjsampler.serialize_chains(\"data/dpp_univ_rj.recordio\")"
   ]
  },
  {
   "cell_type": "code",
   "execution_count": 91,
   "metadata": {},
   "outputs": [],
   "source": [
    "# rjchains = loadChains(\"data/dpp_univ_rj.recordio\", UnivariateMixtureState)\n",
    "# condchains = loadChains(\"data/dpp_univ_cond.recordio\", UnivariateMixtureState)"
   ]
  },
  {
   "cell_type": "code",
   "execution_count": 92,
   "metadata": {},
   "outputs": [],
   "source": [
    "rjchains = rjsampler.chains\n",
    "condchains = cond_sampler.chains"
   ]
  },
  {
   "cell_type": "code",
   "execution_count": 93,
   "metadata": {},
   "outputs": [],
   "source": [
    "mtot_rj = np.array([max(x.clus_alloc) + 1 for x in rjchains])\n",
    "mtot_cond = np.array([x.ma + x.mna for x in condchains])\n",
    "ma_cond = np.array([x.ma for x in condchains])"
   ]
  },
  {
   "cell_type": "code",
   "execution_count": 94,
   "metadata": {},
   "outputs": [
    {
     "data": {
      "image/png": "[encoded data removed]",
      "text/plain": [
       "<Figure size 432x288 with 1 Axes>"
      ]
     },
     "metadata": {
      "needs_background": "light"
     },
     "output_type": "display_data"
    }
   ],
   "source": [
    "plt.vlines(range(len(mtot_cond)), mtot_cond - 0.3, mtot_cond + 0.3, alpha=0.5)\n",
    "plt.yticks([2, 3, 4, 5, 6, 7])\n",
    "plt.ylim(1.5, 7.5)\n",
    "# plt.savefig(\"trace_cond.pdf\")\n",
    "plt.show()"
   ]
  },
  {
   "cell_type": "code",
   "execution_count": 95,
   "metadata": {},
   "outputs": [
    {
     "data": {
      "image/png": "[encoded data removed]",
      "text/plain": [
       "<Figure size 432x288 with 1 Axes>"
      ]
     },
     "metadata": {
      "needs_background": "light"
     },
     "output_type": "display_data"
    }
   ],
   "source": [
    "plt.vlines(range(len(mtot_rj)), mtot_rj - 0.3, mtot_rj + 0.3, alpha=0.3)\n",
    "plt.yticks([2, 3, 4, 5, 6, 7])\n",
    "plt.ylim(1.5, 7.5)\n",
    "# plt.savefig(\"trace_rj.pdf\")\n",
    "plt.show()"
   ]
  },
  {
   "cell_type": "code",
   "execution_count": 96,
   "metadata": {},
   "outputs": [
    {
     "name": "stdout",
     "output_type": "stream",
     "text": [
      "83.32923323434726\n",
      "2971.0525822905283\n"
     ]
    }
   ],
   "source": [
    "print(ess(mtot_rj))\n",
    "print(ess(mtot_cond))"
   ]
  },
  {
   "cell_type": "code",
   "execution_count": 97,
   "metadata": {},
   "outputs": [
    {
     "name": "stdout",
     "output_type": "stream",
     "text": [
      "4.0076\n",
      "4.4455\n",
      "4.0021\n"
     ]
    }
   ],
   "source": [
    "print(np.mean(mtot_cond))\n",
    "print(np.mean(mtot_rj))\n",
    "print(np.mean(ma_cond))"
   ]
  },
  {
   "cell_type": "markdown",
   "metadata": {},
   "source": [
    "## Results:\n",
    "s = 0.5\n",
    "\n",
    "rho = 4, nu = 10, ESS Cond = 2020.28, ESS RJ = 60.36, E_m cond = 4.01, E_m RJ = 4.50 E_k cond = 4.005\n",
    "\n",
    "rho = 4, nu = 25, ESS Cond = 1729.55, ESS RJ = 83.94 E_m cond = 4.006, E_m RJ = 4.47 E_k cond = 4.00\n",
    "\n",
    "rho = 4, nu = 2.5, ESS Cond = 1630.46, ESS RJ = 112.74 E_m cond = 4.004, E_m RJ = 4.31 E_k cond = 4.00"
   ]
  },
  {
   "cell_type": "code",
   "execution_count": 98,
   "metadata": {},
   "outputs": [
    {
     "data": {
      "image/png": "[encoded data removed]",
      "text/plain": [
       "<Figure size 432x288 with 1 Axes>"
      ]
     },
     "metadata": {
      "needs_background": "light"
     },
     "output_type": "display_data"
    }
   ],
   "source": [
    "import arviz as az\n",
    "\n",
    "az.plot_autocorr(mtot_cond)\n",
    "plt.ylim((-0.1, 1.0))\n",
    "plt.title(\"\")\n",
    "# plt.savefig(\"autocorr_cond.pdf\")\n",
    "plt.show()"
   ]
  },
  {
   "cell_type": "code",
   "execution_count": 99,
   "metadata": {},
   "outputs": [
    {
     "data": {
      "image/png": "[encoded data removed]",
      "text/plain": [
       "<Figure size 432x288 with 1 Axes>"
      ]
     },
     "metadata": {
      "needs_background": "light"
     },
     "output_type": "display_data"
    }
   ],
   "source": [
    "import arviz as az\n",
    "\n",
    "az.plot_autocorr(mtot_rj)\n",
    "plt.ylim((-0.1, 1.0))\n",
    "plt.title(\"\")\n",
    "# plt.savefig(\"autocorr_rj.pdf\")\n",
    "plt.show()"
   ]
  },
  {
   "cell_type": "code",
   "execution_count": null,
   "metadata": {},
   "outputs": [],
   "source": [
    "from scipy.special import gamma, loggamma\n",
    "\n",
    "def phi(k, rho, nu, s):\n",
    "    d = 1\n",
    "    tau = np.exp( -0.5*np.log(np.pi) + 1/d*(np.log(rho) + loggamma(d/2+1)) )\n",
    "    alpha_max = 1/tau*(np.exp(loggamma(d/nu + 1))) ** (1/d)\n",
    "    return s*np.exp(- (abs(s*alpha_max*k)) ** nu )\n",
    "\n",
    "def num_clusters(rho, nu):\n",
    "    phis = []\n",
    "    for k in range(-1000, 1001):\n",
    "        phis.append(phi(k, rho, nu))\n",
    "    \n",
    "    phis = np.array(phis)\n",
    "    exp_num = np.sum(phis)\n",
    "    var_num = np.sum(phis * (1 - phis))\n",
    "    return exp_num, var_num"
   ]
  },
  {
   "cell_type": "code",
   "execution_count": null,
   "metadata": {},
   "outputs": [],
   "source": [
    "num_clusters(4, 20)"
   ]
  },
  {
   "cell_type": "code",
   "execution_count": null,
   "metadata": {},
   "outputs": [],
   "source": [
    "\n",
    "list(product([1, 2, 3], [\"a\", \"b\"]))"
   ]
  },
  {
   "cell_type": "code",
   "execution_count": null,
   "metadata": {
    "scrolled": true
   },
   "outputs": [],
   "source": [
    "from itertools import product\n",
    "\n",
    "\n",
    "nus = [10, 100]\n",
    "ss = [0.25, 0.5, 0.75]\n",
    "\n",
    "data = np.loadtxt(\"data/data_univ_miller_dunson.txt\")\n",
    "\n",
    "rho = 4.0\n",
    "\n",
    "nrep = 10\n",
    "\n",
    "ess_rj = np.zeros((nrep, len(list(product(nus, ss)))))\n",
    "ess_cond = np.zeros((nrep, len(list(product(nus, ss)))))\n",
    "ess_k_cond = np.zeros((nrep, len(list(product(nus, ss)))))\n",
    "\n",
    "post_m_rj = np.zeros((nrep, len(list(product(nus, ss)))))\n",
    "post_m_cond = np.zeros((nrep, len(list(product(nus, ss)))))\n",
    "post_k_cond = np.zeros((nrep, len(list(product(nus, ss)))))\n",
    "\n",
    "\n",
    "for i in range(nrep):\n",
    "    print(\"Running Repetition {0}\".format(i+1))\n",
    "    \n",
    "    for j, (nu, s) in enumerate(product(nus, ss)):\n",
    "        print(\"\\r {0} / {1}\".format(j+1, ess_rj.shape[1]), flush=True, end=\" \")\n",
    "        np.random.shuffle(data)\n",
    "        dpp_params = DPPParams(nu=nu, rho=rho, N=50)\n",
    "        prec_params = GammaParams(alpha=1.0, beta=1.0)\n",
    "\n",
    "        rjsampler = RJMCMC(pp_params=dpp_params, \n",
    "                         prec_params=prec_params)\n",
    "\n",
    "        gamma_jump_params = params_pb2.GammaParams(alpha=1, beta=1)\n",
    "        cond_sampler = ConditionalMCMC(pp_params=dpp_params, \n",
    "                              prec_params=prec_params,\n",
    "                              jump_params=gamma_jump_params)\n",
    "\n",
    "\n",
    "        rjsampler.run(50000, 50000, 5, data, 10000)\n",
    "        cond_sampler.run(50000, 50000, 5, data, 10000)\n",
    "        rjchains = rjsampler.chains\n",
    "        condchains = cond_sampler.chains\n",
    "\n",
    "        mtot_rj = np.array([max(x.clus_alloc) + 1 for x in rjchains])\n",
    "        mtot_cond = np.array([x.ma + x.mna for x in condchains])\n",
    "        ma_cond = np.array([x.ma for x in condchains])\n",
    "\n",
    "        post_m_rj[i, j] = np.mean(mtot_rj)\n",
    "        post_m_cond[i, j] = np.mean(mtot_cond)\n",
    "        post_k_cond[i, j] = np.mean(ma_cond)\n",
    "    \n",
    "        ess_rj[i, j] = ess(mtot_rj)\n",
    "        ess_cond[i, j] = ess(mtot_cond)\n",
    "        ess_k_cond[i, j] = ess(ma_cond)    "
   ]
  },
  {
   "cell_type": "code",
   "execution_count": null,
   "metadata": {},
   "outputs": [],
   "source": [
    "for i, (nu, s) in enumerate(product(nus, ss)):\n",
    "    print(\"nu: {0}, s:{1}, ESS-C: {2:.2f}, ESS-RJ: {3:.2f}\".format(\n",
    "        nu, s, np.median(ess_cond[:, i]), np.median(ess_rj[:, i])))"
   ]
  },
  {
   "cell_type": "code",
   "execution_count": null,
   "metadata": {},
   "outputs": [],
   "source": [
    "mtot_cond"
   ]
  },
  {
   "cell_type": "code",
   "execution_count": null,
   "metadata": {},
   "outputs": [],
   "source": []
  },
  {
   "cell_type": "code",
   "execution_count": null,
   "metadata": {},
   "outputs": [],
   "source": [
    "for i, (nu, s) in enumerate(product(nus, ss)):\n",
    "    print(\"nu: {0}, s:{1}, ESS-C: {2:.2f}, ESS-RJ: {3:.2f}\".format(nu, s, ess_cond[i], ess_rj[i]))\n",
    "\n",
    "# print(ess_rj)\n",
    "# print(ess_cond)"
   ]
  },
  {
   "cell_type": "code",
   "execution_count": null,
   "metadata": {},
   "outputs": [],
   "source": [
    "print(post_m_rj)\n",
    "print(post_m_cond)\n",
    "print(post_k_cond)"
   ]
  },
  {
   "cell_type": "code",
   "execution_count": null,
   "metadata": {
    "scrolled": true
   },
   "outputs": [],
   "source": [
    "dpp_params = DPPParams(nu=100.0, rho=4, N=10)\n",
    "prec_params = GammaParams(alpha=1.0, beta=1.0)\n",
    "gamma_jump_params = params_pb2.GammaParams(alpha=1, beta=1)\n",
    "cond_sampler = ConditionalMCMC(pp_params=dpp_params, \n",
    "                          prec_params=prec_params,\n",
    "                          jump_params=gamma_jump_params)\n",
    "cond_sampler.run(50000, 50000, 5, data)\n",
    "condchains = cond_sampler.chains\n",
    "    \n",
    "mtot_cond = np.array([x.ma + x.mna for x in condchains])\n",
    "ma_cond = np.array([x.ma for x in condchains])\n",
    "ess(mtot_cond)"
   ]
  },
  {
   "cell_type": "code",
   "execution_count": null,
   "metadata": {},
   "outputs": [],
   "source": [
    "plt.vlines(range(len(mtot_cond)), mtot_cond - 0.3, mtot_cond + 0.3, alpha=0.5)\n",
    "plt.yticks([4, 5])\n",
    "plt.show()"
   ]
  },
  {
   "cell_type": "code",
   "execution_count": null,
   "metadata": {},
   "outputs": [],
   "source": [
    "ess(mtot_cond)"
   ]
  },
  {
   "cell_type": "code",
   "execution_count": null,
   "metadata": {},
   "outputs": [],
   "source": [
    "az.plot_autocorr(mtot_cond)\n",
    "plt.ylim((-0.1, 1.0))\n",
    "plt.title(\"\")\n",
    "plt.show()"
   ]
  },
  {
   "cell_type": "code",
   "execution_count": null,
   "metadata": {},
   "outputs": [],
   "source": []
  }
 ],
 "metadata": {
  "kernelspec": {
   "display_name": "Python 3",
   "language": "python",
   "name": "python3"
  },
  "language_info": {
   "codemirror_mode": {
    "name": "ipython",
    "version": 3
   },
   "file_extension": ".py",
   "mimetype": "text/x-python",
   "name": "python",
   "nbconvert_exporter": "python",
   "pygments_lexer": "ipython3",
   "version": "3.8.0"
  }
 },
 "nbformat": 4,
 "nbformat_minor": 4
}
