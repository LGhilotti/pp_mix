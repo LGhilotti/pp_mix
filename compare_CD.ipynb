{
 "cells": [
  {
   "cell_type": "code",
   "execution_count": 2,
   "id": "exact-photographer",
   "metadata": {},
   "outputs": [],
   "source": [
    "import numpy as np\n",
    "import arviz as az\n",
    "import math\n",
    "# import pymc3 as pm\n",
    "import pickle\n",
    "import matplotlib.pyplot as plt\n",
    "from google.protobuf import text_format\n",
    "from scipy.stats import multivariate_normal as mvn\n",
    "from scipy.stats import skewnorm\n",
    "from scipy.stats import norm\n",
    "from scipy.interpolate import griddata\n",
    "import pp_mix.protos.py.params_pb2 as params_pb2\n",
    "\n",
    "from pp_mix.interface import ConditionalMCMC, cluster_estimate\n",
    "from pp_mix.utils import loadChains, to_numpy, to_proto\n",
    "from pp_mix.protos.py.state_pb2 import MultivariateMixtureState, EigenVector, EigenMatrix\n",
    "from pp_mix.protos.py.params_pb2 import Params"
   ]
  },
  {
   "cell_type": "code",
   "execution_count": 3,
   "id": "simplified-feeding",
   "metadata": {},
   "outputs": [
    {
     "name": "stdout",
     "output_type": "stream",
     "text": [
      "(200, 50)\n"
     ]
    }
   ],
   "source": [
    "import pandas as pd\n",
    "with open(\"data/data_by_rule_student/p_50_d_2_M_4_nperclus_50_data.csv\", newline='') as my_csv:\n",
    "    data = pd.read_csv(my_csv, sep=',', header=None).values\n",
    "    \n",
    "print(data.shape)"
   ]
  },
  {
   "cell_type": "code",
   "execution_count": 5,
   "id": "visible-dictionary",
   "metadata": {
    "scrolled": true
   },
   "outputs": [
    {
     "name": "stdout",
     "output_type": "stream",
     "text": [
      "Running p=50 d=2 M=4 nperclus=50\n",
      "Number means in trick phase:  10\n",
      "Trick, iter # 1000  /  6000\n",
      "Trick, iter # 2000  /  6000\n",
      "Trick, iter # 3000  /  6000\n",
      "Trick, iter # 4000  /  6000\n",
      "Trick, iter # 5000  /  6000\n",
      "Trick, iter # 6000  /  6000\n",
      "Burnin, iter # 1000  /  20000\n",
      "Burnin, iter # 2000  /  20000\n",
      "Burnin, iter # 3000  /  20000\n",
      "Burnin, iter # 4000  /  20000\n",
      "Burnin, iter # 5000  /  20000\n",
      "Burnin, iter # 6000  /  20000\n",
      "Burnin, iter # 7000  /  20000\n",
      "Burnin, iter # 8000  /  20000\n",
      "Burnin, iter # 9000  /  20000\n",
      "Burnin, iter # 10000  /  20000\n",
      "Burnin, iter # 11000  /  20000\n",
      "Burnin, iter # 12000  /  20000\n",
      "Burnin, iter # 13000  /  20000\n",
      "Burnin, iter # 14000  /  20000\n",
      "Burnin, iter # 15000  /  20000\n",
      "Burnin, iter # 16000  /  20000\n",
      "Burnin, iter # 17000  /  20000\n",
      "Burnin, iter # 18000  /  20000\n",
      "Burnin, iter # 19000  /  20000\n",
      "Burnin, iter # 20000  /  20000\n",
      "Running, iter # 1000  /  15000\n",
      "Running, iter # 2000  /  15000\n",
      "Running, iter # 3000  /  15000\n",
      "Running, iter # 4000  /  15000\n",
      "Running, iter # 5000  /  15000\n",
      "Running, iter # 6000  /  15000\n",
      "Running, iter # 7000  /  15000\n",
      "Running, iter # 8000  /  15000\n",
      "Running, iter # 9000  /  15000\n",
      "Running, iter # 10000  /  15000\n",
      "Running, iter # 11000  /  15000\n",
      "Running, iter # 12000  /  15000\n",
      "Running, iter # 13000  /  15000\n",
      "Running, iter # 14000  /  15000\n",
      "Running, iter # 15000  /  15000\n",
      "Allocated Means acceptance rate  0.32199536250853311170061488155624829232692718505859375\n",
      "Lambda acceptance rate  0.1247560975609756095394686781219206750392913818359375\n"
     ]
    }
   ],
   "source": [
    "p = 50\n",
    "d = 2\n",
    "M = 4\n",
    "n_percluster_s = [50]\n",
    "\n",
    "log_every = 1000\n",
    "ntrick = 6000\n",
    "nburn = 20000\n",
    "niter = 15000\n",
    "thin = 5\n",
    "\n",
    "#for n_pc in n_percluster_s:\n",
    "n_pc=50\n",
    "\n",
    "print(\"Running p=50 d=2 M=4 nperclus={0}\".format(n_pc))\n",
    "with open(\"data/data_by_rule_student/p_50_d_2_M_4_nperclus_{0}_data.csv\".format(n_pc), newline='') as my_csv:\n",
    "    data = pd.read_csv(my_csv, sep=',', header=None).values\n",
    "\n",
    "ranges = np.array([[-50,50],]*d).transpose()\n",
    "\n",
    "#sampler1 = ConditionalMCMC(params_file = \"data/data_by_rule_student/params_compare_CD/sp_p_50_d_2_M_4_n_50_N_30.asciipb\")\n",
    "#sampler1.run(ntrick, nburn, niter, thin, data, ranges, log_every)\n",
    "#sampler1.serialize_chains(\"data/data_by_rule_student/chains_compare_CD/chains_p_50_d_2_M_4_nperclus_50_N_30.recordio\")\n",
    "#acc_rates1 = np.array([sampler1.means_ar, sampler1.lambda_ar])\n",
    "#np.savetxt(\"data/data_by_rule_student/chains_compare_CD/acc_rate_p_50_d_2_M_4_nperclus_50_N_30.csv\", acc_rates1, delimiter=\",\")\n",
    "\n",
    "\n",
    "sampler2 = ConditionalMCMC(params_file = \"data/data_by_rule_student/params_compare_CD/sp_p_50_d_2_M_4_n_50_N_30_sec.asciipb\")\n",
    "sampler2.run(ntrick, nburn, niter, thin, data, ranges, log_every)\n",
    "sampler2.serialize_chains(\"data/data_by_rule_student/chains_compare_CD/chains_p_50_d_2_M_4_nperclus_50_N_30_sec.recordio\")\n",
    "acc_rates2 = np.array([sampler2.means_ar, sampler2.lambda_ar])\n",
    "np.savetxt(\"data/data_by_rule_student/chains_compare_CD/acc_rate_p_50_d_2_M_4_nperclus_50_N_30_sec.csv\", acc_rates2, delimiter=\",\")\n",
    "\n",
    "\n",
    "#sampler3 = ConditionalMCMC(params_file = \"data/data_by_rule_student/params_compare_CD/sp_p_50_d_2_M_4_n_50_N_15.asciipb\")\n",
    "#sampler3.run(ntrick, nburn, niter, thin, data, ranges, log_every)\n",
    "#sampler3.serialize_chains(\"data/data_by_rule_student/chains_compare_CD/chains_p_50_d_2_M_4_nperclus_50_N_15.recordio\")\n",
    "#acc_rates3 = np.array([sampler3.means_ar, sampler3.lambda_ar])\n",
    "#np.savetxt(\"data/data_by_rule_student/chains_compare_CD/acc_rate_p_50_d_2_M_4_nperclus_50_N_15.csv\", acc_rates3, delimiter=\",\")\n",
    "\n",
    "\n",
    "#sampler4 = ConditionalMCMC(params_file = \"data/data_by_rule/params_compare_CD/sp_p_50_d_2_M_4_n_50_N_15_sec.asciipb\")\n",
    "#sampler4.run(ntrick, nburn, niter, thin, data, ranges, log_every)\n",
    "#sampler4.serialize_chains(\"data/data_by_rule/chains_compare_CD/chains_p_50_d_2_M_4_nperclus_50_N_15_sec.recordio\")\n",
    "#acc_rates4 = np.array([sampler4.means_ar, sampler4.lambda_ar])\n",
    "#np.savetxt(\"data/data_by_rule/chains_compare_CD/acc_rate_p_50_d_2_M_4_nperclus_50_N_15_sec.csv\", acc_rates4, delimiter=\",\")\n"
   ]
  },
  {
   "cell_type": "code",
   "execution_count": 6,
   "id": "continuing-hopkins",
   "metadata": {},
   "outputs": [],
   "source": [
    "chain50N30 = loadChains(\"data/data_by_rule_student/chains_compare_CD/chains_p_50_d_2_M_4_nperclus_50_N_30.recordio\", MultivariateMixtureState)\n",
    "chain50N30_sec = loadChains(\"data/data_by_rule_student/chains_compare_CD/chains_p_50_d_2_M_4_nperclus_50_N_30_sec.recordio\", MultivariateMixtureState)\n",
    "#chain50N15 = loadChains(\"data/data_by_rule_student/chains_compare_CD/chains_p_50_d_2_M_4_nperclus_50_N_15.recordio\", MultivariateMixtureState)\n",
    "#chain50N15_sec = loadChains(\"data/data_by_rule/chains_compare_CD/chains_p_50_d_2_M_4_nperclus_50_N_15_sec.recordio\", MultivariateMixtureState)\n",
    "\n",
    "\n",
    "\n",
    "#chain200 = loadChains(\"data/data_by_rule/chains_compare_CD/chains_p_50_d_2_M_4_nperclus_200.recordio\", MultivariateMixtureState)\n"
   ]
  },
  {
   "cell_type": "code",
   "execution_count": 7,
   "id": "pursuant-serve",
   "metadata": {},
   "outputs": [
    {
     "name": "stdout",
     "output_type": "stream",
     "text": [
      "4.006\n",
      "0.5363333333333333\n",
      "4.500333333333334\n",
      "0.52\n"
     ]
    }
   ],
   "source": [
    "nc_chain50N30 = np.array([x.ma for x in chain50N30])\n",
    "nonall_50N30 = np.array([x.mna for x in chain50N30])\n",
    "\n",
    "#nc_chain200 = np.array([x.ma for x in chain200])\n",
    "#nonall_200 = np.array([x.mna for x in chain200])\n",
    "\n",
    "print(nc_chain50N30.mean())\n",
    "print(nonall_50N30.mean())\n",
    "\n",
    "\n",
    "nc_chain50N30_sec = np.array([x.ma for x in chain50N30_sec])\n",
    "nonall_50N30_sec = np.array([x.mna for x in chain50N30_sec])\n",
    "print(nc_chain50N30_sec.mean())\n",
    "print(nonall_50N30_sec.mean())\n"
   ]
  },
  {
   "cell_type": "code",
   "execution_count": 6,
   "id": "confidential-citation",
   "metadata": {},
   "outputs": [
    {
     "name": "stdout",
     "output_type": "stream",
     "text": [
      "4.0005\n",
      "0.5375\n",
      "4.0\n",
      "0.5205\n",
      "4.049\n",
      "0.536\n",
      "4.0\n",
      "0.5345\n"
     ]
    }
   ],
   "source": [
    "nc_chain50N30 = np.array([x.ma for x in chain50N30])\n",
    "nonall_50N30 = np.array([x.mna for x in chain50N30])\n",
    "\n",
    "#nc_chain200 = np.array([x.ma for x in chain200])\n",
    "#nonall_200 = np.array([x.mna for x in chain200])\n",
    "\n",
    "print(nc_chain50N30.mean())\n",
    "print(nonall_50N30.mean())\n",
    "\n",
    "#print(nc_chain200.mean())\n",
    "#print(nonall_200.mean())\n",
    "\n",
    "\n",
    "nc_chain50N30_sec = np.array([x.ma for x in chain50N30_sec])\n",
    "nonall_50N30_sec = np.array([x.mna for x in chain50N30_sec])\n",
    "print(nc_chain50N30_sec.mean())\n",
    "print(nonall_50N30_sec.mean())\n",
    "\n",
    "\n",
    "nc_chain50N15 = np.array([x.ma for x in chain50N15])\n",
    "nonall_50N15 = np.array([x.mna for x in chain50N15])\n",
    "print(nc_chain50N15.mean())\n",
    "print(nonall_50N15.mean())\n",
    "\n",
    "\n",
    "nc_chain50N15_sec = np.array([x.ma for x in chain50N15_sec])\n",
    "nonall_50N15_sec = np.array([x.mna for x in chain50N15_sec])\n",
    "print(nc_chain50N15_sec.mean())\n",
    "print(nonall_50N15_sec.mean())\n"
   ]
  },
  {
   "cell_type": "code",
   "execution_count": 8,
   "id": "adequate-contrast",
   "metadata": {},
   "outputs": [
    {
     "data": {
      "text/plain": [
       "[0, 0, 0, 0, 0, 0, 0, 0, 0, 0, 0, 0, 0, 0, 0, 0, 0, 0, 0, 0, 0, 0, 0, 0, 0, 0, 0, 0, 0, 0, 0, 0, 0, 0, 0, 0, 0, 0, 0, 0, 0, 0, 0, 0, 0, 0, 0, 0, 0, 0, 2, 2, 2, 2, 2, 2, 2, 2, 2, 2, 2, 2, 2, 2, 2, 2, 2, 2, 2, 2, 2, 2, 2, 2, 2, 2, 2, 2, 2, 2, 2, 2, 2, 2, 2, 2, 2, 2, 2, 2, 2, 2, 2, 2, 2, 2, 2, 2, 2, 2, 1, 1, 1, 1, 1, 1, 1, 1, 1, 1, 1, 1, 1, 1, 1, 1, 1, 1, 1, 1, 1, 1, 1, 1, 1, 1, 1, 1, 1, 1, 1, 1, 1, 1, 1, 1, 1, 1, 1, 1, 1, 1, 1, 1, 1, 1, 1, 1, 1, 1, 3, 3, 3, 3, 3, 3, 3, 3, 3, 3, 3, 3, 3, 3, 3, 3, 3, 3, 3, 3, 3, 3, 3, 3, 3, 3, 3, 3, 3, 3, 3, 3, 3, 3, 3, 3, 3, 3, 3, 3, 3, 3, 3, 3, 3, 3, 3, 3, 3, 3]"
      ]
     },
     "execution_count": 8,
     "metadata": {},
     "output_type": "execute_result"
    }
   ],
   "source": [
    "chain50N15[-1].clus_alloc\n",
    "#chain200[-1].clus_alloc"
   ]
  },
  {
   "cell_type": "markdown",
   "id": "thermal-battle",
   "metadata": {},
   "source": [
    "# check chain mixing on some variables "
   ]
  },
  {
   "cell_type": "code",
   "execution_count": 10,
   "id": "protective-orbit",
   "metadata": {},
   "outputs": [
    {
     "data": {
      "image/png": "[encoded data removed]",
      "text/plain": [
       "<Figure size 432x288 with 1 Axes>"
      ]
     },
     "metadata": {
      "needs_background": "light"
     },
     "output_type": "display_data"
    }
   ],
   "source": [
    "tau_chain50N30 = np.array([x.lamb_block.tau for x in chain50N30])\n",
    "plt.plot(tau_chain50N30)\n",
    "\n",
    "tau_chain50N30_sec = np.array([x.lamb_block.tau for x in chain50N30_sec])\n",
    "#plt.plot(tau_chain50N30_sec)\n"
   ]
  },
  {
   "cell_type": "code",
   "execution_count": 7,
   "id": "split-flashing",
   "metadata": {},
   "outputs": [],
   "source": [
    "tau_chain50N30 = np.array([x.lamb_block.tau for x in chain50N30])\n",
    "tau_chain50N30_sec = np.array([x.lamb_block.tau for x in chain50N30_sec])\n",
    "tau_chain50N15 = np.array([x.lamb_block.tau for x in chain50N15])\n",
    "tau_chain50N15_sec = np.array([x.lamb_block.tau for x in chain50N15_sec])\n",
    "\n",
    "#tau_chain200 = np.array([x.lamb_block.tau for x in chain200])"
   ]
  },
  {
   "cell_type": "code",
   "execution_count": 10,
   "id": "hungarian-amendment",
   "metadata": {},
   "outputs": [
    {
     "ename": "NameError",
     "evalue": "name 'tau_chain50N30' is not defined",
     "output_type": "error",
     "traceback": [
      "\u001b[0;31m---------------------------------------------------------------------------\u001b[0m",
      "\u001b[0;31mNameError\u001b[0m                                 Traceback (most recent call last)",
      "\u001b[0;32m<ipython-input-10-01369e3aa6cd>\u001b[0m in \u001b[0;36m<module>\u001b[0;34m\u001b[0m\n\u001b[1;32m      1\u001b[0m \u001b[0mfig_tau\u001b[0m \u001b[0;34m=\u001b[0m \u001b[0mplt\u001b[0m\u001b[0;34m.\u001b[0m\u001b[0mfigure\u001b[0m\u001b[0;34m(\u001b[0m\u001b[0;34m)\u001b[0m\u001b[0;34m\u001b[0m\u001b[0;34m\u001b[0m\u001b[0m\n\u001b[1;32m      2\u001b[0m \u001b[0max1\u001b[0m \u001b[0;34m=\u001b[0m \u001b[0mfig_tau\u001b[0m\u001b[0;34m.\u001b[0m\u001b[0madd_subplot\u001b[0m\u001b[0;34m(\u001b[0m\u001b[0;36m221\u001b[0m\u001b[0;34m)\u001b[0m\u001b[0;34m\u001b[0m\u001b[0;34m\u001b[0m\u001b[0m\n\u001b[0;32m----> 3\u001b[0;31m \u001b[0max1\u001b[0m\u001b[0;34m.\u001b[0m\u001b[0mplot\u001b[0m\u001b[0;34m(\u001b[0m\u001b[0mtau_chain50N30\u001b[0m\u001b[0;34m)\u001b[0m\u001b[0;34m\u001b[0m\u001b[0;34m\u001b[0m\u001b[0m\n\u001b[0m\u001b[1;32m      4\u001b[0m \u001b[0mplt\u001b[0m\u001b[0;34m.\u001b[0m\u001b[0mtitle\u001b[0m\u001b[0;34m(\u001b[0m\u001b[0;34m'tau50 N30'\u001b[0m\u001b[0;34m)\u001b[0m\u001b[0;34m\u001b[0m\u001b[0;34m\u001b[0m\u001b[0m\n\u001b[1;32m      5\u001b[0m \u001b[0;34m\u001b[0m\u001b[0m\n",
      "\u001b[0;31mNameError\u001b[0m: name 'tau_chain50N30' is not defined"
     ]
    },
    {
     "data": {
      "image/png": "[encoded data removed]",
      "text/plain": [
       "<Figure size 432x288 with 1 Axes>"
      ]
     },
     "metadata": {
      "needs_background": "light"
     },
     "output_type": "display_data"
    }
   ],
   "source": [
    "fig_tau = plt.figure()\n",
    "ax1 = fig_tau.add_subplot(221)\n",
    "ax1.plot(tau_chain50N30)\n",
    "plt.title('tau50 N30')\n",
    "\n",
    "ax2 = fig_tau.add_subplot(222)\n",
    "ax2.plot(tau_chain50N30_sec)\n",
    "plt.title('tau50 N30_sec')\n",
    "\n",
    "ax3 = fig_tau.add_subplot(223)\n",
    "ax3.plot(tau_chain50N15)\n",
    "plt.title('tau50 N15')\n",
    "\n",
    "ax4 = fig_tau.add_subplot(224)\n",
    "ax4.plot(tau_chain50N15_sec)\n",
    "plt.title('tau50 N15_sec')\n",
    "\n",
    "plt.subplots_adjust(hspace=0.4)\n",
    "\n",
    "\n",
    "#plt.plot(tau_chain200)"
   ]
  },
  {
   "cell_type": "code",
   "execution_count": 18,
   "id": "eligible-fortune",
   "metadata": {},
   "outputs": [
    {
     "data": {
      "text/plain": [
       "[<matplotlib.lines.Line2D at 0x7f60fb06bcd0>]"
      ]
     },
     "execution_count": 18,
     "metadata": {},
     "output_type": "execute_result"
    },
    {
     "data": {
      "image/png": "[encoded data removed]",
      "text/plain": [
       "<Figure size 432x288 with 1 Axes>"
      ]
     },
     "metadata": {
      "needs_background": "light"
     },
     "output_type": "display_data"
    }
   ],
   "source": [
    "first_sbar_chain50N30 = np.array([to_numpy(x.sigma_bar)[0] for x in chain50N30])\n",
    "plt.plot(first_sbar_chain50N30)\n",
    "first_sbar_chain50N30_sec = np.array([to_numpy(x.sigma_bar)[0] for x in chain50N30_sec])\n",
    "#plt.plot(first_sbar_chain50N30_sec)\n",
    "\n",
    "last_sbar_chain50N30 = np.array([to_numpy(x.sigma_bar)[-1] for x in chain50N30])\n",
    "#plt.plot(last_sbar_chain50N30)\n",
    "last_sbar_chain50N30_sec = np.array([to_numpy(x.sigma_bar)[-1] for x in chain50N30_sec])\n",
    "plt.plot(last_sbar_chain50N30_sec)\n"
   ]
  },
  {
   "cell_type": "code",
   "execution_count": 10,
   "id": "honest-government",
   "metadata": {},
   "outputs": [
    {
     "data": {
      "image/png": "[encoded data removed]",
      "text/plain": [
       "<Figure size 432x288 with 4 Axes>"
      ]
     },
     "metadata": {
      "needs_background": "light"
     },
     "output_type": "display_data"
    }
   ],
   "source": [
    "first_sbar_chain50N30 = np.array([to_numpy(x.sigma_bar)[0] for x in chain50N30])\n",
    "first_sbar_chain50N30_sec = np.array([to_numpy(x.sigma_bar)[0] for x in chain50N30_sec])\n",
    "first_sbar_chain50N15 = np.array([to_numpy(x.sigma_bar)[0] for x in chain50N15])\n",
    "first_sbar_chain50N15_sec = np.array([to_numpy(x.sigma_bar)[0] for x in chain50N15_sec])\n",
    "\n",
    "fig_sigma_first = plt.figure()\n",
    "ax1 = fig_sigma_first.add_subplot(221)\n",
    "ax1.plot(first_sbar_chain50N30)\n",
    "plt.title('first sigmabar50 N30')\n",
    "\n",
    "ax2 = fig_sigma_first.add_subplot(222)\n",
    "ax2.plot(first_sbar_chain50N30_sec)\n",
    "plt.title('first sigmabar50 N30_sec')\n",
    "\n",
    "ax3 = fig_sigma_first.add_subplot(223)\n",
    "ax3.plot(first_sbar_chain50N15)\n",
    "plt.title('first sigmabar50 N15')\n",
    "\n",
    "ax4 = fig_sigma_first.add_subplot(224)\n",
    "ax4.plot(first_sbar_chain50N15_sec)\n",
    "plt.title('first sigmabar50 N15_sec')\n",
    "\n",
    "plt.subplots_adjust(hspace=0.4)\n",
    "#first_sigma_bar_chain200 = np.array([to_numpy(x.sigma_bar)[0] for x in chain200])\n"
   ]
  },
  {
   "cell_type": "code",
   "execution_count": 11,
   "id": "english-lesson",
   "metadata": {},
   "outputs": [
    {
     "data": {
      "image/png": "[encoded data removed]",
      "text/plain": [
       "<Figure size 432x288 with 4 Axes>"
      ]
     },
     "metadata": {
      "needs_background": "light"
     },
     "output_type": "display_data"
    }
   ],
   "source": [
    "last_sbar_chain50N30 = np.array([to_numpy(x.sigma_bar)[-1] for x in chain50N30])\n",
    "last_sbar_chain50N30_sec = np.array([to_numpy(x.sigma_bar)[-1] for x in chain50N30_sec])\n",
    "last_sbar_chain50N15 = np.array([to_numpy(x.sigma_bar)[-1] for x in chain50N15])\n",
    "last_sbar_chain50N15_sec = np.array([to_numpy(x.sigma_bar)[-1] for x in chain50N15_sec])\n",
    "\n",
    "fig_sigma_last = plt.figure()\n",
    "ax1 = fig_sigma_last.add_subplot(221)\n",
    "ax1.plot(last_sbar_chain50N30)\n",
    "plt.title('last sigmabar50 N30')\n",
    "\n",
    "ax2 = fig_sigma_last.add_subplot(222)\n",
    "ax2.plot(last_sbar_chain50N30_sec)\n",
    "plt.title('last sigmabar50 N30_sec')\n",
    "\n",
    "ax3 = fig_sigma_last.add_subplot(223)\n",
    "ax3.plot(last_sbar_chain50N15)\n",
    "plt.title('last sigmabar50 N15')\n",
    "\n",
    "ax4 = fig_sigma_last.add_subplot(224)\n",
    "ax4.plot(last_sbar_chain50N15_sec)\n",
    "plt.title('last sigmabar50 N15_sec')\n",
    "\n",
    "plt.subplots_adjust(hspace=0.4)#last_sigma_bar_chain200 = np.array([to_numpy(x.sigma_bar)[-1] for x in chain200])"
   ]
  },
  {
   "cell_type": "code",
   "execution_count": 26,
   "id": "bigger-gnome",
   "metadata": {},
   "outputs": [
    {
     "data": {
      "image/png": "[encoded data removed]",
      "text/plain": [
       "<Figure size 432x288 with 4 Axes>"
      ]
     },
     "metadata": {
      "needs_background": "light"
     },
     "output_type": "display_data"
    }
   ],
   "source": [
    "fig_sigma = plt.figure()\n",
    "ax1 = fig_sigma.add_subplot(221)\n",
    "ax1.plot(first_sigma_bar_chain50)\n",
    "plt.title('first sigmabar c50')\n",
    "\n",
    "ax2 = fig_sigma.add_subplot(222)\n",
    "ax2.plot(last_sigma_bar_chain50)\n",
    "plt.title('last sigmabar c50')\n",
    "\n",
    "ax3 = fig_sigma.add_subplot(223)\n",
    "#ax3.plot(first_sigma_bar_chain200)\n",
    "plt.title('first sigmabar c200')\n",
    "\n",
    "ax4 = fig_sigma.add_subplot(224)\n",
    "#ax4.plot(last_sigma_bar_chain200)\n",
    "plt.title('last sigmabar c200')\n",
    "\n",
    "plt.subplots_adjust(hspace=0.4)\n"
   ]
  },
  {
   "cell_type": "markdown",
   "id": "accepting-identity",
   "metadata": {},
   "source": [
    "# evaluate performance on simulate data: return performance dataframe "
   ]
  },
  {
   "cell_type": "code",
   "execution_count": 19,
   "id": "opposed-eating",
   "metadata": {},
   "outputs": [],
   "source": [
    "from scipy import stats\n",
    "from sklearn.metrics import adjusted_rand_score\n",
    "import pandas as pd\n",
    "from math import sqrt\n",
    "\n",
    "p = 50\n",
    "d = 2\n",
    "M = 4\n",
    "n_percluster_s = [50]\n",
    "list_performance = list()\n",
    "\n",
    "\n",
    "for n_percluster in n_percluster_s:\n",
    "    for N in [30]:\n",
    "        chain = loadChains(\"data/data_by_rule_student/chains_compare_CD/chains_p_50_d_2_M_4_nperclus_{0}_N_{1}_sec.recordio\".format(n_percluster,N), MultivariateMixtureState)\n",
    "        acc_rates = np.loadtxt(\"data/data_by_rule_student/chains_compare_CD/acc_rate_p_50_d_2_M_4_nperclus_{0}_N_{1}_sec.csv\".format(n_percluster,N), delimiter=',')\n",
    "\n",
    "        n_cluster_chain = np.array([x.ma for x in chain])\n",
    "        post_mode_nclus = stats.mode(n_cluster_chain)[0][0] # store in dataframe\n",
    "        post_avg_nclus = n_cluster_chain.mean() # store in dataframe\n",
    "\n",
    "        clus_alloc_chain = [x.clus_alloc for x in chain]\n",
    "        best_clus = cluster_estimate(np.array(clus_alloc_chain))\n",
    "        true_clus = np.repeat(range(M),n_percluster)\n",
    "        ari_best_clus = adjusted_rand_score(true_clus, best_clus) # store in dataframe\n",
    "\n",
    "        aris_chain = np.array([adjusted_rand_score(true_clus, x) for x in clus_alloc_chain])\n",
    "        mean_aris, sigma_aris = np.mean(aris_chain), np.std(aris_chain) # store mean_aris in dataframe\n",
    "        CI_aris = stats.norm.interval(0.95, loc=mean_aris, scale=sigma_aris/sqrt(len(aris_chain))) # store in dataframe\n",
    "\n",
    "        list_performance.append([p,d,M,n_percluster,N,\"no\",acc_rates[0],acc_rates[1],post_mode_nclus,\n",
    "                            post_avg_nclus,ari_best_clus,mean_aris,CI_aris])\n",
    "        \n",
    "        \n",
    "df_performance = pd.DataFrame(list_performance, columns=('dim_p', 'dim_d', 'dim_M', 'dim_n_pc', 'dim_N','sec', 'means_ar','lambda_ar',\n",
    "                                      'mode_nclus', 'avg_nclus', 'ari_best_clus', 'mean_ari', 'CI_ari'))\n",
    "    \n"
   ]
  },
  {
   "cell_type": "code",
   "execution_count": 20,
   "id": "right-devices",
   "metadata": {},
   "outputs": [
    {
     "data": {
      "text/html": [
       "<div>\n",
       "<style scoped>\n",
       "    .dataframe tbody tr th:only-of-type {\n",
       "        vertical-align: middle;\n",
       "    }\n",
       "\n",
       "    .dataframe tbody tr th {\n",
       "        vertical-align: top;\n",
       "    }\n",
       "\n",
       "    .dataframe thead th {\n",
       "        text-align: right;\n",
       "    }\n",
       "</style>\n",
       "<table border=\"1\" class=\"dataframe\">\n",
       "  <thead>\n",
       "    <tr style=\"text-align: right;\">\n",
       "      <th></th>\n",
       "      <th>dim_p</th>\n",
       "      <th>dim_d</th>\n",
       "      <th>dim_M</th>\n",
       "      <th>dim_n_pc</th>\n",
       "      <th>dim_N</th>\n",
       "      <th>sec</th>\n",
       "      <th>means_ar</th>\n",
       "      <th>lambda_ar</th>\n",
       "      <th>mode_nclus</th>\n",
       "      <th>avg_nclus</th>\n",
       "      <th>ari_best_clus</th>\n",
       "      <th>mean_ari</th>\n",
       "      <th>CI_ari</th>\n",
       "    </tr>\n",
       "  </thead>\n",
       "  <tbody>\n",
       "    <tr>\n",
       "      <th>0</th>\n",
       "      <td>50</td>\n",
       "      <td>2</td>\n",
       "      <td>4</td>\n",
       "      <td>50</td>\n",
       "      <td>30</td>\n",
       "      <td>no</td>\n",
       "      <td>0.321995</td>\n",
       "      <td>0.124756</td>\n",
       "      <td>4</td>\n",
       "      <td>4.500333</td>\n",
       "      <td>1.0</td>\n",
       "      <td>0.98782</td>\n",
       "      <td>(0.9872262490361977, 0.9884139241023681)</td>\n",
       "    </tr>\n",
       "  </tbody>\n",
       "</table>\n",
       "</div>"
      ],
      "text/plain": [
       "   dim_p  dim_d  dim_M  dim_n_pc  dim_N sec  means_ar  lambda_ar  mode_nclus  \\\n",
       "0     50      2      4        50     30  no  0.321995   0.124756           4   \n",
       "\n",
       "   avg_nclus  ari_best_clus  mean_ari  \\\n",
       "0   4.500333            1.0   0.98782   \n",
       "\n",
       "                                     CI_ari  \n",
       "0  (0.9872262490361977, 0.9884139241023681)  "
      ]
     },
     "execution_count": 20,
     "metadata": {},
     "output_type": "execute_result"
    }
   ],
   "source": [
    "df_performance"
   ]
  },
  {
   "cell_type": "code",
   "execution_count": 16,
   "id": "fixed-procurement",
   "metadata": {},
   "outputs": [],
   "source": [
    "from scipy import stats\n",
    "from sklearn.metrics import adjusted_rand_score\n",
    "import pandas as pd\n",
    "from math import sqrt\n",
    "\n",
    "p = 50\n",
    "d = 2\n",
    "M = 4\n",
    "n_percluster_s = [50]\n",
    "list_performance = list()\n",
    "\n",
    "\n",
    "for n_percluster in n_percluster_s:\n",
    "    for N in [15,30]:\n",
    "        chain = loadChains(\"data/data_by_rule_student/chains_compare_CD/chains_p_50_d_2_M_4_nperclus_{0}_N_{1}.recordio\".format(n_percluster,N), MultivariateMixtureState)\n",
    "        acc_rates = np.loadtxt(\"data/data_by_rule_student/chains_compare_CD/acc_rate_p_50_d_2_M_4_nperclus_{0}_N_{1}.csv\".format(n_percluster,N), delimiter=',')\n",
    "\n",
    "        n_cluster_chain = np.array([x.ma for x in chain])\n",
    "        post_mode_nclus = stats.mode(n_cluster_chain)[0][0] # store in dataframe\n",
    "        post_avg_nclus = n_cluster_chain.mean() # store in dataframe\n",
    "\n",
    "        clus_alloc_chain = [x.clus_alloc for x in chain]\n",
    "        best_clus = cluster_estimate(np.array(clus_alloc_chain))\n",
    "        true_clus = np.repeat(range(M),n_percluster)\n",
    "        ari_best_clus = adjusted_rand_score(true_clus, best_clus) # store in dataframe\n",
    "\n",
    "        aris_chain = np.array([adjusted_rand_score(true_clus, x) for x in clus_alloc_chain])\n",
    "        mean_aris, sigma_aris = np.mean(aris_chain), np.std(aris_chain) # store mean_aris in dataframe\n",
    "        CI_aris = stats.norm.interval(0.95, loc=mean_aris, scale=sigma_aris/sqrt(len(aris_chain))) # store in dataframe\n",
    "\n",
    "        list_performance.append([p,d,M,n_percluster,N,\"no\",acc_rates[0],acc_rates[1],post_mode_nclus,\n",
    "                            post_avg_nclus,ari_best_clus,mean_aris,CI_aris])\n",
    "\n",
    "        \n",
    "for n_percluster in n_percluster_s:\n",
    "    for N in [15,30]:\n",
    "        chain = loadChains(\"data/data_by_rule/chains_compare_CD/chains_p_50_d_2_M_4_nperclus_{0}_N_{1}_sec.recordio\".format(n_percluster,N), MultivariateMixtureState)\n",
    "        acc_rates = np.loadtxt(\"data/data_by_rule/chains_compare_CD/acc_rate_p_50_d_2_M_4_nperclus_{0}_N_{1}_sec.csv\".format(n_percluster,N), delimiter=',')\n",
    "\n",
    "        n_cluster_chain = np.array([x.ma for x in chain])\n",
    "        post_mode_nclus = stats.mode(n_cluster_chain)[0][0] # store in dataframe\n",
    "        post_avg_nclus = n_cluster_chain.mean() # store in dataframe\n",
    "\n",
    "        clus_alloc_chain = [x.clus_alloc for x in chain]\n",
    "        best_clus = cluster_estimate(np.array(clus_alloc_chain))\n",
    "        true_clus = np.repeat(range(M),n_percluster)\n",
    "        ari_best_clus = adjusted_rand_score(true_clus, best_clus) # store in dataframe\n",
    "\n",
    "        aris_chain = np.array([adjusted_rand_score(true_clus, x) for x in clus_alloc_chain])\n",
    "        mean_aris, sigma_aris = np.mean(aris_chain), np.std(aris_chain) # store mean_aris in dataframe\n",
    "        CI_aris = stats.norm.interval(0.95, loc=mean_aris, scale=sigma_aris/sqrt(len(aris_chain))) # store in dataframe\n",
    "\n",
    "        list_performance.append([p,d,M,n_percluster,N,\"yes\",acc_rates[0],acc_rates[1],post_mode_nclus,\n",
    "                            post_avg_nclus,ari_best_clus,mean_aris,CI_aris])\n",
    "\n",
    "\n",
    "    \n",
    "df_performance = pd.DataFrame(list_performance, columns=('dim_p', 'dim_d', 'dim_M', 'dim_n_pc', 'dim_N','sec', 'means_ar','lambda_ar',\n",
    "                                      'mode_nclus', 'avg_nclus', 'ari_best_clus', 'mean_ari', 'CI_ari'))\n",
    "    \n"
   ]
  },
  {
   "cell_type": "code",
   "execution_count": 17,
   "id": "formal-biology",
   "metadata": {},
   "outputs": [
    {
     "data": {
      "text/html": [
       "<div>\n",
       "<style scoped>\n",
       "    .dataframe tbody tr th:only-of-type {\n",
       "        vertical-align: middle;\n",
       "    }\n",
       "\n",
       "    .dataframe tbody tr th {\n",
       "        vertical-align: top;\n",
       "    }\n",
       "\n",
       "    .dataframe thead th {\n",
       "        text-align: right;\n",
       "    }\n",
       "</style>\n",
       "<table border=\"1\" class=\"dataframe\">\n",
       "  <thead>\n",
       "    <tr style=\"text-align: right;\">\n",
       "      <th></th>\n",
       "      <th>dim_p</th>\n",
       "      <th>dim_d</th>\n",
       "      <th>dim_M</th>\n",
       "      <th>dim_n_pc</th>\n",
       "      <th>dim_N</th>\n",
       "      <th>sec</th>\n",
       "      <th>means_ar</th>\n",
       "      <th>lambda_ar</th>\n",
       "      <th>mode_nclus</th>\n",
       "      <th>avg_nclus</th>\n",
       "      <th>ari_best_clus</th>\n",
       "      <th>mean_ari</th>\n",
       "      <th>CI_ari</th>\n",
       "    </tr>\n",
       "  </thead>\n",
       "  <tbody>\n",
       "    <tr>\n",
       "      <th>0</th>\n",
       "      <td>50</td>\n",
       "      <td>2</td>\n",
       "      <td>4</td>\n",
       "      <td>50</td>\n",
       "      <td>15</td>\n",
       "      <td>no</td>\n",
       "      <td>0.483343</td>\n",
       "      <td>0.129533</td>\n",
       "      <td>4</td>\n",
       "      <td>4.0490</td>\n",
       "      <td>1.0</td>\n",
       "      <td>0.999009</td>\n",
       "      <td>(0.9987747379516979, 0.9992436186914521)</td>\n",
       "    </tr>\n",
       "    <tr>\n",
       "      <th>1</th>\n",
       "      <td>50</td>\n",
       "      <td>2</td>\n",
       "      <td>4</td>\n",
       "      <td>50</td>\n",
       "      <td>30</td>\n",
       "      <td>no</td>\n",
       "      <td>0.125313</td>\n",
       "      <td>0.162367</td>\n",
       "      <td>4</td>\n",
       "      <td>4.0005</td>\n",
       "      <td>1.0</td>\n",
       "      <td>0.999461</td>\n",
       "      <td>(0.9993440923918263, 0.9995774384593866)</td>\n",
       "    </tr>\n",
       "    <tr>\n",
       "      <th>2</th>\n",
       "      <td>50</td>\n",
       "      <td>2</td>\n",
       "      <td>4</td>\n",
       "      <td>50</td>\n",
       "      <td>15</td>\n",
       "      <td>yes</td>\n",
       "      <td>0.290918</td>\n",
       "      <td>0.367233</td>\n",
       "      <td>4</td>\n",
       "      <td>4.0000</td>\n",
       "      <td>1.0</td>\n",
       "      <td>0.997194</td>\n",
       "      <td>(0.9969334421867165, 0.997454850546528)</td>\n",
       "    </tr>\n",
       "    <tr>\n",
       "      <th>3</th>\n",
       "      <td>50</td>\n",
       "      <td>2</td>\n",
       "      <td>4</td>\n",
       "      <td>50</td>\n",
       "      <td>30</td>\n",
       "      <td>yes</td>\n",
       "      <td>0.281671</td>\n",
       "      <td>0.127567</td>\n",
       "      <td>4</td>\n",
       "      <td>4.0000</td>\n",
       "      <td>1.0</td>\n",
       "      <td>0.999806</td>\n",
       "      <td>(0.9997354757744913, 0.9998758917437948)</td>\n",
       "    </tr>\n",
       "  </tbody>\n",
       "</table>\n",
       "</div>"
      ],
      "text/plain": [
       "   dim_p  dim_d  dim_M  dim_n_pc  dim_N  sec  means_ar  lambda_ar  mode_nclus  \\\n",
       "0     50      2      4        50     15   no  0.483343   0.129533           4   \n",
       "1     50      2      4        50     30   no  0.125313   0.162367           4   \n",
       "2     50      2      4        50     15  yes  0.290918   0.367233           4   \n",
       "3     50      2      4        50     30  yes  0.281671   0.127567           4   \n",
       "\n",
       "   avg_nclus  ari_best_clus  mean_ari  \\\n",
       "0     4.0490            1.0  0.999009   \n",
       "1     4.0005            1.0  0.999461   \n",
       "2     4.0000            1.0  0.997194   \n",
       "3     4.0000            1.0  0.999806   \n",
       "\n",
       "                                     CI_ari  \n",
       "0  (0.9987747379516979, 0.9992436186914521)  \n",
       "1  (0.9993440923918263, 0.9995774384593866)  \n",
       "2   (0.9969334421867165, 0.997454850546528)  \n",
       "3  (0.9997354757744913, 0.9998758917437948)  "
      ]
     },
     "execution_count": 17,
     "metadata": {},
     "output_type": "execute_result"
    }
   ],
   "source": [
    "df_performance"
   ]
  },
  {
   "cell_type": "markdown",
   "id": "corrected-instrumentation",
   "metadata": {},
   "source": [
    "# Remark: sia N30 che N15 danno stessi risultati, N15_sec non lo uso. \n",
    "N15 ha buon acceptance rate\n",
    "\n",
    "N30 ha comunque buono acceptance rate\n",
    "\n",
    "N30_sec ha acc rate per means più alto, però leggermente peggiore randindex"
   ]
  },
  {
   "cell_type": "markdown",
   "id": "balanced-pointer",
   "metadata": {},
   "source": [
    "# loading and parsing CD output"
   ]
  },
  {
   "cell_type": "code",
   "execution_count": 17,
   "id": "parental-cisco",
   "metadata": {},
   "outputs": [],
   "source": [
    "with open(\"data/data_by_rule_student/alloc_matrix_CD/alloc_matrix_p50_d2.csv\", newline='') as my_csv:\n",
    "    alloc_matrix = pd.read_csv(my_csv, sep=',', header=None).values\n"
   ]
  },
  {
   "cell_type": "code",
   "execution_count": 37,
   "id": "running-closer",
   "metadata": {},
   "outputs": [],
   "source": [
    "list_performance = list()\n",
    "n_cluster_chain_CD = np.array([len(np.unique(alloc_matrix[i,:])) for i in range(alloc_matrix.shape[0])])\n",
    "post_mode_nclus_CD = stats.mode(n_cluster_chain_CD)[0][0] # store in dataframe\n",
    "post_avg_nclus_CD = n_cluster_chain_CD.mean() # store in dataframe\n",
    "\n",
    "best_clus_CD = cluster_estimate(alloc_matrix)\n",
    "true_clus = np.repeat(range(M),n_percluster)\n",
    "ari_best_clus_CD = adjusted_rand_score(true_clus, best_clus_CD) # store in dataframe\n",
    "\n",
    "aris_chain_CD = np.array([adjusted_rand_score(true_clus, alloc_matrix[i,:]) for i in range(alloc_matrix.shape[0])])\n",
    "mean_aris_CD, sigma_aris_CD = np.mean(aris_chain_CD), np.std(aris_chain_CD) # store mean_aris in dataframe\n",
    "CI_aris_CD = stats.norm.interval(0.95, loc=mean_aris_CD, scale=sigma_aris_CD/sqrt(len(aris_chain_CD))) # store in dataframe\n",
    "list_performance.append([p,d,M,n_percluster,post_mode_nclus_CD,\n",
    "                            post_avg_nclus_CD,ari_best_clus_CD,mean_aris_CD,CI_aris_CD])\n",
    "\n",
    "df_performance_CD = pd.DataFrame(list_performance, columns=('dim_p', 'dim_d', 'dim_M', 'dim_n_pc','mode_nclus', 'avg_nclus', 'ari_best_clus', 'mean_ari', 'CI_ari'))\n",
    "    "
   ]
  },
  {
   "cell_type": "code",
   "execution_count": 38,
   "id": "diverse-stevens",
   "metadata": {},
   "outputs": [
    {
     "data": {
      "text/html": [
       "<div>\n",
       "<style scoped>\n",
       "    .dataframe tbody tr th:only-of-type {\n",
       "        vertical-align: middle;\n",
       "    }\n",
       "\n",
       "    .dataframe tbody tr th {\n",
       "        vertical-align: top;\n",
       "    }\n",
       "\n",
       "    .dataframe thead th {\n",
       "        text-align: right;\n",
       "    }\n",
       "</style>\n",
       "<table border=\"1\" class=\"dataframe\">\n",
       "  <thead>\n",
       "    <tr style=\"text-align: right;\">\n",
       "      <th></th>\n",
       "      <th>dim_p</th>\n",
       "      <th>dim_d</th>\n",
       "      <th>dim_M</th>\n",
       "      <th>dim_n_pc</th>\n",
       "      <th>mode_nclus</th>\n",
       "      <th>avg_nclus</th>\n",
       "      <th>ari_best_clus</th>\n",
       "      <th>mean_ari</th>\n",
       "      <th>CI_ari</th>\n",
       "    </tr>\n",
       "  </thead>\n",
       "  <tbody>\n",
       "    <tr>\n",
       "      <th>0</th>\n",
       "      <td>50</td>\n",
       "      <td>2</td>\n",
       "      <td>4</td>\n",
       "      <td>50</td>\n",
       "      <td>7</td>\n",
       "      <td>7.453</td>\n",
       "      <td>0.919105</td>\n",
       "      <td>0.89136</td>\n",
       "      <td>(0.8881559456208481, 0.894564836490785)</td>\n",
       "    </tr>\n",
       "  </tbody>\n",
       "</table>\n",
       "</div>"
      ],
      "text/plain": [
       "   dim_p  dim_d  dim_M  dim_n_pc  mode_nclus  avg_nclus  ari_best_clus  \\\n",
       "0     50      2      4        50           7      7.453       0.919105   \n",
       "\n",
       "   mean_ari                                   CI_ari  \n",
       "0   0.89136  (0.8881559456208481, 0.894564836490785)  "
      ]
     },
     "execution_count": 38,
     "metadata": {},
     "output_type": "execute_result"
    }
   ],
   "source": [
    "df_performance_CD"
   ]
  },
  {
   "cell_type": "code",
   "execution_count": 24,
   "id": "nonprofit-bracelet",
   "metadata": {},
   "outputs": [
    {
     "data": {
      "text/plain": [
       "array([1, 1, 3, 1, 1])"
      ]
     },
     "execution_count": 24,
     "metadata": {},
     "output_type": "execute_result"
    }
   ],
   "source": [
    "cou"
   ]
  }
 ],
 "metadata": {
  "kernelspec": {
   "display_name": "Python 3",
   "language": "python",
   "name": "python3"
  },
  "language_info": {
   "codemirror_mode": {
    "name": "ipython",
    "version": 3
   },
   "file_extension": ".py",
   "mimetype": "text/x-python",
   "name": "python",
   "nbconvert_exporter": "python",
   "pygments_lexer": "ipython3",
   "version": "3.8.5"
  }
 },
 "nbformat": 4,
 "nbformat_minor": 5
}
