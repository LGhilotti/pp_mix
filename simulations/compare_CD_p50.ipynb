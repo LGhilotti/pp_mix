{
 "cells": [
  {
   "cell_type": "code",
   "execution_count": 12,
   "id": "exact-photographer",
   "metadata": {},
   "outputs": [
    {
     "ename": "ModuleNotFoundError",
     "evalue": "No module named 'pp_mix'",
     "output_type": "error",
     "traceback": [
      "\u001b[0;31m---------------------------------------------------------------------------\u001b[0m",
      "\u001b[0;31mModuleNotFoundError\u001b[0m                       Traceback (most recent call last)",
      "\u001b[0;32m<ipython-input-12-69aec1feff98>\u001b[0m in \u001b[0;36m<module>\u001b[0;34m\u001b[0m\n\u001b[1;32m     10\u001b[0m \u001b[0;32mfrom\u001b[0m \u001b[0mscipy\u001b[0m\u001b[0;34m.\u001b[0m\u001b[0mstats\u001b[0m \u001b[0;32mimport\u001b[0m \u001b[0mnorm\u001b[0m\u001b[0;34m\u001b[0m\u001b[0;34m\u001b[0m\u001b[0m\n\u001b[1;32m     11\u001b[0m \u001b[0;32mfrom\u001b[0m \u001b[0mscipy\u001b[0m\u001b[0;34m.\u001b[0m\u001b[0minterpolate\u001b[0m \u001b[0;32mimport\u001b[0m \u001b[0mgriddata\u001b[0m\u001b[0;34m\u001b[0m\u001b[0;34m\u001b[0m\u001b[0m\n\u001b[0;32m---> 12\u001b[0;31m \u001b[0;32mimport\u001b[0m \u001b[0mpp_mix\u001b[0m\u001b[0;34m.\u001b[0m\u001b[0mprotos\u001b[0m\u001b[0;34m.\u001b[0m\u001b[0mpy\u001b[0m\u001b[0;34m.\u001b[0m\u001b[0mparams_pb2\u001b[0m \u001b[0;32mas\u001b[0m \u001b[0mparams_pb2\u001b[0m\u001b[0;34m\u001b[0m\u001b[0;34m\u001b[0m\u001b[0m\n\u001b[0m\u001b[1;32m     13\u001b[0m \u001b[0;32mimport\u001b[0m \u001b[0mstatistics\u001b[0m \u001b[0;32mas\u001b[0m \u001b[0mstat\u001b[0m\u001b[0;34m\u001b[0m\u001b[0;34m\u001b[0m\u001b[0m\n\u001b[1;32m     14\u001b[0m \u001b[0;34m\u001b[0m\u001b[0m\n",
      "\u001b[0;31mModuleNotFoundError\u001b[0m: No module named 'pp_mix'"
     ]
    }
   ],
   "source": [
    "import numpy as np\n",
    "import arviz as az\n",
    "import math\n",
    "# import pymc3 as pm\n",
    "import pickle\n",
    "import matplotlib.pyplot as plt\n",
    "from google.protobuf import text_format\n",
    "from scipy.stats import multivariate_normal as mvn\n",
    "from scipy.stats import skewnorm\n",
    "from scipy.stats import norm\n",
    "from scipy.interpolate import griddata\n",
    "import pp_mix.protos.py.params_pb2 as params_pb2\n",
    "import statistics as stat\n",
    "\n",
    "from pp_mix.interface import ConditionalMCMC, cluster_estimate\n",
    "from pp_mix.utils import loadChains, to_numpy, to_proto\n",
    "from pp_mix.protos.py.state_pb2 import MultivariateMixtureState, EigenVector, EigenMatrix\n",
    "from pp_mix.protos.py.params_pb2 import Params"
   ]
  },
  {
   "cell_type": "code",
   "execution_count": 2,
   "id": "simplified-feeding",
   "metadata": {},
   "outputs": [
    {
     "name": "stdout",
     "output_type": "stream",
     "text": [
      "(200, 50)\n"
     ]
    }
   ],
   "source": [
    "import pandas as pd\n",
    "with open(\"data/data_by_rule_student/p_50_d_2_M_4_nperclus_50_data.csv\", newline='') as my_csv:\n",
    "    data = pd.read_csv(my_csv, sep=',', header=None).values\n",
    "    \n",
    "print(data.shape)"
   ]
  },
  {
   "cell_type": "code",
   "execution_count": 2,
   "id": "visible-dictionary",
   "metadata": {
    "scrolled": false
   },
   "outputs": [
    {
     "name": "stdout",
     "output_type": "stream",
     "text": [
      "Running p=50 d=2 M=4 nperclus=50\n",
      "Number means in trick phase:  10\n",
      "Trick, iter # 1000  /  5000\n",
      "Trick, iter # 2000  /  5000\n",
      "Trick, iter # 3000  /  5000\n",
      "Trick, iter # 4000  /  5000\n",
      "Trick, iter # 5000  /  5000\n",
      "Burnin, iter # 1000  /  20000\n",
      "Burnin, iter # 2000  /  20000\n",
      "Burnin, iter # 3000  /  20000\n",
      "Burnin, iter # 4000  /  20000\n",
      "Burnin, iter # 5000  /  20000\n",
      "Burnin, iter # 6000  /  20000\n",
      "Burnin, iter # 7000  /  20000\n",
      "Burnin, iter # 8000  /  20000\n",
      "Burnin, iter # 9000  /  20000\n",
      "Burnin, iter # 10000  /  20000\n",
      "Burnin, iter # 11000  /  20000\n",
      "Burnin, iter # 12000  /  20000\n",
      "Burnin, iter # 13000  /  20000\n",
      "Burnin, iter # 14000  /  20000\n",
      "Burnin, iter # 15000  /  20000\n",
      "Burnin, iter # 16000  /  20000\n",
      "Burnin, iter # 17000  /  20000\n",
      "Burnin, iter # 18000  /  20000\n",
      "Burnin, iter # 19000  /  20000\n",
      "Burnin, iter # 20000  /  20000\n",
      "Running, iter # 1000  /  20000\n",
      "Running, iter # 2000  /  20000\n",
      "Running, iter # 3000  /  20000\n",
      "Running, iter # 4000  /  20000\n",
      "Running, iter # 5000  /  20000\n",
      "Running, iter # 6000  /  20000\n",
      "Running, iter # 7000  /  20000\n",
      "Running, iter # 8000  /  20000\n",
      "Running, iter # 9000  /  20000\n",
      "Running, iter # 10000  /  20000\n",
      "Running, iter # 11000  /  20000\n",
      "Running, iter # 12000  /  20000\n",
      "Running, iter # 13000  /  20000\n",
      "Running, iter # 14000  /  20000\n",
      "Running, iter # 15000  /  20000\n",
      "Running, iter # 16000  /  20000\n",
      "Running, iter # 17000  /  20000\n",
      "Running, iter # 18000  /  20000\n",
      "Running, iter # 19000  /  20000\n",
      "Running, iter # 20000  /  20000\n",
      "Allocated Means acceptance rate  0.393766064356116995970324978770804591476917266845703125\n",
      "Lambda acceptance rate  0.054688888888888891048889462354054558090865612030029296875\n"
     ]
    }
   ],
   "source": [
    "import pandas as pd\n",
    "p = 50\n",
    "d = 2\n",
    "M = 4\n",
    "n_percluster_s = [50]\n",
    "\n",
    "log_every = 1000\n",
    "ntrick = 5000\n",
    "nburn = 20000\n",
    "niter = 20000\n",
    "thin = 5\n",
    "\n",
    "#for n_pc in n_percluster_s:\n",
    "n_pc=50\n",
    "\n",
    "print(\"Running p=50 d=2 M=4 nperclus={0}\".format(n_pc))\n",
    "with open(\"data/data_by_rule_student/p_50_d_2_M_4_nperclus_{0}_data.csv\".format(n_pc), newline='') as my_csv:\n",
    "    data = pd.read_csv(my_csv, sep=',', header=None).values\n",
    "\n",
    "ranges = np.array([[-20,20],]*d).transpose()\n",
    "\n",
    "#sampler = ConditionalMCMC(params_file = \"data/data_by_rule_student/params_compare_CD/sp_p_50_d_2_M_4_n_50_N_30.asciipb\")\n",
    "#sampler.run(ntrick, nburn, niter, thin, data, ranges, log_every)\n",
    "#sampler.serialize_chains(\"data/data_by_rule_student/chains_compare_CD/chains_R20_p_50_d_2_M_4_nperclus_50_N_30.recordio\")\n",
    "#acc_rates = np.array([sampler.means_ar, sampler.lambda_ar])\n",
    "#np.savetxt(\"data/data_by_rule_student/chains_compare_CD/acc_rate_R20_p_50_d_2_M_4_nperclus_50_N_30.csv\", acc_rates, delimiter=\",\")\n",
    "\n",
    "\n",
    "#sampler0 = ConditionalMCMC(params_file = \"data/data_by_rule_student/params_compare_CD/c50_s95_sp_p_50_d_2_M_4_n_50_N_30.asciipb\")\n",
    "#sampler0.run(ntrick, nburn, niter, thin, data, ranges, log_every)\n",
    "#sampler0.serialize_chains(\"data/data_by_rule_student/chains_compare_CD/chains_c50_s95_p_50_d_2_M_4_nperclus_50_N_30.recordio\")\n",
    "#acc_rates0 = np.array([sampler0.means_ar, sampler0.lambda_ar])\n",
    "#np.savetxt(\"data/data_by_rule_student/chains_compare_CD/acc_rate_c50_s95_p_50_d_2_M_4_nperclus_50_N_30.csv\", acc_rates0, delimiter=\",\")\n",
    "\n",
    "\n",
    "#sampler1 = ConditionalMCMC(params_file = \"data/data_by_rule_student/params_compare_CD/sp_p_50_d_2_M_4_n_50_N_30.asciipb\")\n",
    "#sampler1.run(ntrick, nburn, niter, thin, data, ranges, log_every)\n",
    "#sampler1.serialize_chains(\"data/data_by_rule_student/chains_compare_CD/chains_p_50_d_2_M_4_nperclus_50_N_30.recordio\")\n",
    "#acc_rates1 = np.array([sampler1.means_ar, sampler1.lambda_ar])\n",
    "#np.savetxt(\"data/data_by_rule_student/chains_compare_CD/acc_rate_p_50_d_2_M_4_nperclus_50_N_30.csv\", acc_rates1, delimiter=\",\")\n",
    "\n",
    "\n",
    "#sampler2 = ConditionalMCMC(params_file = \"data/data_by_rule_student/params_compare_CD/sp_p_50_d_2_M_4_n_50_N_30_sec.asciipb\")\n",
    "#sampler2.run(ntrick, nburn, niter, thin, data, ranges, log_every)\n",
    "#sampler2.serialize_chains(\"data/data_by_rule_student/chains_compare_CD/chains_p_50_d_2_M_4_nperclus_50_N_30_sec.recordio\")\n",
    "#acc_rates2 = np.array([sampler2.means_ar, sampler2.lambda_ar])\n",
    "#np.savetxt(\"data/data_by_rule_student/chains_compare_CD/acc_rate_p_50_d_2_M_4_nperclus_50_N_30_sec.csv\", acc_rates2, delimiter=\",\")\n",
    "\n",
    "\n",
    "#sampler3 = ConditionalMCMC(params_file = \"data/data_by_rule_student/params_compare_CD/sp_p_50_d_2_M_4_n_50_N_15.asciipb\")\n",
    "#sampler3.run(ntrick, nburn, niter, thin, data, ranges, log_every)\n",
    "#sampler3.serialize_chains(\"data/data_by_rule_student/chains_compare_CD/chains_p_50_d_2_M_4_nperclus_50_N_15.recordio\")\n",
    "#acc_rates3 = np.array([sampler3.means_ar, sampler3.lambda_ar])\n",
    "#np.savetxt(\"data/data_by_rule_student/chains_compare_CD/acc_rate_p_50_d_2_M_4_nperclus_50_N_15.csv\", acc_rates3, delimiter=\",\")\n",
    "\n",
    "\n",
    "#sampler4 = ConditionalMCMC(params_file = \"data/data_by_rule/params_compare_CD/sp_p_50_d_2_M_4_n_50_N_15_sec.asciipb\")\n",
    "#sampler4.run(ntrick, nburn, niter, thin, data, ranges, log_every)\n",
    "#sampler4.serialize_chains(\"data/data_by_rule/chains_compare_CD/chains_p_50_d_2_M_4_nperclus_50_N_15_sec.recordio\")\n",
    "#acc_rates4 = np.array([sampler4.means_ar, sampler4.lambda_ar])\n",
    "#np.savetxt(\"data/data_by_rule/chains_compare_CD/acc_rate_p_50_d_2_M_4_nperclus_50_N_15_sec.csv\", acc_rates4, delimiter=\",\")\n"
   ]
  },
  {
   "cell_type": "code",
   "execution_count": 3,
   "id": "continuing-hopkins",
   "metadata": {},
   "outputs": [],
   "source": [
    "#chain50N30 = loadChains(\"data/data_by_rule_student/chains_compare_CD/chains_p_50_d_2_M_4_nperclus_50_N_30.recordio\", MultivariateMixtureState)\n",
    "#chain50N30_sec = loadChains(\"data/data_by_rule_student/chains_compare_CD/chains_p_50_d_2_M_4_nperclus_50_N_30_sec.recordio\", MultivariateMixtureState)\n",
    "#chain50N15 = loadChains(\"data/data_by_rule_student/chains_compare_CD/chains_p_50_d_2_M_4_nperclus_50_N_15.recordio\", MultivariateMixtureState)\n",
    "#chain50N15_sec = loadChains(\"data/data_by_rule/chains_compare_CD/chains_p_50_d_2_M_4_nperclus_50_N_15_sec.recordio\", MultivariateMixtureState)\n",
    "chain_c150_N30 = loadChains(\"data/data_by_rule_student/chains_compare_CD/chains_R20_p_50_d_2_M_4_nperclus_50_N_30.recordio\", MultivariateMixtureState)\n",
    "\n",
    "\n",
    "#chain50N30_c50 = loadChains(\"data/data_by_rule_student/chains_compare_CD/chains_c50_s8_p_50_d_2_M_4_nperclus_50_N_30.recordio\", MultivariateMixtureState)\n",
    "#chain50N30_c50_s95 = loadChains(\"data/data_by_rule_student/chains_compare_CD/chains_c50_s95_p_50_d_2_M_4_nperclus_50_N_30.recordio\", MultivariateMixtureState)\n",
    "\n",
    "\n",
    "#chain200 = loadChains(\"data/data_by_rule/chains_compare_CD/chains_p_50_d_2_M_4_nperclus_200.recordio\", MultivariateMixtureState)\n"
   ]
  },
  {
   "cell_type": "code",
   "execution_count": 4,
   "id": "pursuant-serve",
   "metadata": {},
   "outputs": [
    {
     "name": "stdout",
     "output_type": "stream",
     "text": [
      "5.15475\n",
      "0.506\n"
     ]
    }
   ],
   "source": [
    "nc_chain_c100_N30 = np.array([x.ma for x in chain_c150_N30])\n",
    "nonall_c100_N30 = np.array([x.mna for x in chain_c150_N30])\n",
    "\n",
    "\n",
    "print(nc_chain_c100_N30.mean())\n",
    "print(nonall_c100_N30.mean())\n",
    "\n",
    "\n"
   ]
  },
  {
   "cell_type": "code",
   "execution_count": 27,
   "id": "confidential-citation",
   "metadata": {},
   "outputs": [
    {
     "name": "stdout",
     "output_type": "stream",
     "text": [
      "4.01675\n",
      "0.52075\n"
     ]
    },
    {
     "ename": "NameError",
     "evalue": "name 'chain50N30_sec' is not defined",
     "output_type": "error",
     "traceback": [
      "\u001b[0;31m---------------------------------------------------------------------------\u001b[0m",
      "\u001b[0;31mNameError\u001b[0m                                 Traceback (most recent call last)",
      "\u001b[0;32m<ipython-input-27-96e49933b2c1>\u001b[0m in \u001b[0;36m<module>\u001b[0;34m\u001b[0m\n\u001b[1;32m     12\u001b[0m \u001b[0;34m\u001b[0m\u001b[0m\n\u001b[1;32m     13\u001b[0m \u001b[0;34m\u001b[0m\u001b[0m\n\u001b[0;32m---> 14\u001b[0;31m \u001b[0mnc_chain50N30_sec\u001b[0m \u001b[0;34m=\u001b[0m \u001b[0mnp\u001b[0m\u001b[0;34m.\u001b[0m\u001b[0marray\u001b[0m\u001b[0;34m(\u001b[0m\u001b[0;34m[\u001b[0m\u001b[0mx\u001b[0m\u001b[0;34m.\u001b[0m\u001b[0mma\u001b[0m \u001b[0;32mfor\u001b[0m \u001b[0mx\u001b[0m \u001b[0;32min\u001b[0m \u001b[0mchain50N30_sec\u001b[0m\u001b[0;34m]\u001b[0m\u001b[0;34m)\u001b[0m\u001b[0;34m\u001b[0m\u001b[0;34m\u001b[0m\u001b[0m\n\u001b[0m\u001b[1;32m     15\u001b[0m \u001b[0mnonall_50N30_sec\u001b[0m \u001b[0;34m=\u001b[0m \u001b[0mnp\u001b[0m\u001b[0;34m.\u001b[0m\u001b[0marray\u001b[0m\u001b[0;34m(\u001b[0m\u001b[0;34m[\u001b[0m\u001b[0mx\u001b[0m\u001b[0;34m.\u001b[0m\u001b[0mmna\u001b[0m \u001b[0;32mfor\u001b[0m \u001b[0mx\u001b[0m \u001b[0;32min\u001b[0m \u001b[0mchain50N30_sec\u001b[0m\u001b[0;34m]\u001b[0m\u001b[0;34m)\u001b[0m\u001b[0;34m\u001b[0m\u001b[0;34m\u001b[0m\u001b[0m\n\u001b[1;32m     16\u001b[0m \u001b[0mprint\u001b[0m\u001b[0;34m(\u001b[0m\u001b[0mnc_chain50N30_sec\u001b[0m\u001b[0;34m.\u001b[0m\u001b[0mmean\u001b[0m\u001b[0;34m(\u001b[0m\u001b[0;34m)\u001b[0m\u001b[0;34m)\u001b[0m\u001b[0;34m\u001b[0m\u001b[0;34m\u001b[0m\u001b[0m\n",
      "\u001b[0;31mNameError\u001b[0m: name 'chain50N30_sec' is not defined"
     ]
    }
   ],
   "source": [
    "nc_chain50N30 = np.array([x.ma for x in chain50N30])\n",
    "nonall_50N30 = np.array([x.mna for x in chain50N30])\n",
    "\n",
    "#nc_chain200 = np.array([x.ma for x in chain200])\n",
    "#nonall_200 = np.array([x.mna for x in chain200])\n",
    "\n",
    "print(nc_chain50N30.mean())\n",
    "print(nonall_50N30.mean())\n",
    "\n",
    "#print(nc_chain200.mean())\n",
    "#print(nonall_200.mean())\n",
    "\n",
    "\n",
    "nc_chain50N30_sec = np.array([x.ma for x in chain50N30_sec])\n",
    "nonall_50N30_sec = np.array([x.mna for x in chain50N30_sec])\n",
    "print(nc_chain50N30_sec.mean())\n",
    "print(nonall_50N30_sec.mean())\n",
    "\n",
    "\n",
    "nc_chain50N15 = np.array([x.ma for x in chain50N15])\n",
    "nonall_50N15 = np.array([x.mna for x in chain50N15])\n",
    "print(nc_chain50N15.mean())\n",
    "print(nonall_50N15.mean())\n",
    "\n",
    "\n",
    "nc_chain50N15_sec = np.array([x.ma for x in chain50N15_sec])\n",
    "nonall_50N15_sec = np.array([x.mna for x in chain50N15_sec])\n",
    "print(nc_chain50N15_sec.mean())\n",
    "print(nonall_50N15_sec.mean())\n"
   ]
  },
  {
   "cell_type": "code",
   "execution_count": 8,
   "id": "adequate-contrast",
   "metadata": {},
   "outputs": [
    {
     "data": {
      "text/plain": [
       "[0, 0, 0, 0, 0, 0, 0, 0, 0, 0, 0, 0, 0, 0, 0, 0, 0, 0, 0, 0, 0, 0, 0, 0, 0, 0, 0, 0, 0, 0, 0, 0, 0, 0, 0, 0, 0, 0, 0, 0, 0, 0, 0, 0, 0, 0, 0, 0, 0, 0, 2, 2, 2, 2, 2, 2, 2, 2, 2, 2, 2, 2, 2, 2, 2, 2, 2, 2, 2, 2, 2, 2, 2, 2, 2, 2, 2, 2, 2, 2, 2, 2, 2, 2, 2, 2, 2, 2, 2, 2, 2, 2, 2, 2, 2, 2, 2, 2, 2, 2, 1, 1, 1, 1, 1, 1, 1, 1, 1, 1, 1, 1, 1, 1, 1, 1, 1, 1, 1, 1, 1, 1, 1, 1, 1, 1, 1, 1, 1, 1, 1, 1, 1, 1, 1, 1, 1, 1, 1, 1, 1, 1, 1, 1, 1, 1, 1, 1, 1, 1, 3, 3, 3, 3, 3, 3, 3, 3, 3, 3, 3, 3, 3, 3, 3, 3, 3, 3, 3, 3, 3, 3, 3, 3, 3, 3, 3, 3, 3, 3, 3, 3, 3, 3, 3, 3, 3, 3, 3, 3, 3, 3, 3, 3, 3, 3, 3, 3, 3, 3]"
      ]
     },
     "execution_count": 8,
     "metadata": {},
     "output_type": "execute_result"
    }
   ],
   "source": [
    "chain50N15[-1].clus_alloc\n",
    "#chain200[-1].clus_alloc"
   ]
  },
  {
   "cell_type": "markdown",
   "id": "thermal-battle",
   "metadata": {},
   "source": [
    "# check chain mixing on some variables "
   ]
  },
  {
   "cell_type": "code",
   "execution_count": 16,
   "id": "protective-orbit",
   "metadata": {},
   "outputs": [
    {
     "data": {
      "text/plain": [
       "[<matplotlib.lines.Line2D at 0x7f326d110640>]"
      ]
     },
     "execution_count": 16,
     "metadata": {},
     "output_type": "execute_result"
    },
    {
     "data": {
      "image/png": "[encoded data removed]",
      "text/plain": [
       "<Figure size 432x288 with 1 Axes>"
      ]
     },
     "metadata": {
      "needs_background": "light"
     },
     "output_type": "display_data"
    }
   ],
   "source": [
    "tau_chain50N30 = np.array([x.lamb_block.tau for x in chain_c150_N30])\n",
    "plt.plot(tau_chain50N30)\n"
   ]
  },
  {
   "cell_type": "code",
   "execution_count": 7,
   "id": "split-flashing",
   "metadata": {},
   "outputs": [],
   "source": [
    "tau_chain50N30 = np.array([x.lamb_block.tau for x in chain50N30])\n",
    "tau_chain50N30_sec = np.array([x.lamb_block.tau for x in chain50N30_sec])\n",
    "tau_chain50N15 = np.array([x.lamb_block.tau for x in chain50N15])\n",
    "tau_chain50N15_sec = np.array([x.lamb_block.tau for x in chain50N15_sec])\n",
    "\n",
    "#tau_chain200 = np.array([x.lamb_block.tau for x in chain200])"
   ]
  },
  {
   "cell_type": "code",
   "execution_count": 10,
   "id": "hungarian-amendment",
   "metadata": {},
   "outputs": [
    {
     "ename": "NameError",
     "evalue": "name 'tau_chain50N30' is not defined",
     "output_type": "error",
     "traceback": [
      "\u001b[0;31m---------------------------------------------------------------------------\u001b[0m",
      "\u001b[0;31mNameError\u001b[0m                                 Traceback (most recent call last)",
      "\u001b[0;32m<ipython-input-10-01369e3aa6cd>\u001b[0m in \u001b[0;36m<module>\u001b[0;34m\u001b[0m\n\u001b[1;32m      1\u001b[0m \u001b[0mfig_tau\u001b[0m \u001b[0;34m=\u001b[0m \u001b[0mplt\u001b[0m\u001b[0;34m.\u001b[0m\u001b[0mfigure\u001b[0m\u001b[0;34m(\u001b[0m\u001b[0;34m)\u001b[0m\u001b[0;34m\u001b[0m\u001b[0;34m\u001b[0m\u001b[0m\n\u001b[1;32m      2\u001b[0m \u001b[0max1\u001b[0m \u001b[0;34m=\u001b[0m \u001b[0mfig_tau\u001b[0m\u001b[0;34m.\u001b[0m\u001b[0madd_subplot\u001b[0m\u001b[0;34m(\u001b[0m\u001b[0;36m221\u001b[0m\u001b[0;34m)\u001b[0m\u001b[0;34m\u001b[0m\u001b[0;34m\u001b[0m\u001b[0m\n\u001b[0;32m----> 3\u001b[0;31m \u001b[0max1\u001b[0m\u001b[0;34m.\u001b[0m\u001b[0mplot\u001b[0m\u001b[0;34m(\u001b[0m\u001b[0mtau_chain50N30\u001b[0m\u001b[0;34m)\u001b[0m\u001b[0;34m\u001b[0m\u001b[0;34m\u001b[0m\u001b[0m\n\u001b[0m\u001b[1;32m      4\u001b[0m \u001b[0mplt\u001b[0m\u001b[0;34m.\u001b[0m\u001b[0mtitle\u001b[0m\u001b[0;34m(\u001b[0m\u001b[0;34m'tau50 N30'\u001b[0m\u001b[0;34m)\u001b[0m\u001b[0;34m\u001b[0m\u001b[0;34m\u001b[0m\u001b[0m\n\u001b[1;32m      5\u001b[0m \u001b[0;34m\u001b[0m\u001b[0m\n",
      "\u001b[0;31mNameError\u001b[0m: name 'tau_chain50N30' is not defined"
     ]
    },
    {
     "data": {
      "image/png": "[encoded data removed]",
      "text/plain": [
       "<Figure size 432x288 with 1 Axes>"
      ]
     },
     "metadata": {
      "needs_background": "light"
     },
     "output_type": "display_data"
    }
   ],
   "source": [
    "fig_tau = plt.figure()\n",
    "ax1 = fig_tau.add_subplot(221)\n",
    "ax1.plot(tau_chain50N30)\n",
    "plt.title('tau50 N30')\n",
    "\n",
    "ax2 = fig_tau.add_subplot(222)\n",
    "ax2.plot(tau_chain50N30_sec)\n",
    "plt.title('tau50 N30_sec')\n",
    "\n",
    "ax3 = fig_tau.add_subplot(223)\n",
    "ax3.plot(tau_chain50N15)\n",
    "plt.title('tau50 N15')\n",
    "\n",
    "ax4 = fig_tau.add_subplot(224)\n",
    "ax4.plot(tau_chain50N15_sec)\n",
    "plt.title('tau50 N15_sec')\n",
    "\n",
    "plt.subplots_adjust(hspace=0.4)\n",
    "\n",
    "\n",
    "#plt.plot(tau_chain200)"
   ]
  },
  {
   "cell_type": "code",
   "execution_count": 6,
   "id": "eligible-fortune",
   "metadata": {},
   "outputs": [
    {
     "data": {
      "text/plain": [
       "[<matplotlib.lines.Line2D at 0x7f33117f8a90>]"
      ]
     },
     "execution_count": 6,
     "metadata": {},
     "output_type": "execute_result"
    },
    {
     "data": {
      "image/png": "[encoded data removed]",
      "text/plain": [
       "<Figure size 432x288 with 1 Axes>"
      ]
     },
     "metadata": {
      "needs_background": "light"
     },
     "output_type": "display_data"
    }
   ],
   "source": [
    "first_sbar_chain50N30 = np.array([to_numpy(x.sigma_bar)[0] for x in chain_c150_N30])\n",
    "plt.plot(first_sbar_chain50N30,color='red')\n",
    "\n",
    "last_sbar_chain50N30 = np.array([to_numpy(x.sigma_bar)[-1] for x in chain_c150_N30])\n",
    "plt.plot(last_sbar_chain50N30,color='blue')\n",
    "\n"
   ]
  },
  {
   "cell_type": "code",
   "execution_count": 10,
   "id": "honest-government",
   "metadata": {},
   "outputs": [
    {
     "data": {
      "image/png": "[encoded data removed]",
      "text/plain": [
       "<Figure size 432x288 with 4 Axes>"
      ]
     },
     "metadata": {
      "needs_background": "light"
     },
     "output_type": "display_data"
    }
   ],
   "source": [
    "first_sbar_chain50N30 = np.array([to_numpy(x.sigma_bar)[0] for x in chain50N30])\n",
    "first_sbar_chain50N30_sec = np.array([to_numpy(x.sigma_bar)[0] for x in chain50N30_sec])\n",
    "first_sbar_chain50N15 = np.array([to_numpy(x.sigma_bar)[0] for x in chain50N15])\n",
    "first_sbar_chain50N15_sec = np.array([to_numpy(x.sigma_bar)[0] for x in chain50N15_sec])\n",
    "\n",
    "fig_sigma_first = plt.figure()\n",
    "ax1 = fig_sigma_first.add_subplot(221)\n",
    "ax1.plot(first_sbar_chain50N30)\n",
    "plt.title('first sigmabar50 N30')\n",
    "\n",
    "ax2 = fig_sigma_first.add_subplot(222)\n",
    "ax2.plot(first_sbar_chain50N30_sec)\n",
    "plt.title('first sigmabar50 N30_sec')\n",
    "\n",
    "ax3 = fig_sigma_first.add_subplot(223)\n",
    "ax3.plot(first_sbar_chain50N15)\n",
    "plt.title('first sigmabar50 N15')\n",
    "\n",
    "ax4 = fig_sigma_first.add_subplot(224)\n",
    "ax4.plot(first_sbar_chain50N15_sec)\n",
    "plt.title('first sigmabar50 N15_sec')\n",
    "\n",
    "plt.subplots_adjust(hspace=0.4)\n",
    "#first_sigma_bar_chain200 = np.array([to_numpy(x.sigma_bar)[0] for x in chain200])\n"
   ]
  },
  {
   "cell_type": "code",
   "execution_count": 11,
   "id": "english-lesson",
   "metadata": {},
   "outputs": [
    {
     "data": {
      "image/png": "[encoded data removed]",
      "text/plain": [
       "<Figure size 432x288 with 4 Axes>"
      ]
     },
     "metadata": {
      "needs_background": "light"
     },
     "output_type": "display_data"
    }
   ],
   "source": [
    "last_sbar_chain50N30 = np.array([to_numpy(x.sigma_bar)[-1] for x in chain50N30])\n",
    "last_sbar_chain50N30_sec = np.array([to_numpy(x.sigma_bar)[-1] for x in chain50N30_sec])\n",
    "last_sbar_chain50N15 = np.array([to_numpy(x.sigma_bar)[-1] for x in chain50N15])\n",
    "last_sbar_chain50N15_sec = np.array([to_numpy(x.sigma_bar)[-1] for x in chain50N15_sec])\n",
    "\n",
    "fig_sigma_last = plt.figure()\n",
    "ax1 = fig_sigma_last.add_subplot(221)\n",
    "ax1.plot(last_sbar_chain50N30)\n",
    "plt.title('last sigmabar50 N30')\n",
    "\n",
    "ax2 = fig_sigma_last.add_subplot(222)\n",
    "ax2.plot(last_sbar_chain50N30_sec)\n",
    "plt.title('last sigmabar50 N30_sec')\n",
    "\n",
    "ax3 = fig_sigma_last.add_subplot(223)\n",
    "ax3.plot(last_sbar_chain50N15)\n",
    "plt.title('last sigmabar50 N15')\n",
    "\n",
    "ax4 = fig_sigma_last.add_subplot(224)\n",
    "ax4.plot(last_sbar_chain50N15_sec)\n",
    "plt.title('last sigmabar50 N15_sec')\n",
    "\n",
    "plt.subplots_adjust(hspace=0.4)#last_sigma_bar_chain200 = np.array([to_numpy(x.sigma_bar)[-1] for x in chain200])"
   ]
  },
  {
   "cell_type": "code",
   "execution_count": 26,
   "id": "bigger-gnome",
   "metadata": {},
   "outputs": [
    {
     "data": {
      "image/png": "[encoded data removed]",
      "text/plain": [
       "<Figure size 432x288 with 4 Axes>"
      ]
     },
     "metadata": {
      "needs_background": "light"
     },
     "output_type": "display_data"
    }
   ],
   "source": [
    "fig_sigma = plt.figure()\n",
    "ax1 = fig_sigma.add_subplot(221)\n",
    "ax1.plot(first_sigma_bar_chain50)\n",
    "plt.title('first sigmabar c50')\n",
    "\n",
    "ax2 = fig_sigma.add_subplot(222)\n",
    "ax2.plot(last_sigma_bar_chain50)\n",
    "plt.title('last sigmabar c50')\n",
    "\n",
    "ax3 = fig_sigma.add_subplot(223)\n",
    "#ax3.plot(first_sigma_bar_chain200)\n",
    "plt.title('first sigmabar c200')\n",
    "\n",
    "ax4 = fig_sigma.add_subplot(224)\n",
    "#ax4.plot(last_sigma_bar_chain200)\n",
    "plt.title('last sigmabar c200')\n",
    "\n",
    "plt.subplots_adjust(hspace=0.4)\n"
   ]
  },
  {
   "cell_type": "markdown",
   "id": "accepting-identity",
   "metadata": {},
   "source": [
    "# evaluate performance on simulate data: return performance dataframe "
   ]
  },
  {
   "cell_type": "code",
   "execution_count": 7,
   "id": "opposed-eating",
   "metadata": {},
   "outputs": [],
   "source": [
    "from scipy import stats\n",
    "from sklearn.metrics import adjusted_rand_score\n",
    "import pandas as pd\n",
    "from math import sqrt\n",
    "\n",
    "p = 50\n",
    "d = 2\n",
    "M = 4\n",
    "n_percluster_s = [50]\n",
    "list_performance = list()\n",
    "\n",
    "\n",
    "for n_percluster in n_percluster_s:\n",
    "    for N in [30]:\n",
    "        chain = loadChains(\"data/data_by_rule_student/chains_compare_CD/chains_c200_p_50_d_2_M_4_nperclus_{0}_N_{1}.recordio\".format(n_percluster,N), MultivariateMixtureState)\n",
    "        acc_rates = np.loadtxt(\"data/data_by_rule_student/chains_compare_CD/acc_rate_c200_p_50_d_2_M_4_nperclus_{0}_N_{1}.csv\".format(n_percluster,N), delimiter=',')\n",
    "\n",
    "        n_cluster_chain = np.array([x.ma for x in chain])\n",
    "        post_mode_nclus = stats.mode(n_cluster_chain)[0][0] # store in dataframe\n",
    "        post_avg_nclus = n_cluster_chain.mean() # store in dataframe\n",
    "\n",
    "        clus_alloc_chain = [x.clus_alloc for x in chain]\n",
    "        best_clus = cluster_estimate(np.array(clus_alloc_chain))\n",
    "        true_clus = np.repeat(range(M),n_percluster)\n",
    "        ari_best_clus = adjusted_rand_score(true_clus, best_clus) # store in dataframe\n",
    "\n",
    "        aris_chain = np.array([adjusted_rand_score(true_clus, x) for x in clus_alloc_chain])\n",
    "        mean_aris, sigma_aris = np.mean(aris_chain), np.std(aris_chain) # store mean_aris in dataframe\n",
    "        CI_aris = stats.norm.interval(0.95, loc=mean_aris, scale=sigma_aris/sqrt(len(aris_chain))) # store in dataframe\n",
    "\n",
    "        list_performance.append([p,d,M,n_percluster,N,acc_rates[0],acc_rates[1],post_mode_nclus,\n",
    "                            post_avg_nclus,ari_best_clus,mean_aris,CI_aris])\n",
    "        \n",
    "        \n",
    "df_performance = pd.DataFrame(list_performance, columns=('dim_p', 'dim_d', 'dim_M', 'dim_n_pc', 'dim_N', 'means_ar','lambda_ar',\n",
    "                                      'mode_nclus', 'avg_nclus', 'ari_best_clus', 'mean_ari', 'CI_ari'))\n",
    "    \n"
   ]
  },
  {
   "cell_type": "code",
   "execution_count": 8,
   "id": "cooperative-friday",
   "metadata": {},
   "outputs": [
    {
     "data": {
      "text/html": [
       "<div>\n",
       "<style scoped>\n",
       "    .dataframe tbody tr th:only-of-type {\n",
       "        vertical-align: middle;\n",
       "    }\n",
       "\n",
       "    .dataframe tbody tr th {\n",
       "        vertical-align: top;\n",
       "    }\n",
       "\n",
       "    .dataframe thead th {\n",
       "        text-align: right;\n",
       "    }\n",
       "</style>\n",
       "<table border=\"1\" class=\"dataframe\">\n",
       "  <thead>\n",
       "    <tr style=\"text-align: right;\">\n",
       "      <th></th>\n",
       "      <th>dim_p</th>\n",
       "      <th>dim_d</th>\n",
       "      <th>dim_M</th>\n",
       "      <th>dim_n_pc</th>\n",
       "      <th>dim_N</th>\n",
       "      <th>means_ar</th>\n",
       "      <th>lambda_ar</th>\n",
       "      <th>mode_nclus</th>\n",
       "      <th>avg_nclus</th>\n",
       "      <th>ari_best_clus</th>\n",
       "      <th>mean_ari</th>\n",
       "      <th>CI_ari</th>\n",
       "    </tr>\n",
       "  </thead>\n",
       "  <tbody>\n",
       "    <tr>\n",
       "      <th>0</th>\n",
       "      <td>50</td>\n",
       "      <td>2</td>\n",
       "      <td>4</td>\n",
       "      <td>50</td>\n",
       "      <td>30</td>\n",
       "      <td>0.271052</td>\n",
       "      <td>0.135556</td>\n",
       "      <td>4</td>\n",
       "      <td>4.7805</td>\n",
       "      <td>0.986599</td>\n",
       "      <td>0.977945</td>\n",
       "      <td>(0.9774766488858483, 0.9784125138856389)</td>\n",
       "    </tr>\n",
       "  </tbody>\n",
       "</table>\n",
       "</div>"
      ],
      "text/plain": [
       "   dim_p  dim_d  dim_M  dim_n_pc  dim_N  means_ar  lambda_ar  mode_nclus  \\\n",
       "0     50      2      4        50     30  0.271052   0.135556           4   \n",
       "\n",
       "   avg_nclus  ari_best_clus  mean_ari  \\\n",
       "0     4.7805       0.986599  0.977945   \n",
       "\n",
       "                                     CI_ari  \n",
       "0  (0.9774766488858483, 0.9784125138856389)  "
      ]
     },
     "execution_count": 8,
     "metadata": {},
     "output_type": "execute_result"
    }
   ],
   "source": [
    "df_performance"
   ]
  },
  {
   "cell_type": "code",
   "execution_count": 23,
   "id": "right-devices",
   "metadata": {},
   "outputs": [
    {
     "data": {
      "text/html": [
       "<div>\n",
       "<style scoped>\n",
       "    .dataframe tbody tr th:only-of-type {\n",
       "        vertical-align: middle;\n",
       "    }\n",
       "\n",
       "    .dataframe tbody tr th {\n",
       "        vertical-align: top;\n",
       "    }\n",
       "\n",
       "    .dataframe thead th {\n",
       "        text-align: right;\n",
       "    }\n",
       "</style>\n",
       "<table border=\"1\" class=\"dataframe\">\n",
       "  <thead>\n",
       "    <tr style=\"text-align: right;\">\n",
       "      <th></th>\n",
       "      <th>dim_p</th>\n",
       "      <th>dim_d</th>\n",
       "      <th>dim_M</th>\n",
       "      <th>dim_n_pc</th>\n",
       "      <th>dim_N</th>\n",
       "      <th>sec</th>\n",
       "      <th>means_ar</th>\n",
       "      <th>lambda_ar</th>\n",
       "      <th>mode_nclus</th>\n",
       "      <th>avg_nclus</th>\n",
       "      <th>ari_best_clus</th>\n",
       "      <th>mean_ari</th>\n",
       "      <th>CI_ari</th>\n",
       "    </tr>\n",
       "  </thead>\n",
       "  <tbody>\n",
       "    <tr>\n",
       "      <th>0</th>\n",
       "      <td>50</td>\n",
       "      <td>2</td>\n",
       "      <td>4</td>\n",
       "      <td>50</td>\n",
       "      <td>30</td>\n",
       "      <td>no</td>\n",
       "      <td>0.378893</td>\n",
       "      <td>0.144878</td>\n",
       "      <td>5</td>\n",
       "      <td>4.992667</td>\n",
       "      <td>0.993344</td>\n",
       "      <td>0.990222</td>\n",
       "      <td>(0.9897160773499515, 0.9907270342114031)</td>\n",
       "    </tr>\n",
       "  </tbody>\n",
       "</table>\n",
       "</div>"
      ],
      "text/plain": [
       "   dim_p  dim_d  dim_M  dim_n_pc  dim_N sec  means_ar  lambda_ar  mode_nclus  \\\n",
       "0     50      2      4        50     30  no  0.378893   0.144878           5   \n",
       "\n",
       "   avg_nclus  ari_best_clus  mean_ari  \\\n",
       "0   4.992667       0.993344  0.990222   \n",
       "\n",
       "                                     CI_ari  \n",
       "0  (0.9897160773499515, 0.9907270342114031)  "
      ]
     },
     "execution_count": 23,
     "metadata": {},
     "output_type": "execute_result"
    }
   ],
   "source": [
    "df_performance"
   ]
  },
  {
   "cell_type": "code",
   "execution_count": 17,
   "id": "formal-biology",
   "metadata": {},
   "outputs": [
    {
     "data": {
      "text/html": [
       "<div>\n",
       "<style scoped>\n",
       "    .dataframe tbody tr th:only-of-type {\n",
       "        vertical-align: middle;\n",
       "    }\n",
       "\n",
       "    .dataframe tbody tr th {\n",
       "        vertical-align: top;\n",
       "    }\n",
       "\n",
       "    .dataframe thead th {\n",
       "        text-align: right;\n",
       "    }\n",
       "</style>\n",
       "<table border=\"1\" class=\"dataframe\">\n",
       "  <thead>\n",
       "    <tr style=\"text-align: right;\">\n",
       "      <th></th>\n",
       "      <th>dim_p</th>\n",
       "      <th>dim_d</th>\n",
       "      <th>dim_M</th>\n",
       "      <th>dim_n_pc</th>\n",
       "      <th>dim_N</th>\n",
       "      <th>sec</th>\n",
       "      <th>means_ar</th>\n",
       "      <th>lambda_ar</th>\n",
       "      <th>mode_nclus</th>\n",
       "      <th>avg_nclus</th>\n",
       "      <th>ari_best_clus</th>\n",
       "      <th>mean_ari</th>\n",
       "      <th>CI_ari</th>\n",
       "    </tr>\n",
       "  </thead>\n",
       "  <tbody>\n",
       "    <tr>\n",
       "      <th>0</th>\n",
       "      <td>50</td>\n",
       "      <td>2</td>\n",
       "      <td>4</td>\n",
       "      <td>50</td>\n",
       "      <td>15</td>\n",
       "      <td>no</td>\n",
       "      <td>0.483343</td>\n",
       "      <td>0.129533</td>\n",
       "      <td>4</td>\n",
       "      <td>4.0490</td>\n",
       "      <td>1.0</td>\n",
       "      <td>0.999009</td>\n",
       "      <td>(0.9987747379516979, 0.9992436186914521)</td>\n",
       "    </tr>\n",
       "    <tr>\n",
       "      <th>1</th>\n",
       "      <td>50</td>\n",
       "      <td>2</td>\n",
       "      <td>4</td>\n",
       "      <td>50</td>\n",
       "      <td>30</td>\n",
       "      <td>no</td>\n",
       "      <td>0.125313</td>\n",
       "      <td>0.162367</td>\n",
       "      <td>4</td>\n",
       "      <td>4.0005</td>\n",
       "      <td>1.0</td>\n",
       "      <td>0.999461</td>\n",
       "      <td>(0.9993440923918263, 0.9995774384593866)</td>\n",
       "    </tr>\n",
       "    <tr>\n",
       "      <th>2</th>\n",
       "      <td>50</td>\n",
       "      <td>2</td>\n",
       "      <td>4</td>\n",
       "      <td>50</td>\n",
       "      <td>15</td>\n",
       "      <td>yes</td>\n",
       "      <td>0.290918</td>\n",
       "      <td>0.367233</td>\n",
       "      <td>4</td>\n",
       "      <td>4.0000</td>\n",
       "      <td>1.0</td>\n",
       "      <td>0.997194</td>\n",
       "      <td>(0.9969334421867165, 0.997454850546528)</td>\n",
       "    </tr>\n",
       "    <tr>\n",
       "      <th>3</th>\n",
       "      <td>50</td>\n",
       "      <td>2</td>\n",
       "      <td>4</td>\n",
       "      <td>50</td>\n",
       "      <td>30</td>\n",
       "      <td>yes</td>\n",
       "      <td>0.281671</td>\n",
       "      <td>0.127567</td>\n",
       "      <td>4</td>\n",
       "      <td>4.0000</td>\n",
       "      <td>1.0</td>\n",
       "      <td>0.999806</td>\n",
       "      <td>(0.9997354757744913, 0.9998758917437948)</td>\n",
       "    </tr>\n",
       "  </tbody>\n",
       "</table>\n",
       "</div>"
      ],
      "text/plain": [
       "   dim_p  dim_d  dim_M  dim_n_pc  dim_N  sec  means_ar  lambda_ar  mode_nclus  \\\n",
       "0     50      2      4        50     15   no  0.483343   0.129533           4   \n",
       "1     50      2      4        50     30   no  0.125313   0.162367           4   \n",
       "2     50      2      4        50     15  yes  0.290918   0.367233           4   \n",
       "3     50      2      4        50     30  yes  0.281671   0.127567           4   \n",
       "\n",
       "   avg_nclus  ari_best_clus  mean_ari  \\\n",
       "0     4.0490            1.0  0.999009   \n",
       "1     4.0005            1.0  0.999461   \n",
       "2     4.0000            1.0  0.997194   \n",
       "3     4.0000            1.0  0.999806   \n",
       "\n",
       "                                     CI_ari  \n",
       "0  (0.9987747379516979, 0.9992436186914521)  \n",
       "1  (0.9993440923918263, 0.9995774384593866)  \n",
       "2   (0.9969334421867165, 0.997454850546528)  \n",
       "3  (0.9997354757744913, 0.9998758917437948)  "
      ]
     },
     "execution_count": 17,
     "metadata": {},
     "output_type": "execute_result"
    }
   ],
   "source": [
    "df_performance"
   ]
  },
  {
   "cell_type": "markdown",
   "id": "corrected-instrumentation",
   "metadata": {},
   "source": [
    "# Remark: sia N30 che N15 danno stessi risultati, N15_sec non lo uso. \n",
    "N15 ha buon acceptance rate\n",
    "\n",
    "N30 ha comunque buono acceptance rate\n",
    "\n",
    "N30_sec ha acc rate per means più alto, però leggermente peggiore randindex"
   ]
  },
  {
   "cell_type": "markdown",
   "id": "solar-invalid",
   "metadata": {},
   "source": [
    "# Tesi: confronto con N=30, s=0.8, per c = 20 e 50\n",
    "d=2, p=50, n_percluster = 50\n",
    "CANALEDUNSON: uso alfa=1 e alfa=0.5"
   ]
  },
  {
   "cell_type": "markdown",
   "id": "adult-dictionary",
   "metadata": {},
   "source": [
    "# store numb of clusters chains\n",
    "So that, I load only this for plot (faster)"
   ]
  },
  {
   "cell_type": "code",
   "execution_count": 110,
   "id": "convenient-discount",
   "metadata": {},
   "outputs": [],
   "source": [
    "c_s = [50,20]\n",
    "\n",
    "#for c in c_s:\n",
    "\n",
    "    chain = loadChains(\"data/data_by_rule_student/chains_compare_CD/chains_c{0}_p_50_d_2_M_4_nperclus_50_N_30.recordio\".format(c), MultivariateMixtureState)\n",
    "    n_cluster_chain = np.array([int(x.ma) for x in chain])\n",
    "    np.savetxt(\"data/data_by_rule_student/chains_compare_CD/num_clus_c{0}_p_50_d_2_M_4_nperclus_50_N_30.csv\".format(c), n_cluster_chain,fmt=\"%d\", delimiter=\",\")\n"
   ]
  },
  {
   "cell_type": "markdown",
   "id": "indie-studio",
   "metadata": {},
   "source": [
    "# Check stability numb clusters"
   ]
  },
  {
   "cell_type": "code",
   "execution_count": 112,
   "id": "rolled-senator",
   "metadata": {},
   "outputs": [
    {
     "data": {
      "text/plain": [
       "[<matplotlib.lines.Line2D at 0x7f560d6ab370>]"
      ]
     },
     "execution_count": 112,
     "metadata": {},
     "output_type": "execute_result"
    },
    {
     "data": {
      "image/png": "[encoded data removed]",
      "text/plain": [
       "<Figure size 432x288 with 1 Axes>"
      ]
     },
     "metadata": {
      "needs_background": "light"
     },
     "output_type": "display_data"
    }
   ],
   "source": [
    "n_cluster_chain = np.loadtxt(\"data/data_by_rule_student/chains_compare_CD/num_clus_c20_p_50_d_2_M_4_nperclus_50_N_30.csv\", delimiter=',')\n",
    "plt.plot(n_cluster_chain)\n"
   ]
  },
  {
   "cell_type": "markdown",
   "id": "induced-bunch",
   "metadata": {},
   "source": [
    "# Tabelle Report Tesi APPLAM"
   ]
  },
  {
   "cell_type": "code",
   "execution_count": 2,
   "id": "sonic-contrast",
   "metadata": {},
   "outputs": [],
   "source": [
    "from scipy import stats\n",
    "from sklearn.metrics import adjusted_rand_score\n",
    "import pandas as pd\n",
    "from math import sqrt\n",
    "\n",
    "\n",
    "M = 4\n",
    "n_percluster = 50\n",
    "c_s = [20,50,200]\n",
    "\n",
    "list_performance = list()\n",
    "\n",
    "for c in c_s:\n",
    "\n",
    "    chain = loadChains(\"data/data_by_rule_student/chains_compare_CD/chains_c{0}_p_50_d_2_M_4_nperclus_50_N_30.recordio\".format(c), MultivariateMixtureState)\n",
    "\n",
    "    n_cluster_chain = np.array([x.ma for x in chain])\n",
    "    post_mode_nclus = stats.mode(n_cluster_chain)[0][0] # store in dataframe\n",
    "    post_avg_nclus = n_cluster_chain.mean() # store in dataframe\n",
    "\n",
    "    clus_alloc_chain = [x.clus_alloc for x in chain]\n",
    "    best_clus = cluster_estimate(np.array(clus_alloc_chain))\n",
    "    true_clus = np.repeat(range(M),n_percluster)\n",
    "    ari_best_clus = adjusted_rand_score(true_clus, best_clus) # store in dataframe\n",
    "\n",
    "    aris_chain = np.array([adjusted_rand_score(true_clus, x) for x in clus_alloc_chain])\n",
    "    mean_aris, sigma_aris = np.mean(aris_chain), np.std(aris_chain) # store mean_aris in dataframe\n",
    "    CI_aris = stats.norm.interval(0.95, loc=mean_aris, scale=sigma_aris/sqrt(len(aris_chain))) # store in dataframe\n",
    "    CI_lower = float(\"{:.3f}\".format(CI_aris[0]))\n",
    "    CI_upper = float(\"{:.3f}\".format(CI_aris[1]))\n",
    "    CI = (CI_lower, CI_upper)\n",
    "    \n",
    "    list_performance.append([M,float(\"{:.3f}\".format(post_mode_nclus)), float(\"{:.3f}\".format(post_avg_nclus)), \n",
    "                             float(\"{:.3f}\".format(ari_best_clus)), float(\"{:.3f}\".format(mean_aris)),\n",
    "                             CI])\n",
    "        \n",
    "\n",
    "df_perf = pd.DataFrame(list_performance, columns=('K_true', 'MAP', 'Ek|data', 'ARI_best', 'EARI', 'CIARI'))\n",
    "df_perf.index = ['(S3)', '(S4)','(S5)']\n",
    "df_perf.insert(0, 'c', c_s, True)\n",
    "df_perf.insert(1, 'EM', [2.55, 6.37, 25.46], True)"
   ]
  },
  {
   "cell_type": "code",
   "execution_count": 3,
   "id": "western-interval",
   "metadata": {},
   "outputs": [
    {
     "data": {
      "text/html": [
       "<div>\n",
       "<style scoped>\n",
       "    .dataframe tbody tr th:only-of-type {\n",
       "        vertical-align: middle;\n",
       "    }\n",
       "\n",
       "    .dataframe tbody tr th {\n",
       "        vertical-align: top;\n",
       "    }\n",
       "\n",
       "    .dataframe thead th {\n",
       "        text-align: right;\n",
       "    }\n",
       "</style>\n",
       "<table border=\"1\" class=\"dataframe\">\n",
       "  <thead>\n",
       "    <tr style=\"text-align: right;\">\n",
       "      <th></th>\n",
       "      <th>c</th>\n",
       "      <th>EM</th>\n",
       "      <th>K_true</th>\n",
       "      <th>MAP</th>\n",
       "      <th>Ek|data</th>\n",
       "      <th>ARI_best</th>\n",
       "      <th>EARI</th>\n",
       "      <th>CIARI</th>\n",
       "    </tr>\n",
       "  </thead>\n",
       "  <tbody>\n",
       "    <tr>\n",
       "      <th>(S3)</th>\n",
       "      <td>20</td>\n",
       "      <td>2.55</td>\n",
       "      <td>4</td>\n",
       "      <td>4.0</td>\n",
       "      <td>4.017</td>\n",
       "      <td>1.000</td>\n",
       "      <td>1.000</td>\n",
       "      <td>(0.999, 1.0)</td>\n",
       "    </tr>\n",
       "    <tr>\n",
       "      <th>(S4)</th>\n",
       "      <td>50</td>\n",
       "      <td>6.37</td>\n",
       "      <td>4</td>\n",
       "      <td>4.0</td>\n",
       "      <td>4.086</td>\n",
       "      <td>0.987</td>\n",
       "      <td>0.981</td>\n",
       "      <td>(0.981, 0.982)</td>\n",
       "    </tr>\n",
       "    <tr>\n",
       "      <th>(S5)</th>\n",
       "      <td>200</td>\n",
       "      <td>25.46</td>\n",
       "      <td>4</td>\n",
       "      <td>4.0</td>\n",
       "      <td>4.780</td>\n",
       "      <td>0.987</td>\n",
       "      <td>0.978</td>\n",
       "      <td>(0.977, 0.978)</td>\n",
       "    </tr>\n",
       "  </tbody>\n",
       "</table>\n",
       "</div>"
      ],
      "text/plain": [
       "        c     EM  K_true  MAP  Ek|data  ARI_best   EARI           CIARI\n",
       "(S3)   20   2.55       4  4.0    4.017     1.000  1.000    (0.999, 1.0)\n",
       "(S4)   50   6.37       4  4.0    4.086     0.987  0.981  (0.981, 0.982)\n",
       "(S5)  200  25.46       4  4.0    4.780     0.987  0.978  (0.977, 0.978)"
      ]
     },
     "execution_count": 3,
     "metadata": {},
     "output_type": "execute_result"
    }
   ],
   "source": [
    "df_perf"
   ]
  },
  {
   "cell_type": "code",
   "execution_count": 4,
   "id": "stunning-blast",
   "metadata": {
    "scrolled": true
   },
   "outputs": [
    {
     "name": "stdout",
     "output_type": "stream",
     "text": [
      "\\begin{tabular}{lrrrrrrrl}\n",
      "\\toprule\n",
      "{} &    c &     EM &  K\\_true &  MAP &  Ek|data &  ARI\\_best &   EARI &           CIARI \\\\\n",
      "\\midrule\n",
      "(S3) &   20 &   2.55 &       4 &  4.0 &    4.017 &     1.000 &  1.000 &    (0.999, 1.0) \\\\\n",
      "(S4) &   50 &   6.37 &       4 &  4.0 &    4.086 &     0.987 &  0.981 &  (0.981, 0.982) \\\\\n",
      "(S5) &  200 &  25.46 &       4 &  4.0 &    4.780 &     0.987 &  0.978 &  (0.977, 0.978) \\\\\n",
      "\\bottomrule\n",
      "\\end{tabular}\n",
      "\n"
     ]
    }
   ],
   "source": [
    "print(df_perf.to_latex())"
   ]
  },
  {
   "cell_type": "markdown",
   "id": "driving-sandwich",
   "metadata": {},
   "source": [
    "# Graphics Report Tesi APPLAM"
   ]
  },
  {
   "cell_type": "code",
   "execution_count": 13,
   "id": "heard-strip",
   "metadata": {},
   "outputs": [
    {
     "data": {
      "image/png": "[encoded data removed]",
      "text/plain": [
       "<Figure size 576x360 with 1 Axes>"
      ]
     },
     "metadata": {
      "needs_background": "light"
     },
     "output_type": "display_data"
    }
   ],
   "source": [
    "import matplotlib.gridspec as gridspec\n",
    "\n",
    "# number of components\n",
    "fig = plt.figure(figsize=(8,5))\n",
    "\n",
    "lab = ['(S3): $\\\\rho$=2.55', '(S4): $\\\\rho$=6.37','(S5): $\\\\rho$=25.46']\n",
    "colors = ['navy','orangered','darkred']\n",
    "\n",
    "c_s = [(20,0),(50,1),(200,2)]\n",
    "\n",
    "bars = np.arange(1, 10)\n",
    "\n",
    "for (c,j) in c_s:\n",
    "    \n",
    "    n_cluster_chain = np.loadtxt(\"data/data_by_rule_student/chains_compare_CD/num_clus_c{0}_p_50_d_2_M_4_nperclus_50_N_30.csv\".format(c), delimiter=',')\n",
    "    \n",
    "    heights = np.array([np.sum(n_cluster_chain == i) for i in bars]) / len(n_cluster_chain)\n",
    "    plt.plot(bars, heights, 'o--', label=lab[j], markersize=5, linewidth=1, color=colors[j])\n",
    "\n",
    "plt.legend(fontsize='large', markerscale=1.2)\n",
    "plt.xlim(1, 9)\n",
    "plt.axhline(y=0, color='k', alpha=0.5)\n",
    "\n",
    "plt.title('Posterior number of clusters: APPLAM', fontsize=14)\n",
    "\n",
    "fig.savefig('APPLAM_post_nclus_pres.pdf',bbox_inches=\"tight\")"
   ]
  },
  {
   "cell_type": "code",
   "execution_count": 26,
   "id": "brilliant-catalyst",
   "metadata": {},
   "outputs": [],
   "source": [
    "from scipy import stats\n",
    "import pandas as pd\n",
    "\n",
    "\n",
    "M = 4\n",
    "n_percluster = 50\n",
    "\n",
    "\n",
    "acc_rates_c20 = np.loadtxt(\"data/data_by_rule_student/chains_compare_CD/acc_rate_c20_p_50_d_2_M_4_nperclus_50_N_30.csv\", delimiter=',')\n",
    "acc_rates_c50 = np.loadtxt(\"data/data_by_rule_student/chains_compare_CD/acc_rate_c50_p_50_d_2_M_4_nperclus_50_N_30.csv\", delimiter=',')\n",
    "acc_rates_c200 = np.loadtxt(\"data/data_by_rule_student/chains_compare_CD/acc_rate_c200_p_50_d_2_M_4_nperclus_50_N_30.csv\", delimiter=',')\n",
    "       \n",
    "\n",
    "ss_c20 = np.concatenate([np.array([0.07, \"{:.0e}\".format(0.00000006)]), np.round(acc_rates_c20,3)])\n",
    "ss_c50 = np.concatenate([np.array([0.09, \"{:.0e}\".format(0.00000001)]), np.round(acc_rates_c50,3)])\n",
    "ss_c200 = np.concatenate([np.array([0.1, \"{:.0e}\".format(0.000000008)]), np.round(acc_rates_c200,3)])\n",
    "\n",
    "rows = [ss_c20, ss_c50, ss_c200]\n",
    "\n",
    "df_acc = pd.DataFrame(rows, columns=('t_means', 't_lambda', 'ar_means', 'ar_lambda'))\n",
    "df_acc.index = ['(S3)', '(S4)','(S5)']\n"
   ]
  },
  {
   "cell_type": "code",
   "execution_count": 28,
   "id": "contemporary-trigger",
   "metadata": {},
   "outputs": [
    {
     "name": "stdout",
     "output_type": "stream",
     "text": [
      "\\begin{tabular}{lllll}\n",
      "\\toprule\n",
      "{} & t\\_means & t\\_lambda & ar\\_means & ar\\_lambda \\\\\n",
      "\\midrule\n",
      "(S3) &    0.07 &    6e-08 &    0.238 &     0.116 \\\\\n",
      "(S4) &    0.09 &    1e-08 &    0.186 &     0.193 \\\\\n",
      "(S5) &     0.1 &    8e-09 &    0.271 &     0.136 \\\\\n",
      "\\bottomrule\n",
      "\\end{tabular}\n",
      "\n"
     ]
    }
   ],
   "source": [
    "print(df_acc.to_latex())"
   ]
  },
  {
   "cell_type": "markdown",
   "id": "balanced-pointer",
   "metadata": {},
   "source": [
    "# loading and parsing CD output"
   ]
  },
  {
   "cell_type": "code",
   "execution_count": 66,
   "id": "parental-cisco",
   "metadata": {},
   "outputs": [],
   "source": [
    "from scipy import stats\n",
    "from sklearn.metrics import adjusted_rand_score\n",
    "import pandas as pd\n",
    "with open(\"data/data_by_rule_student/alloc_matrix_CD/Sim_Tesi/alloc_matrix_p50_d2_prec025_k0001_nonstand.csv\", newline='') as my_csv:\n",
    "    alloc_matrix = pd.read_csv(my_csv, sep=',', header=None).values\n"
   ]
  },
  {
   "cell_type": "code",
   "execution_count": 16,
   "id": "running-closer",
   "metadata": {},
   "outputs": [],
   "source": [
    "import numpy as np\n",
    "from math import sqrt\n",
    "p = 50\n",
    "d = 2\n",
    "M = 4\n",
    "n_percluster = 50\n",
    "\n",
    "list_performance = list()\n",
    "n_cluster_chain_CD = np.array([len(np.unique(alloc_matrix[i,:])) for i in range(alloc_matrix.shape[0])])\n",
    "post_mode_nclus_CD = stats.mode(n_cluster_chain_CD)[0][0] # store in dataframe\n",
    "post_avg_nclus_CD = n_cluster_chain_CD.mean() # store in dataframe\n",
    "\n",
    "best_clus_CD = cluster_estimate(alloc_matrix)\n",
    "true_clus = np.repeat(range(M),n_percluster)\n",
    "ari_best_clus_CD = adjusted_rand_score(true_clus, best_clus_CD) # store in dataframe\n",
    "\n",
    "aris_chain_CD = np.array([adjusted_rand_score(true_clus, alloc_matrix[i,:]) for i in range(alloc_matrix.shape[0])])\n",
    "mean_aris_CD, sigma_aris_CD = np.mean(aris_chain_CD), np.std(aris_chain_CD) # store mean_aris in dataframe\n",
    "CI_aris_CD = stats.norm.interval(0.95, loc=mean_aris_CD, scale=sigma_aris_CD/sqrt(len(aris_chain_CD))) # store in dataframe\n",
    "list_performance.append([p,d,M,n_percluster,post_mode_nclus_CD,\n",
    "                            post_avg_nclus_CD,ari_best_clus_CD,mean_aris_CD,CI_aris_CD])\n",
    "\n",
    "df_performance_CD = pd.DataFrame(list_performance, columns=('dim_p', 'dim_d', 'dim_M', 'dim_n_pc','mode_nclus', 'avg_nclus', 'ari_best_clus', 'mean_ari', 'CI_ari'))\n",
    "    "
   ]
  },
  {
   "cell_type": "markdown",
   "id": "amber-satellite",
   "metadata": {},
   "source": [
    "# check stability of the chain"
   ]
  },
  {
   "cell_type": "code",
   "execution_count": 67,
   "id": "diverse-stevens",
   "metadata": {},
   "outputs": [
    {
     "data": {
      "image/png": "[encoded data removed]",
      "text/plain": [
       "<Figure size 432x288 with 1 Axes>"
      ]
     },
     "metadata": {
      "needs_background": "light"
     },
     "output_type": "display_data"
    }
   ],
   "source": [
    "from scipy import stats\n",
    "from sklearn.metrics import adjusted_rand_score\n",
    "import pandas as pd\n",
    "with open(\"data/data_by_rule_student/alloc_matrix_CD/Sim_Tesi/alloc_matrix_p50_d2_prec025_k0001_nonstand.csv\", newline='') as my_csv:\n",
    "    alloc_matrix = pd.read_csv(my_csv, sep=',', header=None).values\n",
    "\n",
    "n_cluster_chain_CD = np.array([len(np.unique(alloc_matrix[i,:])) for i in range(alloc_matrix.shape[0])])\n",
    "plt.plot(n_cluster_chain_CD)\n",
    "best_clus_CD = cluster_estimate(alloc_matrix)\n",
    "(un,co)=np.unique(best_clus_CD, return_counts=True)"
   ]
  },
  {
   "cell_type": "code",
   "execution_count": 68,
   "id": "apparent-proof",
   "metadata": {},
   "outputs": [
    {
     "name": "stdout",
     "output_type": "stream",
     "text": [
      "[ 0.  1.  2.  5.  6. 62. 77.]\n",
      "[ 9 17  1 23 50 50 50]\n"
     ]
    }
   ],
   "source": [
    "print(un)\n",
    "print(co)"
   ]
  },
  {
   "cell_type": "markdown",
   "id": "unknown-stream",
   "metadata": {},
   "source": [
    "# Tabelle per Report Tesi"
   ]
  },
  {
   "cell_type": "code",
   "execution_count": 1,
   "id": "transparent-center",
   "metadata": {},
   "outputs": [],
   "source": [
    "from scipy import stats\n",
    "from sklearn.metrics import adjusted_rand_score\n",
    "import pandas as pd\n",
    "import numpy as np\n",
    "from math import sqrt\n",
    "\n",
    "M = 4\n",
    "n_percluster = 50\n",
    "\n",
    "with open(\"data/data_by_rule_student/alloc_matrix_CD/Sim_Tesi/alloc_matrix_p50_d2_prec1_k0001_nonstand.csv\", newline='') as my_csv:\n",
    "    a_m_p1_unstand = pd.read_csv(my_csv, sep=',', header=None).values\n",
    "\n",
    "with open(\"data/data_by_rule_student/alloc_matrix_CD/Sim_Tesi/alloc_matrix_p50_d2_prec1_k0001_stand.csv\", newline='') as my_csv:\n",
    "    a_m_p1_stand = pd.read_csv(my_csv, sep=',', header=None).values\n",
    "\n",
    "with open(\"data/data_by_rule_student/alloc_matrix_CD/Sim_Tesi/alloc_matrix_p50_d2_prec05_k0001_nonstand.csv\", newline='') as my_csv:\n",
    "    a_m_p05_unstand = pd.read_csv(my_csv, sep=',', header=None).values\n",
    "\n",
    "with open(\"data/data_by_rule_student/alloc_matrix_CD/Sim_Tesi/alloc_matrix_p50_d2_prec05_k0001_stand.csv\", newline='') as my_csv:\n",
    "    a_m_p05_stand = pd.read_csv(my_csv, sep=',', header=None).values\n",
    "    \n",
    "with open(\"data/data_by_rule_student/alloc_matrix_CD/Sim_Tesi/alloc_matrix_p50_d2_prec025_k0001_nonstand.csv\", newline='') as my_csv:\n",
    "    a_m_p025_unstand = pd.read_csv(my_csv, sep=',', header=None).values\n",
    "    \n",
    "with open(\"data/data_by_rule_student/alloc_matrix_CD/Sim_Tesi/alloc_matrix_p50_d2_prec025_k0001_stand.csv\", newline='') as my_csv:\n",
    "    a_m_p025_stand = pd.read_csv(my_csv, sep=',', header=None).values\n",
    "\n",
    "settings = [a_m_p1_unstand, a_m_p1_stand, a_m_p05_unstand, a_m_p05_stand, a_m_p025_unstand, a_m_p025_stand]"
   ]
  },
  {
   "cell_type": "code",
   "execution_count": 4,
   "id": "verbal-refund",
   "metadata": {},
   "outputs": [],
   "source": [
    "list_performance = list()\n",
    "\n",
    "for alloc_matrix in settings:\n",
    "    n_cluster_chain_CD = np.array([len(np.unique(alloc_matrix[i,:])) for i in range(alloc_matrix.shape[0])])\n",
    "    post_mode_nclus_CD = stats.mode(n_cluster_chain_CD)[0][0] # store in dataframe\n",
    "    post_avg_nclus_CD = n_cluster_chain_CD.mean() # store in dataframe\n",
    "\n",
    "    best_clus_CD = cluster_estimate(alloc_matrix)\n",
    "    true_clus = np.repeat(range(M),n_percluster)\n",
    "    ari_best_clus_CD = adjusted_rand_score(true_clus, best_clus_CD) # store in dataframe\n",
    "\n",
    "    aris_chain_CD = np.array([adjusted_rand_score(true_clus, alloc_matrix[i,:]) for i in range(alloc_matrix.shape[0])])\n",
    "    mean_aris_CD, sigma_aris_CD = np.mean(aris_chain_CD), np.std(aris_chain_CD) # store mean_aris in dataframe\n",
    "    CI_aris_CD = stats.norm.interval(0.95, loc=mean_aris_CD, scale=sigma_aris_CD/sqrt(len(aris_chain_CD))) # store in dataframe\n",
    "    CI_lower = float(\"{:.3f}\".format(CI_aris_CD[0]))\n",
    "    CI_upper = float(\"{:.3f}\".format(CI_aris_CD[1]))\n",
    "    CI = (CI_lower, CI_upper)\n",
    "    \n",
    "    list_performance.append([M,float(\"{:.3f}\".format(post_mode_nclus_CD)), float(\"{:.3f}\".format(post_avg_nclus_CD)), \n",
    "                             float(\"{:.3f}\".format(ari_best_clus_CD)), float(\"{:.3f}\".format(mean_aris_CD)),\n",
    "                             CI])\n",
    "    \n",
    "    \n",
    "df_perf_CD = pd.DataFrame(list_performance, columns=('K_true', 'MAP', 'Ek|data', 'ARI_best', 'EARI', 'CIARI'))\n",
    "df_perf_CD.index = ['(S0)_unstand', '(S0)_stand','(S1)_unstand', '(S1)_stand', '(S2)_unstand', '(S2)_stand']\n",
    "df_perf_CD.insert(0, 'alpha', [1,1,0.5,0.5,0.25,0.25], True)"
   ]
  },
  {
   "cell_type": "code",
   "execution_count": 5,
   "id": "unnecessary-change",
   "metadata": {},
   "outputs": [
    {
     "data": {
      "text/html": [
       "<div>\n",
       "<style scoped>\n",
       "    .dataframe tbody tr th:only-of-type {\n",
       "        vertical-align: middle;\n",
       "    }\n",
       "\n",
       "    .dataframe tbody tr th {\n",
       "        vertical-align: top;\n",
       "    }\n",
       "\n",
       "    .dataframe thead th {\n",
       "        text-align: right;\n",
       "    }\n",
       "</style>\n",
       "<table border=\"1\" class=\"dataframe\">\n",
       "  <thead>\n",
       "    <tr style=\"text-align: right;\">\n",
       "      <th></th>\n",
       "      <th>alpha</th>\n",
       "      <th>K_true</th>\n",
       "      <th>MAP</th>\n",
       "      <th>Ek|data</th>\n",
       "      <th>ARI_best</th>\n",
       "      <th>EARI</th>\n",
       "      <th>CIARI</th>\n",
       "    </tr>\n",
       "  </thead>\n",
       "  <tbody>\n",
       "    <tr>\n",
       "      <th>(S0)_unstand</th>\n",
       "      <td>1.00</td>\n",
       "      <td>4</td>\n",
       "      <td>4.0</td>\n",
       "      <td>4.830</td>\n",
       "      <td>0.048</td>\n",
       "      <td>0.044</td>\n",
       "      <td>(0.043, 0.044)</td>\n",
       "    </tr>\n",
       "    <tr>\n",
       "      <th>(S0)_stand</th>\n",
       "      <td>1.00</td>\n",
       "      <td>4</td>\n",
       "      <td>17.0</td>\n",
       "      <td>17.514</td>\n",
       "      <td>0.438</td>\n",
       "      <td>0.420</td>\n",
       "      <td>(0.419, 0.422)</td>\n",
       "    </tr>\n",
       "    <tr>\n",
       "      <th>(S1)_unstand</th>\n",
       "      <td>0.50</td>\n",
       "      <td>4</td>\n",
       "      <td>4.0</td>\n",
       "      <td>4.290</td>\n",
       "      <td>0.076</td>\n",
       "      <td>0.088</td>\n",
       "      <td>(0.086, 0.089)</td>\n",
       "    </tr>\n",
       "    <tr>\n",
       "      <th>(S1)_stand</th>\n",
       "      <td>0.50</td>\n",
       "      <td>4</td>\n",
       "      <td>11.0</td>\n",
       "      <td>11.329</td>\n",
       "      <td>0.715</td>\n",
       "      <td>0.687</td>\n",
       "      <td>(0.686, 0.689)</td>\n",
       "    </tr>\n",
       "    <tr>\n",
       "      <th>(S2)_unstand</th>\n",
       "      <td>0.25</td>\n",
       "      <td>4</td>\n",
       "      <td>7.0</td>\n",
       "      <td>6.756</td>\n",
       "      <td>0.885</td>\n",
       "      <td>0.878</td>\n",
       "      <td>(0.878, 0.878)</td>\n",
       "    </tr>\n",
       "    <tr>\n",
       "      <th>(S2)_stand</th>\n",
       "      <td>0.25</td>\n",
       "      <td>4</td>\n",
       "      <td>4.0</td>\n",
       "      <td>4.136</td>\n",
       "      <td>1.000</td>\n",
       "      <td>0.995</td>\n",
       "      <td>(0.995, 0.996)</td>\n",
       "    </tr>\n",
       "  </tbody>\n",
       "</table>\n",
       "</div>"
      ],
      "text/plain": [
       "              alpha  K_true   MAP  Ek|data  ARI_best   EARI           CIARI\n",
       "(S0)_unstand   1.00       4   4.0    4.830     0.048  0.044  (0.043, 0.044)\n",
       "(S0)_stand     1.00       4  17.0   17.514     0.438  0.420  (0.419, 0.422)\n",
       "(S1)_unstand   0.50       4   4.0    4.290     0.076  0.088  (0.086, 0.089)\n",
       "(S1)_stand     0.50       4  11.0   11.329     0.715  0.687  (0.686, 0.689)\n",
       "(S2)_unstand   0.25       4   7.0    6.756     0.885  0.878  (0.878, 0.878)\n",
       "(S2)_stand     0.25       4   4.0    4.136     1.000  0.995  (0.995, 0.996)"
      ]
     },
     "execution_count": 5,
     "metadata": {},
     "output_type": "execute_result"
    }
   ],
   "source": [
    "df_perf_CD"
   ]
  },
  {
   "cell_type": "code",
   "execution_count": 70,
   "id": "injured-charter",
   "metadata": {},
   "outputs": [
    {
     "data": {
      "text/html": [
       "<div>\n",
       "<style scoped>\n",
       "    .dataframe tbody tr th:only-of-type {\n",
       "        vertical-align: middle;\n",
       "    }\n",
       "\n",
       "    .dataframe tbody tr th {\n",
       "        vertical-align: top;\n",
       "    }\n",
       "\n",
       "    .dataframe thead th {\n",
       "        text-align: right;\n",
       "    }\n",
       "</style>\n",
       "<table border=\"1\" class=\"dataframe\">\n",
       "  <thead>\n",
       "    <tr style=\"text-align: right;\">\n",
       "      <th></th>\n",
       "      <th>alpha</th>\n",
       "      <th>K_true</th>\n",
       "      <th>MAP</th>\n",
       "      <th>Ek|data</th>\n",
       "      <th>ARI_best</th>\n",
       "      <th>EARI</th>\n",
       "      <th>CIARI</th>\n",
       "    </tr>\n",
       "  </thead>\n",
       "  <tbody>\n",
       "    <tr>\n",
       "      <th>(S0)_unstand</th>\n",
       "      <td>1.00</td>\n",
       "      <td>4</td>\n",
       "      <td>4.0</td>\n",
       "      <td>4.830</td>\n",
       "      <td>0.048</td>\n",
       "      <td>0.044</td>\n",
       "      <td>(0.043, 0.044)</td>\n",
       "    </tr>\n",
       "    <tr>\n",
       "      <th>(S0)_stand</th>\n",
       "      <td>1.00</td>\n",
       "      <td>4</td>\n",
       "      <td>17.0</td>\n",
       "      <td>17.514</td>\n",
       "      <td>0.438</td>\n",
       "      <td>0.420</td>\n",
       "      <td>(0.419, 0.422)</td>\n",
       "    </tr>\n",
       "    <tr>\n",
       "      <th>(S1)_unstand</th>\n",
       "      <td>0.50</td>\n",
       "      <td>4</td>\n",
       "      <td>4.0</td>\n",
       "      <td>4.290</td>\n",
       "      <td>0.076</td>\n",
       "      <td>0.088</td>\n",
       "      <td>(0.086, 0.089)</td>\n",
       "    </tr>\n",
       "    <tr>\n",
       "      <th>(S1)_stand</th>\n",
       "      <td>0.50</td>\n",
       "      <td>4</td>\n",
       "      <td>11.0</td>\n",
       "      <td>11.329</td>\n",
       "      <td>0.715</td>\n",
       "      <td>0.687</td>\n",
       "      <td>(0.686, 0.689)</td>\n",
       "    </tr>\n",
       "    <tr>\n",
       "      <th>(S2)_unstand</th>\n",
       "      <td>0.25</td>\n",
       "      <td>4</td>\n",
       "      <td>7.0</td>\n",
       "      <td>6.756</td>\n",
       "      <td>0.885</td>\n",
       "      <td>0.878</td>\n",
       "      <td>(0.878, 0.878)</td>\n",
       "    </tr>\n",
       "    <tr>\n",
       "      <th>(S2)_stand</th>\n",
       "      <td>0.25</td>\n",
       "      <td>4</td>\n",
       "      <td>4.0</td>\n",
       "      <td>4.136</td>\n",
       "      <td>1.000</td>\n",
       "      <td>0.995</td>\n",
       "      <td>(0.995, 0.996)</td>\n",
       "    </tr>\n",
       "  </tbody>\n",
       "</table>\n",
       "</div>"
      ],
      "text/plain": [
       "              alpha  K_true   MAP  Ek|data  ARI_best   EARI           CIARI\n",
       "(S0)_unstand   1.00       4   4.0    4.830     0.048  0.044  (0.043, 0.044)\n",
       "(S0)_stand     1.00       4  17.0   17.514     0.438  0.420  (0.419, 0.422)\n",
       "(S1)_unstand   0.50       4   4.0    4.290     0.076  0.088  (0.086, 0.089)\n",
       "(S1)_stand     0.50       4  11.0   11.329     0.715  0.687  (0.686, 0.689)\n",
       "(S2)_unstand   0.25       4   7.0    6.756     0.885  0.878  (0.878, 0.878)\n",
       "(S2)_stand     0.25       4   4.0    4.136     1.000  0.995  (0.995, 0.996)"
      ]
     },
     "execution_count": 70,
     "metadata": {},
     "output_type": "execute_result"
    }
   ],
   "source": [
    "df_perf_CD"
   ]
  },
  {
   "cell_type": "code",
   "execution_count": 136,
   "id": "embedded-flesh",
   "metadata": {},
   "outputs": [
    {
     "name": "stdout",
     "output_type": "stream",
     "text": [
      "\\begin{tabular}{lrrrrrrl}\n",
      "\\toprule\n",
      "{} &  alpha &  K\\_true &   MAP &  Ek|data &  ARI\\_best &   EARI &           CIARI \\\\\n",
      "\\midrule\n",
      "(S0)\\_unstand &   1.00 &       4 &   4.0 &    4.830 &     0.048 &  0.044 &  (0.043, 0.044) \\\\\n",
      "(S0)\\_stand   &   1.00 &       4 &  17.0 &   17.514 &     0.438 &  0.420 &  (0.419, 0.422) \\\\\n",
      "(S1)\\_unstand &   0.50 &       4 &   4.0 &    4.290 &     0.076 &  0.088 &  (0.086, 0.089) \\\\\n",
      "(S1)\\_stand   &   0.50 &       4 &  11.0 &   11.329 &     0.715 &  0.687 &  (0.686, 0.689) \\\\\n",
      "(S2)\\_unstand &   0.25 &       4 &   7.0 &    6.756 &     0.885 &  0.878 &  (0.878, 0.878) \\\\\n",
      "(S2)\\_stand   &   0.25 &       4 &   4.0 &    4.136 &     1.000 &  0.995 &  (0.995, 0.996) \\\\\n",
      "\\bottomrule\n",
      "\\end{tabular}\n",
      "\n"
     ]
    }
   ],
   "source": [
    "print(df_perf_CD.to_latex())"
   ]
  },
  {
   "cell_type": "markdown",
   "id": "separated-replica",
   "metadata": {},
   "source": [
    "# Graphics Report Tesi: posterior number of components"
   ]
  },
  {
   "cell_type": "markdown",
   "id": "automated-transsexual",
   "metadata": {},
   "source": [
    "# 2 Plots together"
   ]
  },
  {
   "cell_type": "code",
   "execution_count": 8,
   "id": "sought-police",
   "metadata": {},
   "outputs": [
    {
     "data": {
      "image/png": "[encoded data removed]",
      "text/plain": [
       "<Figure size 1008x288 with 2 Axes>"
      ]
     },
     "metadata": {
      "needs_background": "light"
     },
     "output_type": "display_data"
    }
   ],
   "source": [
    "import matplotlib.gridspec as gridspec\n",
    "\n",
    "# number of components\n",
    "fig = plt.figure(figsize=(14,4))\n",
    "gs = gridspec.GridSpec(1, 2)\n",
    "\n",
    "lab = ['(S0): $\\\\alpha$=1', '(S0): $\\\\alpha$=1','(S1): $\\\\alpha$=0.5', '(S1): $\\\\alpha$=0.5', '(S2): $\\\\alpha$=0.25', '(S2): $\\\\alpha$=0.25']\n",
    "settings = [a_m_p1_unstand, a_m_p1_stand,a_m_p05_unstand, a_m_p05_stand, a_m_p025_unstand, a_m_p025_stand]\n",
    "colors = ['darkred','blue','darkorange','dodgerblue','orangered','navy']\n",
    "\n",
    "ax1 = fig.add_subplot(gs[0,0]) # standardized\n",
    "bars = np.arange(1, 25)\n",
    "\n",
    "for j in [1,3,5]:\n",
    "    alloc_matrix = settings[j]\n",
    "    n_cluster_chain = np.array([len(np.unique(alloc_matrix[i,:])) for i in range(alloc_matrix.shape[0])])\n",
    "    \n",
    "    heights = np.array([np.sum(n_cluster_chain == i) for i in bars]) / len(n_cluster_chain)\n",
    "    ax1.plot(bars, heights, 'o--', label=lab[j], markersize=5, linewidth=1, color=colors[j])\n",
    "    plt.xticks(np.arange(0, 25, step=2)) \n",
    "\n",
    "ax1.legend(fontsize='medium', markerscale=1.2)\n",
    "plt.xlim(1, 24)\n",
    "ax1.axhline(y=0, color='k', alpha=0.5)\n",
    "\n",
    "plt.title('Posterior number of clusters: standardized data')\n",
    "\n",
    "ax2 = fig.add_subplot(gs[0,1]) # unstandardized\n",
    "bars = np.arange(1, 15)\n",
    "\n",
    "for j in [0,2,4]:\n",
    "    alloc_matrix = settings[j]\n",
    "    n_cluster_chain = np.array([len(np.unique(alloc_matrix[i,:])) for i in range(alloc_matrix.shape[0])])\n",
    "    \n",
    "    heights = np.array([np.sum(n_cluster_chain == i) for i in bars]) / len(n_cluster_chain)\n",
    "    ax2.plot(bars, heights, 'o--', label=lab[j], markersize=5, linewidth=1, color=colors[j])\n",
    "    plt.xticks(np.arange(0, 15, step=1)) \n",
    "\n",
    "ax2.legend(fontsize='medium', markerscale=1.2)\n",
    "plt.xlim(1, 14)\n",
    "ax2.axhline(y=0, color='k', alpha=0.5)\n",
    "\n",
    "plt.title('Posterior number of clusters: unstandardized data')\n",
    "\n",
    "gs.update(wspace=0.15, hspace=10)\n",
    "\n",
    "fig.savefig('Lamb_post_nclus_2plots.pdf',bbox_inches=\"tight\")"
   ]
  },
  {
   "cell_type": "markdown",
   "id": "center-wisconsin",
   "metadata": {},
   "source": [
    "# single separate plots"
   ]
  },
  {
   "cell_type": "code",
   "execution_count": 10,
   "id": "successful-ethics",
   "metadata": {},
   "outputs": [
    {
     "data": {
      "image/png": "[encoded data removed]",
      "text/plain": [
       "<Figure size 576x360 with 1 Axes>"
      ]
     },
     "metadata": {
      "needs_background": "light"
     },
     "output_type": "display_data"
    },
    {
     "data": {
      "image/png": "[encoded data removed]",
      "text/plain": [
       "<Figure size 576x360 with 1 Axes>"
      ]
     },
     "metadata": {
      "needs_background": "light"
     },
     "output_type": "display_data"
    }
   ],
   "source": [
    "import matplotlib.gridspec as gridspec\n",
    "import matplotlib.pyplot as plt\n",
    "\n",
    "lab = ['(S0): $\\\\alpha$=1', '(S0): $\\\\alpha$=1','(S1): $\\\\alpha$=0.5', '(S1): $\\\\alpha$=0.5', '(S2): $\\\\alpha$=0.25', '(S2): $\\\\alpha$=0.25']\n",
    "settings = [a_m_p1_unstand, a_m_p1_stand,a_m_p05_unstand, a_m_p05_stand, a_m_p025_unstand, a_m_p025_stand]\n",
    "colors = ['darkred','blue','darkorange','dodgerblue','orangered','navy']\n",
    "\n",
    "# standardized data\n",
    "fig = plt.figure(figsize=(8,5))\n",
    "\n",
    "bars = np.arange(1, 25)\n",
    "\n",
    "for j in [1,3,5]:\n",
    "    alloc_matrix = settings[j]\n",
    "    n_cluster_chain = np.array([len(np.unique(alloc_matrix[i,:])) for i in range(alloc_matrix.shape[0])])\n",
    "    \n",
    "    heights = np.array([np.sum(n_cluster_chain == i) for i in bars]) / len(n_cluster_chain)\n",
    "    plt.plot(bars, heights, 'o--', label=lab[j], markersize=5, linewidth=1, color=colors[j])\n",
    "    plt.xticks(np.arange(0, 25, step=2)) \n",
    "\n",
    "plt.legend(fontsize='large', markerscale=1.2)\n",
    "plt.xlim(1, 24)\n",
    "plt.axhline(y=0, color='k', alpha=0.5)\n",
    "\n",
    "plt.title('Posterior number of clusters: standardized Lamb', fontsize=14)\n",
    "\n",
    "fig.savefig('standard_Lamb_post_pres.pdf',bbox_inches=\"tight\")\n",
    "\n",
    "#unstandardized data\n",
    "fig2 = plt.figure(figsize=(8,5))\n",
    "\n",
    "bars = np.arange(1, 15)\n",
    "\n",
    "for j in [0,2,4]:\n",
    "    alloc_matrix = settings[j]\n",
    "    n_cluster_chain = np.array([len(np.unique(alloc_matrix[i,:])) for i in range(alloc_matrix.shape[0])])\n",
    "    \n",
    "    heights = np.array([np.sum(n_cluster_chain == i) for i in bars]) / len(n_cluster_chain)\n",
    "    plt.plot(bars, heights, 'o--', label=lab[j], markersize=5, linewidth=1, color=colors[j])\n",
    "    plt.xticks(np.arange(0, 15, step=1)) \n",
    "\n",
    "plt.legend(fontsize='large', markerscale=1.2)\n",
    "plt.xlim(1, 14)\n",
    "plt.axhline(y=0, color='k', alpha=0.5)\n",
    "\n",
    "plt.title('Posterior number of clusters: unstandardized Lamb', fontsize=14)\n",
    "\n",
    "fig2.savefig('unstandard_Lamb_post_pres.pdf',bbox_inches=\"tight\")"
   ]
  }
 ],
 "metadata": {
  "kernelspec": {
   "display_name": "Python 3",
   "language": "python",
   "name": "python3"
  },
  "language_info": {
   "codemirror_mode": {
    "name": "ipython",
    "version": 3
   },
   "file_extension": ".py",
   "mimetype": "text/x-python",
   "name": "python",
   "nbconvert_exporter": "python",
   "pygments_lexer": "ipython3",
   "version": "3.8.10"
  }
 },
 "nbformat": 4,
 "nbformat_minor": 5
}
