{
 "cells": [
  {
   "cell_type": "code",
   "execution_count": 17,
   "id": "furnished-board",
   "metadata": {},
   "outputs": [],
   "source": [
    "import numpy as np\n",
    "import matplotlib.pyplot as plt\n",
    "from numpy import linalg as LA\n",
    "import math"
   ]
  },
  {
   "cell_type": "markdown",
   "id": "statewide-polls",
   "metadata": {},
   "source": [
    "# Isotropic Gaussian spectral model"
   ]
  },
  {
   "cell_type": "code",
   "execution_count": 29,
   "id": "searching-jones",
   "metadata": {},
   "outputs": [],
   "source": [
    "def g_iso(z1,z2):\n",
    "    return 1 - np.exp(-10 * (z1**2 + z2**2))\n",
    "\n"
   ]
  },
  {
   "cell_type": "code",
   "execution_count": 33,
   "id": "generous-chance",
   "metadata": {},
   "outputs": [],
   "source": [
    "z1_list = np.linspace(-1.0, 1.0, 100)\n",
    "z2_list = np.linspace(-1.0, 1.0, 100)\n",
    "Z1, Z2 = np.meshgrid(z1_list, z2_list)\n",
    "G_iso = g_iso(Z1,Z2)\n"
   ]
  },
  {
   "cell_type": "code",
   "execution_count": 99,
   "id": "comparative-customs",
   "metadata": {},
   "outputs": [
    {
     "data": {
      "image/png": "[encoded data removed]",
      "text/plain": [
       "<Figure size 432x288 with 2 Axes>"
      ]
     },
     "metadata": {
      "needs_background": "light"
     },
     "output_type": "display_data"
    }
   ],
   "source": [
    "fig,ax=plt.subplots(1,1)\n",
    "v=np.linspace(0,1,11,endpoint=True)\n",
    "cp = ax.contourf(Z1, Z2, G_iso, v, )\n",
    "fig.colorbar(cp,ticks=v) # Add a colorbar to a plot\n",
    "ax.set_title('Isotropic Gaussian')\n",
    "ax.set_xlabel('$x_1$')\n",
    "h=ax.set_ylabel('$x_2$')\n",
    "h.set_rotation(0)\n",
    "plt.xticks(np.arange(-1, 1.25, step=0.5))\n",
    "plt.yticks(np.arange(-1, 1.25, step=0.5))\n",
    "\n",
    "plt.gca().set_aspect('equal', adjustable='box')\n",
    "plt.show()"
   ]
  },
  {
   "cell_type": "markdown",
   "id": "logical-fabric",
   "metadata": {},
   "source": [
    "# Anisotropic Gaussian-like"
   ]
  },
  {
   "cell_type": "code",
   "execution_count": 54,
   "id": "surprised-maximum",
   "metadata": {},
   "outputs": [],
   "source": [
    "def g_aniso(z1,z2):\n",
    "    S = np.array([[np.sqrt(2)/2, -np.sqrt(2)/2],\n",
    "                  [np.sqrt(2)/2, np.sqrt(2)/2]])\n",
    "    D = np.diag([1,4])\n",
    "    Lam = np.matmul(np.matmul(S,D),LA.inv(S))\n",
    "    return 1 - np.exp(-10 / (D[1,1]*D[0,0]) * ((Lam[0,0]*z1 + Lam[0,1]*z2)**2 + (Lam[1,0]*z1+ Lam[1,1]*z2)**2))\n",
    "\n"
   ]
  },
  {
   "cell_type": "code",
   "execution_count": 55,
   "id": "decreased-signal",
   "metadata": {},
   "outputs": [],
   "source": [
    "z1_list = np.linspace(-1.0, 1.0, 100)\n",
    "z2_list = np.linspace(-1.0, 1.0, 100)\n",
    "Z1, Z2 = np.meshgrid(z1_list, z2_list)\n",
    "G_aniso = g_aniso(Z1,Z2)\n"
   ]
  },
  {
   "cell_type": "code",
   "execution_count": 98,
   "id": "bacterial-logic",
   "metadata": {},
   "outputs": [
    {
     "data": {
      "image/png": "[encoded data removed]",
      "text/plain": [
       "<Figure size 432x288 with 2 Axes>"
      ]
     },
     "metadata": {
      "needs_background": "light"
     },
     "output_type": "display_data"
    }
   ],
   "source": [
    "fig,ax=plt.subplots(1,1)\n",
    "v=np.linspace(0,1,11,endpoint=True)\n",
    "cp = ax.contourf(Z1, Z2, G_aniso,v)\n",
    "plt.colorbar(cp,ticks=v)\n",
    "#fig.colorbar(cp) # Add a colorbar to a plot\n",
    "ax.set_title('Anisotropic Gaussian-like')\n",
    "ax.set_xlabel('$x_1$')\n",
    "h=ax.set_ylabel('$x_2$')\n",
    "h.set_rotation(0)\n",
    "plt.xticks(np.arange(-1, 1.25, step=0.5))\n",
    "plt.yticks(np.arange(-1, 1.25, step=0.5))\n",
    "\n",
    "plt.gca().set_aspect('equal', adjustable='box')\n",
    "plt.show()"
   ]
  },
  {
   "cell_type": "code",
   "execution_count": null,
   "id": "saved-makeup",
   "metadata": {},
   "outputs": [],
   "source": []
  }
 ],
 "metadata": {
  "kernelspec": {
   "display_name": "Python 3",
   "language": "python",
   "name": "python3"
  },
  "language_info": {
   "codemirror_mode": {
    "name": "ipython",
    "version": 3
   },
   "file_extension": ".py",
   "mimetype": "text/x-python",
   "name": "python",
   "nbconvert_exporter": "python",
   "pygments_lexer": "ipython3",
   "version": "3.8.5"
  }
 },
 "nbformat": 4,
 "nbformat_minor": 5
}
