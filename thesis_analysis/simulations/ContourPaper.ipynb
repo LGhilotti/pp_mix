{
 "cells": [
  {
   "cell_type": "code",
   "execution_count": 1,
   "metadata": {
    "id": "0tCbGUliVgxL"
   },
   "outputs": [
    {
     "ename": "ModuleNotFoundError",
     "evalue": "No module named 'plotnine'",
     "output_type": "error",
     "traceback": [
      "\u001b[0;31m---------------------------------------------------------------------------\u001b[0m",
      "\u001b[0;31mModuleNotFoundError\u001b[0m                       Traceback (most recent call last)",
      "\u001b[0;32m<ipython-input-1-b48df71a9afb>\u001b[0m in \u001b[0;36m<module>\u001b[0;34m\u001b[0m\n\u001b[1;32m      3\u001b[0m \u001b[0;32mfrom\u001b[0m \u001b[0mnumpy\u001b[0m \u001b[0;32mimport\u001b[0m \u001b[0mlinalg\u001b[0m \u001b[0;32mas\u001b[0m \u001b[0mLA\u001b[0m\u001b[0;34m\u001b[0m\u001b[0;34m\u001b[0m\u001b[0m\n\u001b[1;32m      4\u001b[0m \u001b[0;32mimport\u001b[0m \u001b[0mmath\u001b[0m\u001b[0;34m\u001b[0m\u001b[0;34m\u001b[0m\u001b[0m\n\u001b[0;32m----> 5\u001b[0;31m \u001b[0;32mfrom\u001b[0m \u001b[0mplotnine\u001b[0m \u001b[0;32mimport\u001b[0m \u001b[0mggplot\u001b[0m\u001b[0;34m,\u001b[0m \u001b[0maes\u001b[0m\u001b[0;34m,\u001b[0m \u001b[0mgeom_line\u001b[0m\u001b[0;34m\u001b[0m\u001b[0;34m\u001b[0m\u001b[0m\n\u001b[0m",
      "\u001b[0;31mModuleNotFoundError\u001b[0m: No module named 'plotnine'"
     ]
    }
   ],
   "source": [
    "import numpy as np\n",
    "import matplotlib.pyplot as plt\n",
    "from numpy import linalg as LA\n",
    "import math\n",
    "from plotnine import ggplot, aes, geom_line\n"
   ]
  },
  {
   "cell_type": "markdown",
   "metadata": {
    "id": "5nXH2-05VuEc"
   },
   "source": [
    "Isotropic Gaussian spectral model\n"
   ]
  },
  {
   "cell_type": "code",
   "execution_count": 4,
   "metadata": {
    "id": "T6_zPmzpVzmT"
   },
   "outputs": [],
   "source": [
    "def g_iso(z1,z2):\n",
    "    return 1 - np.exp(-10 * (z1**2 + z2**2))\n",
    "\n"
   ]
  },
  {
   "cell_type": "code",
   "execution_count": 5,
   "metadata": {
    "id": "ndzReEP3V7H_"
   },
   "outputs": [],
   "source": [
    "z1_list = np.linspace(-1.0, 1.0, 100)\n",
    "z2_list = np.linspace(-1.0, 1.0, 100)\n",
    "Z1, Z2 = np.meshgrid(z1_list, z2_list)\n",
    "G_iso = g_iso(Z1,Z2)"
   ]
  },
  {
   "cell_type": "code",
   "execution_count": 28,
   "metadata": {
    "colab": {
     "base_uri": "https://localhost:8080/",
     "height": 297
    },
    "id": "_DEy2FFbnC_f",
    "outputId": "7a173e37-3e16-4cde-a648-fa366bb0313e"
   },
   "outputs": [
    {
     "data": {
      "image/png": "[encoded data removed]",
      "text/plain": [
       "<Figure size 432x288 with 2 Axes>"
      ]
     },
     "metadata": {
      "needs_background": "light"
     },
     "output_type": "display_data"
    }
   ],
   "source": [
    "fig,ax=plt.subplots(1,1)\n",
    "v=np.linspace(0,1,11,endpoint=True)\n",
    "cp = ax.contourf(Z1, Z2, G_iso, cmap='gist_grey')\n",
    "fig.colorbar(cp,ticks=v) # Add a colorbar to a plot\n",
    "ax.set_title('Isotropic Gaussian PCF')\n",
    "ax.set_xlabel('$x_1$')\n",
    "h=ax.set_ylabel('$x_2$')\n",
    "h.set_rotation(0)\n",
    "plt.xticks(np.arange(-1, 1.25, step=0.5))\n",
    "plt.yticks(np.arange(-1, 1.25, step=0.5))\n",
    "\n",
    "plt.gca().set_aspect('equal', adjustable='box')\n",
    "fig.savefig('iso_pcf.pdf',bbox_inches=\"tight\")"
   ]
  },
  {
   "cell_type": "markdown",
   "metadata": {
    "id": "32sOMx63WCHT"
   },
   "source": [
    "Anisotropic Gaussian-like\n",
    "*testo in corsivo*"
   ]
  },
  {
   "cell_type": "code",
   "execution_count": 15,
   "metadata": {
    "id": "0lfYe9cDWCza"
   },
   "outputs": [],
   "source": [
    "def g_aniso_bisec(z1,z2):\n",
    "    S = np.array([[np.sqrt(2)/2, -np.sqrt(2)/2],\n",
    "                  [np.sqrt(2)/2, np.sqrt(2)/2]])\n",
    "    D = np.diag([1,4])\n",
    "    Lam = np.matmul(np.matmul(S,D),LA.inv(S))\n",
    "    return 1 - np.exp(-5 / (D[1,1]*D[0,0]) * ((Lam[0,0]*z1 + Lam[0,1]*z2)**2 + (Lam[1,0]*z1+ Lam[1,1]*z2)**2))"
   ]
  },
  {
   "cell_type": "code",
   "execution_count": 16,
   "metadata": {
    "id": "Pztadx7PWHXi"
   },
   "outputs": [],
   "source": [
    "z1_list = np.linspace(-1.0, 1.0, 100)\n",
    "z2_list = np.linspace(-1.0, 1.0, 100)\n",
    "Z1, Z2 = np.meshgrid(z1_list, z2_list)\n",
    "G_aniso_bisec = g_aniso_bisec(Z1,Z2)"
   ]
  },
  {
   "cell_type": "code",
   "execution_count": 22,
   "metadata": {
    "colab": {
     "base_uri": "https://localhost:8080/",
     "height": 297
    },
    "id": "HaxWoxq2ZmEC",
    "outputId": "96110962-c55f-4a03-e0aa-4a1ca63b1b04"
   },
   "outputs": [
    {
     "data": {
      "image/png": "[encoded data removed]",
      "text/plain": [
       "<Figure size 432x288 with 2 Axes>"
      ]
     },
     "metadata": {
      "needs_background": "light"
     },
     "output_type": "display_data"
    }
   ],
   "source": [
    "fig,ax=plt.subplots(1,1)\n",
    "v=np.linspace(0,1,11,endpoint=True)\n",
    "cp = ax.contourf(Z1, Z2, G_aniso_bisec,cmap='gist_heat')\n",
    "plt.colorbar(cp,ticks=v)\n",
    "#fig.colorbar(cp) # Add a colorbar to a plot\n",
    "ax.set_title('Anisotropic Gaussian-like PCF')\n",
    "ax.set_xlabel('$x_1$')\n",
    "h=ax.set_ylabel('$x_2$')\n",
    "h.set_rotation(0)\n",
    "plt.xticks(np.arange(-1, 1.25, step=0.5))\n",
    "plt.yticks(np.arange(-1, 1.25, step=0.5))\n",
    "plt.arrow(0,0,math.sqrt(2)/3,math.sqrt(2)/3,color='white', lw = 1, \n",
    "             head_width=0.08, head_length=0.08, overhang = 0.7, \n",
    "             length_includes_head= True)\n",
    "plt.arrow(0,0,-math.sqrt(2)/12,math.sqrt(2)/12,color='white', lw = 1, \n",
    "             head_width=0.08, head_length=0.08, overhang = 0.7, \n",
    "             length_includes_head= True)\n",
    "plt.text(0.06,-0.03, r'$\\lambda \\cdot r$', color='white')\n",
    "plt.text(-0.15,-0.05, r'$r$', color='white')\n",
    "plt.gca().set_aspect('equal', adjustable='box')\n",
    "fig.savefig('aniso_bisec_eigen_pcf_poster.pdf',bbox_inches=\"tight\")"
   ]
  },
  {
   "cell_type": "markdown",
   "metadata": {
    "id": "R7vCCVZzmgwH"
   },
   "source": [
    "parallel anisotropy\n"
   ]
  },
  {
   "cell_type": "code",
   "execution_count": 29,
   "metadata": {
    "id": "MHU8Bi7Dk32j"
   },
   "outputs": [],
   "source": [
    "def g_aniso_paral(z1,z2):\n",
    "    Lam = np.diag([1,4])\n",
    "    return 1 - np.exp(-5 / (Lam[1,1]*Lam[0,0]) * ((Lam[0,0]*z1)**2 + (Lam[1,1]*z2)**2))\n"
   ]
  },
  {
   "cell_type": "code",
   "execution_count": 30,
   "metadata": {
    "id": "f1UTFDl6mliv"
   },
   "outputs": [],
   "source": [
    "z1_list = np.linspace(-1.0, 1.0, 100)\n",
    "z2_list = np.linspace(-1.0, 1.0, 100)\n",
    "Z1, Z2 = np.meshgrid(z1_list, z2_list)\n",
    "G_aniso_paral = g_aniso_paral(Z1,Z2)"
   ]
  },
  {
   "cell_type": "code",
   "execution_count": 31,
   "metadata": {
    "colab": {
     "base_uri": "https://localhost:8080/",
     "height": 297
    },
    "id": "i7rBDpuimmd_",
    "outputId": "e98aa03f-7c00-49da-eb86-eacf5b8bbf2c"
   },
   "outputs": [
    {
     "data": {
      "image/png": "[encoded data removed]",
      "text/plain": [
       "<Figure size 432x288 with 2 Axes>"
      ]
     },
     "metadata": {
      "needs_background": "light"
     },
     "output_type": "display_data"
    }
   ],
   "source": [
    "fig,ax=plt.subplots(1,1)\n",
    "v=np.linspace(0,1,11,endpoint=True)\n",
    "cp = ax.contourf(Z1, Z2, G_aniso_paral,cmap='gist_heat')\n",
    "plt.colorbar(cp,ticks=v)\n",
    "#fig.colorbar(cp) # Add a colorbar to a plot\n",
    "ax.set_title('Anisotropic Gaussian-like PCF')\n",
    "ax.set_xlabel('$x_1$')\n",
    "h=ax.set_ylabel('$x_2$')\n",
    "h.set_rotation(0)\n",
    "plt.xticks(np.arange(-1, 1.25, step=0.5))\n",
    "plt.yticks(np.arange(-1, 1.25, step=0.5))\n",
    "plt.arrow(0,0,2/3,0,color='white', lw = 1, \n",
    "             head_width=0.08, head_length=0.08, overhang = 0.7, \n",
    "             length_includes_head= True)\n",
    "plt.arrow(0,0,0,1/6,color='white', lw = 1, \n",
    "             head_width=0.08, head_length=0.08, overhang = 0.7, \n",
    "             length_includes_head= True)\n",
    "plt.text(0.07,-0.12, r'$\\lambda \\cdot r$', color='white')\n",
    "plt.text(-0.15,0.1, r'$r$', color='white')\n",
    "\n",
    "plt.gca().set_aspect('equal', adjustable='box')\n",
    "fig.savefig('aniso_paral_eigen_pcf.pdf',bbox_inches=\"tight\")"
   ]
  },
  {
   "cell_type": "code",
   "execution_count": null,
   "metadata": {
    "id": "icX19I6RnOo9"
   },
   "outputs": [],
   "source": []
  }
 ],
 "metadata": {
  "colab": {
   "collapsed_sections": [],
   "name": "ContourPoster.ipynb",
   "provenance": []
  },
  "kernelspec": {
   "display_name": "Python 3",
   "language": "python",
   "name": "python3"
  },
  "language_info": {
   "codemirror_mode": {
    "name": "ipython",
    "version": 3
   },
   "file_extension": ".py",
   "mimetype": "text/x-python",
   "name": "python",
   "nbconvert_exporter": "python",
   "pygments_lexer": "ipython3",
   "version": "3.8.10"
  }
 },
 "nbformat": 4,
 "nbformat_minor": 1
}
