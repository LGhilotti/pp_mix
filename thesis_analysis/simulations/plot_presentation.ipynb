{
 "cells": [
  {
   "cell_type": "code",
   "execution_count": 67,
   "id": "excited-fiction",
   "metadata": {},
   "outputs": [],
   "source": [
    "import numpy as np\n",
    "import matplotlib.pyplot as plt\n",
    "import pandas as pd"
   ]
  },
  {
   "cell_type": "code",
   "execution_count": 92,
   "id": "analyzed-horror",
   "metadata": {},
   "outputs": [],
   "source": [
    "mean_1 = [0, 0]\n",
    "cov_1 = [[0.1, 0], [0, 0.1]]\n",
    "\n",
    "mean_2 = [3,1.5]\n",
    "cov_2 =[[0.2,0],[0,0.1]]\n",
    "\n",
    "mean_3 = [2,-0.5]\n",
    "cov_3 = [[0.1,0],[0,0.1]]"
   ]
  },
  {
   "cell_type": "code",
   "execution_count": 103,
   "id": "cultural-waterproof",
   "metadata": {},
   "outputs": [],
   "source": [
    "#x_1,y_1 = np.random.multivariate_normal(mean_1, cov_1, 10).T\n",
    "#x_2,y_2 = np.random.multivariate_normal(mean_2, cov_2, 12).T\n",
    "#x_3,y_3 = np.random.multivariate_normal(mean_3, cov_3, 9).T\n",
    "#p_1 = np.vstack((x_1,y_1)).T\n",
    "#p_2 = np.vstack((x_2,y_2)).T\n",
    "#p_3 = np.vstack((x_3,y_3)).T\n",
    "#points = np.vstack((p_1,p_2,p_3))\n",
    "#np.savetxt(\"pres/points_3cluster.csv\", points, delimiter=\",\")\n",
    "with open(\"pres/points_3cluster.csv\", newline='') as my_csv:\n",
    "    points = pd.read_csv(my_csv, sep=',', header=None).values\n",
    "    \n",
    "x_1_,y_1_ = points[0:10,:].T\n",
    "x_2_,y_2_ = points[10:22,:].T\n",
    "x_3_,y_3_ = points[22:31,:].T\n"
   ]
  },
  {
   "cell_type": "code",
   "execution_count": 104,
   "id": "radical-merchant",
   "metadata": {},
   "outputs": [
    {
     "data": {
      "image/png": "[encoded data removed]",
      "text/plain": [
       "<Figure size 432x288 with 1 Axes>"
      ]
     },
     "metadata": {
      "needs_background": "light"
     },
     "output_type": "display_data"
    }
   ],
   "source": [
    "fig = plt.figure()\n",
    "plt.plot(x_1_, y_1_, 'x', color='green', markersize='8')\n",
    "plt.plot(x_2_, y_2_, 'x', color='blue',markersize='8')\n",
    "plt.plot(x_3_, y_3_, 'x', color='red',markersize='8')\n",
    "plt.axis('equal')\n",
    "plt.axis('off')\n",
    "fig.savefig('pres/points_colored.pdf',bbox_inches=\"tight\")"
   ]
  },
  {
   "cell_type": "code",
   "execution_count": 132,
   "id": "clear-acquisition",
   "metadata": {},
   "outputs": [
    {
     "data": {
      "image/png": "[encoded data removed]",
      "text/plain": [
       "<Figure size 432x288 with 1 Axes>"
      ]
     },
     "metadata": {
      "needs_background": "light"
     },
     "output_type": "display_data"
    }
   ],
   "source": [
    "fig2 = plt.figure()\n",
    "plt.plot(points[:,0], points[:,1], 'x', markersize='8')\n",
    "plt.axis('equal')\n",
    "plt.axis('off')\n",
    "fig2.savefig('pres/points_no_colored.pdf',bbox_inches=\"tight\")"
   ]
  },
  {
   "cell_type": "code",
   "execution_count": 133,
   "id": "arbitrary-rabbit",
   "metadata": {},
   "outputs": [
    {
     "data": {
      "image/png": "[encoded data removed]",
      "text/plain": [
       "<Figure size 432x288 with 1 Axes>"
      ]
     },
     "metadata": {
      "needs_background": "light"
     },
     "output_type": "display_data"
    }
   ],
   "source": [
    "fig3 = plt.figure()\n",
    "plt.plot(points[:,0], points[:,1], 'x', markersize='8')\n",
    "plt.axis('equal')\n",
    "plt.axis('off')\n",
    "plt.plot(np.mean(x_1_),np.mean(y_1_), '*', markersize='20', color='green')\n",
    "plt.text(np.mean(x_1_)  + 0.1, np.mean(y_1_) - 0.2 , '$\\\\mu_1$', fontsize=20, color='green')\n",
    "plt.plot(np.mean(x_2_),np.mean(y_2_), '*', markersize='20', color='blue')\n",
    "plt.text(np.mean(x_2_)  + 0.1, np.mean(y_2_) - 0.2 , '$\\\\mu_2$', fontsize=20, color='blue')\n",
    "plt.plot(np.mean(x_3_),np.mean(y_3_), '*', markersize='20', color='red')\n",
    "plt.text(np.mean(x_3_)  + 0.1, np.mean(y_3_) - 0.2 , '$\\\\mu_3$', fontsize=20, color='red')\n",
    "\n",
    "fig3.savefig('pres/points_and_means.pdf',bbox_inches=\"tight\")\n"
   ]
  },
  {
   "cell_type": "code",
   "execution_count": 168,
   "id": "pointed-genealogy",
   "metadata": {},
   "outputs": [],
   "source": [
    "#u_1 = np.random.normal(2, 0.3, 8)\n",
    "#u_2 = np.random.normal(3.5, 0.3, 10)\n",
    "#u_3 = np.random.normal(6, 0.6, 12)\n",
    "#u_p = np.concatenate((u_1,u_2,u_3))\n",
    "#np.savetxt(\"pres/univariate_points.csv\", u_p, delimiter=\",\")\n",
    "with open(\"pres/univariate_points.csv\", newline='') as my_csv:\n",
    "    u_p = pd.read_csv(my_csv, sep=',', header=None).values\n",
    "\n",
    "u_1 = u_p[0:8]\n",
    "u_2 = u_p[8:18]\n",
    "u_3 = u_p[18:30]"
   ]
  },
  {
   "cell_type": "code",
   "execution_count": 166,
   "id": "moved-accreditation",
   "metadata": {},
   "outputs": [
    {
     "data": {
      "text/plain": [
       "array([2.20439639, 1.71367008, 1.68390725, 1.75432863, 1.72282044,\n",
       "       2.26546811, 1.86900734, 2.19217228, 3.17018222, 3.59186248,\n",
       "       3.40754083, 3.33119044, 3.10710239, 3.56361374, 3.48786002,\n",
       "       3.21100324, 4.00305972, 3.44904746, 6.19879596, 6.61638151,\n",
       "       6.27681708, 6.8288014 , 5.76404381, 6.48885843, 6.3717168 ,\n",
       "       6.46155944, 5.02119719, 5.5493323 , 5.77725595, 6.27422793])"
      ]
     },
     "execution_count": 166,
     "metadata": {},
     "output_type": "execute_result"
    }
   ],
   "source": []
  },
  {
   "cell_type": "code",
   "execution_count": 363,
   "id": "primary-character",
   "metadata": {},
   "outputs": [
    {
     "data": {
      "image/png": "[encoded data removed]",
      "text/plain": [
       "<Figure size 432x288 with 1 Axes>"
      ]
     },
     "metadata": {
      "needs_background": "light"
     },
     "output_type": "display_data"
    }
   ],
   "source": [
    "fig4 = plt.figure(figsize=(6,4))\n",
    "plt.plot(u_1, np.zeros_like(u_1), 'x', markersize=8, color='green')\n",
    "plt.plot(u_2, np.zeros_like(u_2), 'x', markersize=8, color='red')\n",
    "plt.plot(u_3, np.zeros_like(u_3), 'x', markersize=8, color='blue')\n",
    "plt.hlines(0,1,7.5,color='black',linewidth=1)\n",
    "plt.axis('off')\n",
    "plt.rcParams.update({\n",
    "    'font.size': 8,\n",
    "    'text.usetex': True,\n",
    "    'text.latex.preamble': r'\\usepackage{amsfonts}'\n",
    "})\n",
    "#plt.text(5,0.03,r'$\\mathbb{R}^d,\\, d\\; small$ ', fontsize=20)\n",
    "#plt.title(r'$\\eta_i \\in \\mathbb{R}^d,\\, d\\; small$ ', fontsize=20)\n",
    "fig4.savefig('pres/univariate_points_3clusters.pdf',bbox_inches=\"tight\")"
   ]
  },
  {
   "cell_type": "code",
   "execution_count": 219,
   "id": "roman-orientation",
   "metadata": {},
   "outputs": [],
   "source": [
    "Lam = np.array([1,1,1])"
   ]
  },
  {
   "cell_type": "code",
   "execution_count": 220,
   "id": "equipped-remains",
   "metadata": {},
   "outputs": [],
   "source": [
    "np.random.seed(1234)\n",
    "multi_1 = np.array([Lam * p + np.random.multivariate_normal([0,0,0],0.1*np.eye(3)) for p in u_1])\n",
    "multi_2 = np.array([Lam * p + np.random.multivariate_normal([0,0,0],0.1*np.eye(3)) for p in u_2])\n",
    "multi_3 = np.array([Lam * p + np.random.multivariate_normal([0,0,0],0.1*np.eye(3)) for p in u_3])"
   ]
  },
  {
   "cell_type": "code",
   "execution_count": 364,
   "id": "junior-weekend",
   "metadata": {},
   "outputs": [
    {
     "data": {
      "image/png": "[encoded data removed]",
      "text/plain": [
       "<Figure size 432x288 with 1 Axes>"
      ]
     },
     "metadata": {},
     "output_type": "display_data"
    }
   ],
   "source": [
    "fig5 = plt.figure(figsize=(6,4))\n",
    "ax = fig5.add_subplot(projection='3d')\n",
    "ax.scatter(multi_1[:,0], multi_1[:,1], multi_1[:,2], marker='x', s=30, color='green')\n",
    "ax.scatter(multi_2[:,0], multi_2[:,1], multi_2[:,2], marker='x', s=30, color='red')\n",
    "ax.scatter(multi_3[:,0], multi_3[:,1], multi_3[:,2], marker='x', s=30, color='blue')\n",
    "#ax.set_xlabel('x')\n",
    "#ax.set_ylabel('y')\n",
    "#ax.set_zlabel('z')\n",
    "ax.grid(False)\n",
    "ax.set_xticks([])\n",
    "ax.set_yticks([])\n",
    "ax.set_zticks([])\n",
    "plt.rcParams.update({\n",
    "    'font.size': 8,\n",
    "    'text.usetex': True,\n",
    "    'text.latex.preamble': r'\\usepackage{amsfonts}'\n",
    "})\n",
    "#ax.text(3,7,9.1,r'$\\mathbb{R}^p, \\, p \\;large$', fontsize=20)\n",
    "#plt.title(r'$y_i \\in \\mathbb{R}^p, \\, p \\;large$', fontsize=20)\n",
    "fig5.savefig('pres/multi_points_3clusters.pdf',bbox_inches=\"tight\")"
   ]
  },
  {
   "cell_type": "code",
   "execution_count": 335,
   "id": "variable-medicare",
   "metadata": {},
   "outputs": [],
   "source": [
    "np.random.seed(12345)\n",
    "b_1 = np.random.multivariate_normal([1,-0.7], 0.08*np.eye(2), size=12)\n",
    "b_2 = np.random.multivariate_normal([3,1], 0.08*np.eye(2), size=12)\n",
    "b_3 = np.random.multivariate_normal([4,-0.7], 0.08*np.eye(2), size=12)"
   ]
  },
  {
   "cell_type": "code",
   "execution_count": 350,
   "id": "wicked-triumph",
   "metadata": {},
   "outputs": [
    {
     "data": {
      "image/png": "[encoded data removed]",
      "text/plain": [
       "<Figure size 432x288 with 1 Axes>"
      ]
     },
     "metadata": {},
     "output_type": "display_data"
    }
   ],
   "source": [
    "plt.plot(b_1[:,0],b_1[:,1], 'x', color='green')\n",
    "plt.plot(b_2[:,0],b_2[:,1], 'x', color='blue')\n",
    "plt.plot(b_3[:,0],b_3[:,1], 'x', color='red')\n",
    "fig6 = plt.gcf()\n",
    "fig6.set_facecolor('white') \n",
    "ax = plt.gca()\n",
    "ax.axis('equal')\n",
    "# removing the default axis on all sides:\n",
    "for side in ['bottom','right','top','left']:\n",
    "    ax.spines[side].set_visible(False)\n",
    "\n",
    "# removing the axis ticks\n",
    "plt.xticks([]) # labels \n",
    "plt.yticks([])\n",
    "ax.xaxis.set_ticks_position('none') # tick markers\n",
    "ax.yaxis.set_ticks_position('none')\n",
    "\n",
    "# draw x and y axis\n",
    "ax.arrow(-0.2, 0, 6, 0., fc='k', ec='k', lw = 0.5, \n",
    "             head_width=0.2, head_length=0.2, overhang = 1, \n",
    "             length_includes_head= True, clip_on = False) \n",
    "\n",
    "ax.arrow(0, -1.5, 0., 3.5, fc='k', ec='k', lw = 0.5, \n",
    "             head_width=0.2, head_length=0.2, overhang = 1, \n",
    "             length_includes_head= True, clip_on = False)\n",
    "\n",
    "fig6.savefig('pres/lambda_problem_2d.pdf',bbox_inches=\"tight\")"
   ]
  },
  {
   "cell_type": "code",
   "execution_count": 339,
   "id": "bronze-recognition",
   "metadata": {},
   "outputs": [],
   "source": [
    "Lamb=np.array([[0,0,0],[1,1,1]]).T"
   ]
  },
  {
   "cell_type": "code",
   "execution_count": 343,
   "id": "physical-scotland",
   "metadata": {},
   "outputs": [],
   "source": [
    "t_1 = np.array([np.matmul(Lamb,p) for p in b_1])\n",
    "t_2 = np.array([np.matmul(Lamb,p) for p in b_2])\n",
    "t_3 = np.array([np.matmul(Lamb,p) for p in b_3])"
   ]
  },
  {
   "cell_type": "code",
   "execution_count": 352,
   "id": "polish-terror",
   "metadata": {},
   "outputs": [
    {
     "data": {
      "image/png": "[encoded data removed]",
      "text/plain": [
       "<Figure size 432x288 with 1 Axes>"
      ]
     },
     "metadata": {},
     "output_type": "display_data"
    }
   ],
   "source": [
    "fig7 = plt.figure()\n",
    "ax = fig7.add_subplot(projection='3d')\n",
    "ax.scatter(t_1[:,0], t_1[:,1], t_1[:,2], marker='x', s=30, color='green')\n",
    "ax.scatter(t_2[:,0], t_2[:,1], t_2[:,2], marker='x', s=30, color='blue')\n",
    "ax.scatter(t_3[:,0], t_3[:,1], t_3[:,2], marker='x', s=30, color='red')\n",
    "#ax.set_xlabel('x')\n",
    "#ax.set_ylabel('y')\n",
    "#ax.set_zlabel('z')\n",
    "ax.grid(False)\n",
    "ax.set_xticks([])\n",
    "ax.set_yticks([])\n",
    "ax.set_zticks([])\n",
    "plt.rcParams.update({\n",
    "    'font.size': 8,\n",
    "    'text.usetex': True,\n",
    "    'text.latex.preamble': r'\\usepackage{amsfonts}'\n",
    "})\n",
    "#ax.text(3,7,9.1,r'$\\mathbb{R}^p, \\, p \\;large$', fontsize=20)\n",
    "fig7.savefig('pres/lambda_problem_3d.pdf',bbox_inches=\"tight\")"
   ]
  }
 ],
 "metadata": {
  "kernelspec": {
   "display_name": "Python 3",
   "language": "python",
   "name": "python3"
  },
  "language_info": {
   "codemirror_mode": {
    "name": "ipython",
    "version": 3
   },
   "file_extension": ".py",
   "mimetype": "text/x-python",
   "name": "python",
   "nbconvert_exporter": "python",
   "pygments_lexer": "ipython3",
   "version": "3.8.5"
  }
 },
 "nbformat": 4,
 "nbformat_minor": 5
}
