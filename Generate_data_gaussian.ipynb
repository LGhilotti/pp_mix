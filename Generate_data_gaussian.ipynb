{
 "cells": [
  {
   "cell_type": "code",
   "execution_count": 1,
   "id": "provincial-madness",
   "metadata": {},
   "outputs": [],
   "source": [
    "import numpy as np\n",
    "import arviz as az\n",
    "import math\n",
    "# import pymc3 as pm\n",
    "import pickle\n",
    "import matplotlib.pyplot as plt\n",
    "from google.protobuf import text_format\n",
    "from scipy.stats import multivariate_normal as mvn\n",
    "from scipy.stats import skewnorm\n",
    "from scipy.stats import norm\n",
    "from scipy.interpolate import griddata\n",
    "import pp_mix.protos.py.params_pb2 as params_pb2\n",
    "\n",
    "from pp_mix.interface import ConditionalMCMC, cluster_estimate\n",
    "from pp_mix.utils import loadChains, to_numpy, to_proto\n",
    "from pp_mix.protos.py.state_pb2 import MultivariateMixtureState, EigenVector, EigenMatrix\n",
    "from pp_mix.protos.py.params_pb2 import Params"
   ]
  },
  {
   "cell_type": "markdown",
   "id": "portable-warning",
   "metadata": {},
   "source": [
    "# Generate data\n",
    "\n",
    "assuming delta = I identical for all clusters"
   ]
  },
  {
   "cell_type": "code",
   "execution_count": 3,
   "id": "smooth-creator",
   "metadata": {},
   "outputs": [],
   "source": [
    "def generate_etas(mus, deltas_cov, cluster_alloc):\n",
    "    np.random.seed(seed=233423)\n",
    "    out = np.vstack([[mvn.rvs(mean = mus[i,:], cov = deltas_cov) for i in cluster_alloc]])\n",
    "    return out\n",
    "\n",
    "def generate_data(Lambda, etas, sigma_bar_cov):\n",
    "    np.random.seed(seed=233423)\n",
    "    means = np.matmul(Lambda,etas.T)\n",
    "    sigma_bar_cov_mat = np.diag(sigma_bar_cov)\n",
    "    out = np.vstack([[mvn.rvs(mean = means[:,i], cov = sigma_bar_cov_mat) for i in range(etas.shape[0])]])\n",
    "    return out\n",
    "\n",
    "def create_lambda(p,d):\n",
    "    if p % d != 0:\n",
    "        raise ValueError(\"Non compatible dimensions p and d: p={0}, d={1}\".format(p,d))\n",
    "    \n",
    "    h = math.floor(p/d)\n",
    "    Lambda=np.zeros((p,d))\n",
    "    for i in range(d):\n",
    "        Lambda[i*h:i*h+h,i] = np.ones(h)\n",
    "        \n",
    "    return Lambda\n",
    "\n",
    "def create_mus(d,M,dist):\n",
    "    mus = np.zeros((M,d))\n",
    "    tot_range = (M-1)*dist \n",
    "    max_mu = tot_range/2\n",
    "    for i in range(M):\n",
    "        mus[i,:] = np.repeat(max_mu-i*dist, d)\n",
    "        \n",
    "    return mus\n",
    "\n",
    "def create_cluster_alloc(n_pc,M):\n",
    "    return np.repeat(range(M),n_pc)    "
   ]
  },
  {
   "cell_type": "code",
   "execution_count": 4,
   "id": "fiscal-malawi",
   "metadata": {},
   "outputs": [],
   "source": [
    "import csv\n",
    "dist=5\n",
    "p_s = [50, 100]\n",
    "d_s = [2, 5]\n",
    "M_s = [4]\n",
    "n_percluster_s = [50, 200]\n",
    "\n",
    "for p in p_s:\n",
    "    sigma_bar_prec = np.repeat(2, p)\n",
    "    sigma_bar_cov = 1/sigma_bar_prec\n",
    "    for d in d_s:\n",
    "        lamb = create_lambda(p,d)\n",
    "        delta_cov = np.eye(d)\n",
    "        for M in M_s:\n",
    "            mus = create_mus(d,M,dist)\n",
    "            for n_percluster in n_percluster_s:                \n",
    "                cluster_alloc = create_cluster_alloc(n_percluster,M)\n",
    "                etas = generate_etas(mus, delta_cov, cluster_alloc)\n",
    "                data = generate_data(lamb, etas, sigma_bar_cov)\n",
    "                #with open(\"data/data_script_sim/p_{0}_d_{1}_M_{2}_nperclus_{3}_data.csv\".format(p,d,M,n_percluster),\"w+\") as my_csv:\n",
    "                    csvWriter = csv.writer(my_csv, delimiter=',')\n",
    "                    csvWriter.writerows(data)\n",
    "\n",
    "\n"
   ]
  },
  {
   "cell_type": "code",
   "execution_count": 2,
   "id": "charitable-vermont",
   "metadata": {},
   "outputs": [
    {
     "name": "stdout",
     "output_type": "stream",
     "text": [
      "(200, 50)\n"
     ]
    }
   ],
   "source": [
    "import pandas as pd\n",
    "with open(\"data/data_script_sim/p_50_d_2_M_4_nperclus_50_data.csv\", newline='') as my_csv:\n",
    "    data = pd.read_csv(my_csv, sep=',', header=None).values\n",
    "    \n",
    "print(data.shape)"
   ]
  }
 ],
 "metadata": {
  "kernelspec": {
   "display_name": "Python 3",
   "language": "python",
   "name": "python3"
  },
  "language_info": {
   "codemirror_mode": {
    "name": "ipython",
    "version": 3
   },
   "file_extension": ".py",
   "mimetype": "text/x-python",
   "name": "python",
   "nbconvert_exporter": "python",
   "pygments_lexer": "ipython3",
   "version": "3.8.5"
  }
 },
 "nbformat": 4,
 "nbformat_minor": 5
}
