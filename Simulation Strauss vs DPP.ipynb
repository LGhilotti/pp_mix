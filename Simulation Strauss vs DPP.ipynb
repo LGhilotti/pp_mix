{
 "cells": [
  {
   "cell_type": "code",
   "execution_count": 1,
   "metadata": {},
   "outputs": [],
   "source": [
    "import numpy as np\n",
    "import arviz as az\n",
    "# import pymc3 as pm\n",
    "import pickle\n",
    "import time\n",
    "import matplotlib.pyplot as plt\n",
    "from google.protobuf import text_format\n",
    "from scipy.stats import multivariate_normal as mvn\n",
    "from scipy.stats import skewnorm\n",
    "from scipy.stats import norm\n",
    "from scipy.interpolate import griddata\n",
    "from pp_mix.interface import estimate_density_seq\n",
    "from pp_mix.params_helper import make_default_strauss\n",
    "import pp_mix.protos.py.params_pb2 as params_pb2\n",
    "\n",
    "\n",
    "# from pp_mix.state import extract_chain\n",
    "from pp_mix.interface import ConditionalMCMC, estimate_density_seq, simulate_strauss2d\n",
    "from pp_mix.utils import loadChains, to_numpy, to_proto\n",
    "from pp_mix.protos.py.state_pb2 import MultivariateMixtureState, UnivariateMixtureState\n",
    "from pp_mix.protos.py.params_pb2 import Params"
   ]
  },
  {
   "cell_type": "markdown",
   "metadata": {},
   "source": [
    "# Execution times as dimension increases"
   ]
  },
  {
   "cell_type": "code",
   "execution_count": null,
   "metadata": {},
   "outputs": [],
   "source": [
    "def generate_data(dim):\n",
    "    if (dim == 1):\n",
    "        data = np.concatenate([\n",
    "            np.random.normal(loc = 5, size=100), \n",
    "            np.random.normal(loc = -5, size=100)\n",
    "        ])\n",
    "    else:\n",
    "        data = np.vstack([\n",
    "           [mvn.rvs(mean=np.ones(dim) * 5, cov=np.eye(dim)) for _ in range(100)],\n",
    "           [mvn.rvs(mean=np.ones(dim) * (-5), cov=np.eye(dim)) for _ in range(100)]])\n",
    "    return data"
   ]
  },
  {
   "cell_type": "code",
   "execution_count": null,
   "metadata": {},
   "outputs": [],
   "source": [
    "nrep = 10\n",
    "dimrange = [1, 2, 3, 4, 5]\n",
    "strauss_times = np.zeros((nrep, len(dimrange)))\n",
    "\n",
    "nrange = [5, 10, 20]\n",
    "dpp_times = np.zeros((nrep, len(dimrange), len(nrange)))\n",
    "\n",
    "\n",
    "for i in range(nrep):\n",
    "    print(\"Running rep: {0}\".format(i))\n",
    "    for j, dim in enumerate([1, 2, 3, 4, 5]):\n",
    "        data = generate_data(dim)\n",
    "        if dim == 1:\n",
    "            prec_params = params_pb2.GammaParams(alpha=1.0, beta=1.0)\n",
    "        else:\n",
    "            prec_params = params_pb2.WishartParams(\n",
    "                nu=dim+1,identity=True, sigma=3, dim=dim)\n",
    "        gamma_jump_params = params_pb2.GammaParams(alpha=1, beta=1)\n",
    "\n",
    "\n",
    "        strauss_params = make_default_strauss(data)\n",
    "        strauss_params.fixed_params = False\n",
    "        strauss_sampler = ConditionalMCMC(\n",
    "            pp_params=strauss_params,\n",
    "            prec_params=prec_params,\n",
    "            jump_params=gamma_jump_params)\n",
    "\n",
    "        start = time.time()\n",
    "        strauss_sampler.run(0, 2, 5, data)\n",
    "        strauss_times[i, j] = time.time() - start\n",
    "\n",
    "            \n",
    "        for k, n in enumerate(nrange):\n",
    "            \n",
    "            if n == 20 and dim > 3:\n",
    "                continue\n",
    "            \n",
    "            if n == 10 and dim > 4:\n",
    "                continue\n",
    "                \n",
    "            dpp_params = params_pb2.DPPParams(nu=2.0, rho=3.0, N=n)\n",
    "            dpp_sampler = ConditionalMCMC(\n",
    "                pp_params=dpp_params, \n",
    "                prec_params=prec_params,\n",
    "                jump_params=gamma_jump_params)\n",
    "            start = time.time()\n",
    "            dpp_sampler.run(0, 2, 5, data)\n",
    "            dpp_times[i, j, k] = time.time() - start"
   ]
  },
  {
   "cell_type": "code",
   "execution_count": null,
   "metadata": {},
   "outputs": [],
   "source": [
    "# with open(\"data/execution_times.pickle\", \"wb\") as fp:\n",
    "#     pickle.dump({\"dpp\": dpp_times, \"strauss\": strauss_times}, fp)"
   ]
  },
  {
   "cell_type": "code",
   "execution_count": null,
   "metadata": {},
   "outputs": [],
   "source": [
    "with open(\"data/execution_times.pickle\", \"rb\") as fp:\n",
    "    times = pickle.load(fp)\n",
    "    \n",
    "strauss_times = times[\"strauss\"]\n",
    "dpp_times = times[\"dpp\"]"
   ]
  },
  {
   "cell_type": "code",
   "execution_count": null,
   "metadata": {},
   "outputs": [],
   "source": [
    "nrange = [5, 10, 20]\n",
    "dimrange = [1, 2, 3, 4, 5]\n",
    "\n",
    "plt.plot(dimrange, np.median(strauss_times, axis=0), label=\"Strauss\")\n",
    "# for k, n in enumerate(nrange):\n",
    "\n",
    "plt.plot(dimrange[:4], np.median(dpp_times[:, :4, 0], axis=0), label=\"DPP, N:{0}\".format(nrange[0]))\n",
    "plt.plot(dimrange[:4], np.median(dpp_times[:, :4, 1], axis=0),  label=\"DPP, N:{0}\".format(nrange[1]))\n",
    "# plt.plot(dimrange[:3], np.median(dpp_times[:, :3, 2], axis=0), label=\"dpp, N:{0}\".format(dimrange[2]))\n",
    "\n",
    "# plt.yscale(\"log\")\n",
    "plt.ylim(ymax=10)\n",
    "plt.xticks(dimrange)\n",
    "plt.legend()\n",
    "\n",
    "plt.ylabel(\"execution times (s)\", fontsize=15)\n",
    "plt.savefig(\"images/exec_times.pdf\")\n",
    "plt.show()"
   ]
  },
  {
   "cell_type": "code",
   "execution_count": null,
   "metadata": {},
   "outputs": [],
   "source": [
    "dpp_times[:, 0, 1] "
   ]
  },
  {
   "cell_type": "code",
   "execution_count": null,
   "metadata": {},
   "outputs": [],
   "source": [
    "with open(\"data/execution_times.pickle\", \"rb\") as fp:\n",
    "    tims_ = pickle.load(fp)\n",
    "    \n",
    "dpp_times = tims_[\"dpp\"]\n",
    "strauss_times = tims_[\"strauss\"]"
   ]
  },
  {
   "cell_type": "code",
   "execution_count": null,
   "metadata": {},
   "outputs": [],
   "source": [
    "np.mean(dpp_times[:, 1, 2] / strauss_times[:, 1])"
   ]
  },
  {
   "cell_type": "code",
   "execution_count": null,
   "metadata": {},
   "outputs": [],
   "source": [
    "dim = 2\n",
    "data = generate_data(dim)\n",
    "\n",
    "prec_params = params_pb2.WishartParams(\n",
    "                nu=dim+1,identity=True, sigma=3, dim=dim)\n",
    "dpp_params = params_pb2.DPPParams(nu=2.0, rho=3.0, N=50)\n",
    "dpp_sampler = ConditionalMCMC(\n",
    "    pp_params=dpp_params, \n",
    "    prec_params=prec_params,\n",
    "    jump_params=gamma_jump_params)\n",
    "start = time.time()\n",
    "dpp_sampler.run(0, 2, 5, data)\n",
    "dpp_time = time.time() - start"
   ]
  },
  {
   "cell_type": "code",
   "execution_count": null,
   "metadata": {},
   "outputs": [],
   "source": [
    "np.median(dpp_time / strauss_times[:, 1])"
   ]
  },
  {
   "cell_type": "markdown",
   "metadata": {},
   "source": [
    "# Simulation"
   ]
  },
  {
   "cell_type": "code",
   "execution_count": 2,
   "metadata": {},
   "outputs": [
    {
     "data": {
      "text/plain": [
       "(array([ 22.,  62.,  23.,  33., 131.,  15.,  87.,  19.,  68.,  40.]),\n",
       " array([-5.62265426, -4.31200308, -3.0013519 , -1.69070072, -0.38004955,\n",
       "         0.93060163,  2.24125281,  3.55190399,  4.86255517,  6.17320635,\n",
       "         7.48385753]),\n",
       " <a list of 10 Patch objects>)"
      ]
     },
     "execution_count": 2,
     "metadata": {},
     "output_type": "execute_result"
    },
    {
     "data": {
      "image/png": "[encoded data removed]",
      "text/plain": [
       "<Figure size 432x288 with 1 Axes>"
      ]
     },
     "metadata": {
      "needs_background": "light"
     },
     "output_type": "display_data"
    }
   ],
   "source": [
    "data = np.loadtxt(\"data/data_univ_miller_dunson.txt\")\n",
    "plt.hist(data)"
   ]
  },
  {
   "cell_type": "code",
   "execution_count": 3,
   "metadata": {},
   "outputs": [
    {
     "ename": "NameError",
     "evalue": "name 'dim' is not defined",
     "output_type": "error",
     "traceback": [
      "\u001b[0;31m---------------------------------------------------------------------------\u001b[0m",
      "\u001b[0;31mNameError\u001b[0m                                 Traceback (most recent call last)",
      "\u001b[0;32m<ipython-input-3-665c4cc93ccc>\u001b[0m in \u001b[0;36m<module>\u001b[0;34m\u001b[0m\n\u001b[1;32m      1\u001b[0m prec_params = params_pb2.WishartParams(\n\u001b[0;32m----> 2\u001b[0;31m                 nu=dim+1,identity=True, sigma=3, dim=dim)\n\u001b[0m\u001b[1;32m      3\u001b[0m \u001b[0mgamma_jump_params\u001b[0m \u001b[0;34m=\u001b[0m \u001b[0mparams_pb2\u001b[0m\u001b[0;34m.\u001b[0m\u001b[0mGammaParams\u001b[0m\u001b[0;34m(\u001b[0m\u001b[0malpha\u001b[0m\u001b[0;34m=\u001b[0m\u001b[0;36m1\u001b[0m\u001b[0;34m,\u001b[0m \u001b[0mbeta\u001b[0m\u001b[0;34m=\u001b[0m\u001b[0;36m1\u001b[0m\u001b[0;34m)\u001b[0m\u001b[0;34m\u001b[0m\u001b[0;34m\u001b[0m\u001b[0m\n\u001b[1;32m      4\u001b[0m \u001b[0mdpp_params\u001b[0m \u001b[0;34m=\u001b[0m \u001b[0mparams_pb2\u001b[0m\u001b[0;34m.\u001b[0m\u001b[0mDPPParams\u001b[0m\u001b[0;34m(\u001b[0m\u001b[0mnu\u001b[0m\u001b[0;34m=\u001b[0m\u001b[0;36m2.0\u001b[0m\u001b[0;34m,\u001b[0m \u001b[0mrho\u001b[0m\u001b[0;34m=\u001b[0m\u001b[0;36m3.0\u001b[0m\u001b[0;34m,\u001b[0m \u001b[0mN\u001b[0m\u001b[0;34m=\u001b[0m\u001b[0;36m50\u001b[0m\u001b[0;34m)\u001b[0m\u001b[0;34m\u001b[0m\u001b[0;34m\u001b[0m\u001b[0m\n\u001b[1;32m      5\u001b[0m dpp_sampler = ConditionalMCMC(\n",
      "\u001b[0;31mNameError\u001b[0m: name 'dim' is not defined"
     ]
    }
   ],
   "source": [
    "prec_params = params_pb2.WishartParams(\n",
    "                nu=dim+1,identity=True, sigma=3, dim=1)\n",
    "gamma_jump_params = params_pb2.GammaParams(alpha=1, beta=1)\n",
    "dpp_params = params_pb2.DPPParams(nu=2.0, rho=3.0, N=50)\n",
    "dpp_sampler = ConditionalMCMC(\n",
    "    pp_params=dpp_params, \n",
    "    prec_params=prec_params,\n",
    "    jump_params=gamma_jump_params)\n",
    "dpp_sampler.run(50000, 50000, 5, data)"
   ]
  },
  {
   "cell_type": "code",
   "execution_count": null,
   "metadata": {
    "scrolled": true
   },
   "outputs": [],
   "source": [
    "# strauss_params = make_default_strauss(data)\n",
    "\n",
    "# strauss_params.init.gamma = np.exp(-30)\n",
    "# # strauss_params.init.beta = 0.0000001\n",
    "# strauss_params.fixed_params = True\n",
    "# strauss_params.init.R = 5\n",
    "\n",
    "# strauss_sampler = ConditionalMCMC(\n",
    "#     pp_params=strauss_params,\n",
    "#     prec_params=prec_params,\n",
    "#     jump_params=gamma_jump_params)\n",
    "\n",
    "# strauss_sampler.run(50000, 50000, 5, data)"
   ]
  },
  {
   "cell_type": "code",
   "execution_count": null,
   "metadata": {},
   "outputs": [],
   "source": [
    "dpp_chains = loadChains(\"data/dpp_univ_cond.recordio\", UnivariateMixtureState)\n",
    "strauss_chains = loadChains(\"data/perturb_strauss_chains.recordio\", UnivariateMixtureState)"
   ]
  },
  {
   "cell_type": "code",
   "execution_count": null,
   "metadata": {},
   "outputs": [],
   "source": [
    "from scipy.stats import dirichlet\n",
    "\n",
    "true_mu = np.array([-3.5, 3, 0, 6])\n",
    "true_sigma = np.array([0.8, 0.5, 0.4, 0.5])\n",
    "w_t = np.array([0.25, 0.25, 0.3, 0.2])\n",
    "\n",
    "alpha0 = 500\n",
    "L = 10000\n",
    "y_t = np.random.choice(len(w_t), size=L, replace=True, p=w_t)\n",
    "locations = true_mu[y_t] + true_sigma[y_t] * np.random.normal(size=L)\n",
    "weights = dirichlet.rvs(np.ones(L) * 500 / L)[0, :]\n",
    "s = 0.25\n",
    "\n",
    "\n",
    "def f0(x):\n",
    "    out = np.zeros_like(x)\n",
    "    for w, l in zip(weights, locations):\n",
    "        out += w * norm.pdf(x, l, s)\n",
    "    return out"
   ]
  },
  {
   "cell_type": "code",
   "execution_count": null,
   "metadata": {},
   "outputs": [],
   "source": [
    "xgrid = np.linspace(-6, 8, 500)\n",
    "f_eval = f0(xgrid)\n",
    "\n",
    "dens_dpp = estimate_density_seq(dpp_chains, xgrid)\n",
    "plt.plot(xgrid, np.mean(dens_dpp, axis=0), color=\"orange\", label=\"DPP\")\n",
    "\n",
    "dens_strauss = estimate_density_seq(strauss_chains, xgrid)\n",
    "plt.plot(xgrid, np.mean(dens_strauss, axis=0), color=\"steelblue\", label=\"Strauss\")\n",
    "\n",
    "plt.plot(xgrid, f_eval, label=\"True\", color=\"red\")\n",
    "plt.legend()\n",
    "\n",
    "plt.savefig(\"images/dpp_vs_strauss_dens.pdf\")\n",
    "plt.show()"
   ]
  },
  {
   "cell_type": "code",
   "execution_count": null,
   "metadata": {},
   "outputs": [],
   "source": [
    "dpp_ma_chain = np.array([max(x.clus_alloc) + 1 for x in dpp_chains])\n",
    "strauss_ma_chain = np.array([max(x.clus_alloc) + 1 for x in strauss_chains])\n",
    "\n",
    "bars = np.arange(1, 10)\n",
    "heights = np.array([np.sum(strauss_ma_chain == i) for i in bars]) / len(strauss_ma_chain)\n",
    "# plt.bar(bars - width/2, heights / len(strauss_ma_chain), width=width,\n",
    "#         edgecolor=\"white\", label=\"strauss\")\n",
    "plt.plot(bars, heights, 'D--', label=\"Strauss\", linewidth=2)\n",
    "\n",
    "\n",
    "heights = np.array([np.sum(dpp_ma_chain == i) for i in bars]) / len(dpp_chains)\n",
    "plt.plot(bars, heights, '*:', label=\"DPP\", linewidth=2)\n",
    "\n",
    "plt.legend()\n",
    "plt.xticks(bars)\n",
    "plt.axhline(y=0, color='k', alpha=0.5)\n",
    "plt.xlim(0, 10)\n",
    "plt.savefig(\"images/dpp_vs_strauss_k.pdf\")\n",
    "plt.show()"
   ]
  },
  {
   "cell_type": "code",
   "execution_count": null,
   "metadata": {
    "scrolled": true
   },
   "outputs": [],
   "source": [
    "strauss_sampler.serialize_chains(\"data/perturb_strauss_chains.recordio\")"
   ]
  }
 ],
 "metadata": {
  "kernelspec": {
   "display_name": "Python 3",
   "language": "python",
   "name": "python3"
  },
  "language_info": {
   "codemirror_mode": {
    "name": "ipython",
    "version": 3
   },
   "file_extension": ".py",
   "mimetype": "text/x-python",
   "name": "python",
   "nbconvert_exporter": "python",
   "pygments_lexer": "ipython3",
   "version": "3.8.0"
  }
 },
 "nbformat": 4,
 "nbformat_minor": 4
}
