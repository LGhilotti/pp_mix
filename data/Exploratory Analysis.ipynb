{
 "cells": [
  {
   "cell_type": "code",
   "execution_count": null,
   "id": "fe3c8798",
   "metadata": {},
   "outputs": [],
   "source": [
    "import pandas as pd\n",
    "import numpy as np\n",
    "import matplotlib.pyplot as plt"
   ]
  },
  {
   "cell_type": "markdown",
   "id": "a87cd584",
   "metadata": {},
   "source": [
    "# EYE SCANS\n",
    "\n",
    "https://www.nature.com/articles/s41598-021-02025-4#Sec2\n"
   ]
  },
  {
   "cell_type": "code",
   "execution_count": null,
   "id": "a05f2cf7",
   "metadata": {},
   "outputs": [],
   "source": [
    "df = pd.read_excel(\"41598_2021_2025_MOESM2_ESM.xlsx\")"
   ]
  },
  {
   "cell_type": "code",
   "execution_count": null,
   "id": "f13a2127",
   "metadata": {},
   "outputs": [],
   "source": [
    "df.head()"
   ]
  },
  {
   "cell_type": "code",
   "execution_count": null,
   "id": "e048651a",
   "metadata": {},
   "outputs": [],
   "source": [
    "plt.plot(vals[np.random.choice(1800, 20)].T)\n",
    "plt.show()"
   ]
  },
  {
   "cell_type": "code",
   "execution_count": null,
   "id": "4c7f63c2",
   "metadata": {},
   "outputs": [],
   "source": [
    "def shift(v, ind):\n",
    "    return np.concatenate([v[ind:], v[:ind]])"
   ]
  },
  {
   "cell_type": "code",
   "execution_count": null,
   "id": "3b0633c8",
   "metadata": {},
   "outputs": [],
   "source": [
    "ind1 = -50\n",
    "ind2 = 10\n",
    "ind3 = 1200\n",
    "\n",
    "theta = np.linspace(0, 2 * np.pi, vals.shape[1])\n",
    "dx = theta[1] - theta[0]"
   ]
  },
  {
   "cell_type": "code",
   "execution_count": null,
   "id": "fdccaa68",
   "metadata": {},
   "outputs": [],
   "source": [
    "fig = plt.figure(figsize=(5, 5))\n",
    "ax = fig.add_subplot(111, polar=True)\n",
    "\n",
    "ax.plot(theta, vals[ind2, :])\n",
    "ax.plot(theta, vals[ind3, :])\n",
    "ax.set_xticklabels([])\n",
    "ax.set_yticklabels([])\n",
    "plt.tight_layout()\n",
    "plt.savefig(\"ex_data_circ.pdf\")\n",
    "plt.show()"
   ]
  }
 ],
 "metadata": {
  "kernelspec": {
   "display_name": "Python 3",
   "language": "python",
   "name": "python3"
  },
  "language_info": {
   "codemirror_mode": {
    "name": "ipython",
    "version": 3
   },
   "file_extension": ".py",
   "mimetype": "text/x-python",
   "name": "python",
   "nbconvert_exporter": "python",
   "pygments_lexer": "ipython3",
   "version": "3.9.10"
  }
 },
 "nbformat": 4,
 "nbformat_minor": 5
}
