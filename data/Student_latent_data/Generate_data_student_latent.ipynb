{
 "cells": [
  {
   "cell_type": "code",
   "execution_count": 1,
   "id": "provincial-madness",
   "metadata": {
    "id": "provincial-madness"
   },
   "outputs": [],
   "source": [
    "import numpy as np\n",
    "import arviz as az\n",
    "import math\n",
    "# import pymc3 as pm\n",
    "import pickle\n",
    "import matplotlib.pyplot as plt\n",
    "from google.protobuf import text_format\n",
    "from scipy.stats import multivariate_normal as mvn\n",
    "from scipy.stats import skewnorm\n",
    "from scipy.stats import norm\n",
    "from scipy.interpolate import griddata\n",
    "import csv\n",
    "import random\n",
    "import pandas as pd\n",
    "from itertools import product\n",
    "import statistics as stat\n",
    "from sklearn.decomposition import TruncatedSVD\n"
   ]
  },
  {
   "cell_type": "code",
   "execution_count": 2,
   "id": "handy-picking",
   "metadata": {
    "id": "handy-picking"
   },
   "outputs": [],
   "source": [
    "def multivariate_t_rvs(m, S, df=np.inf, n=1):\n",
    "    '''generate random variables of multivariate t distribution\n",
    "    Parameters\n",
    "    ----------\n",
    "    m : array_like\n",
    "        mean of random variable, length determines dimension of random variable\n",
    "    S : array_like\n",
    "        square array of covariance  matrix\n",
    "    df : int or float\n",
    "        degrees of freedom\n",
    "    n : int\n",
    "        number of observations, return random array will be (n, len(m))\n",
    "    Returns\n",
    "    -------\n",
    "    rvs : ndarray, (n, len(m))\n",
    "        each row is an independent draw of a multivariate t distributed\n",
    "        random variable\n",
    "    '''\n",
    "    m = np.asarray(m)\n",
    "    d = len(m)\n",
    "    if df == np.inf:\n",
    "        x = 1.\n",
    "    else:\n",
    "        x = np.random.chisquare(df, n)/df\n",
    "    z = np.random.multivariate_normal(np.zeros(d),S,(n,))\n",
    "    return m + z/np.sqrt(x)[:,None]   # same output format as random.multivariate_normal\n"
   ]
  },
  {
   "cell_type": "markdown",
   "id": "portable-warning",
   "metadata": {
    "id": "portable-warning"
   },
   "source": [
    "# Generate data\n",
    "\n",
    "assuming delta = I identical for all clusters"
   ]
  },
  {
   "cell_type": "code",
   "execution_count": 3,
   "id": "smooth-creator",
   "metadata": {
    "id": "smooth-creator"
   },
   "outputs": [],
   "source": [
    "def generate_etas(mus, deltas_cov, cluster_alloc):\n",
    "    np.random.seed(seed=233423)\n",
    "    #out = np.vstack([[mvn.rvs(mean = mus[i,:], cov = deltas_cov) for i in cluster_alloc]])\n",
    "    out = np.vstack([multivariate_t_rvs(m = mus[i,:], S = deltas_cov, df = 3)[0] for i in cluster_alloc])\n",
    "\n",
    "    return out\n",
    "\n",
    "def generate_data(Lambda, etas, sigma_bar_cov):\n",
    "    np.random.seed(seed=233423)\n",
    "    means = np.matmul(Lambda,etas.T)\n",
    "    sigma_bar_cov_mat = np.diag(sigma_bar_cov)\n",
    "    #out = np.vstack([multivariate_t_rvs(m = means[:,i], S = sigma_bar_cov_mat, df = 3)[0] for i in range(etas.shape[0])])\n",
    "    out = np.vstack([[mvn.rvs(mean = means[:,i], cov = sigma_bar_cov_mat) for i in range(etas.shape[0])]])\n",
    "\n",
    "    return out\n",
    "\n",
    "def create_lambda(p,d):\n",
    "    #if p % d != 0:\n",
    "      #  raise ValueError(\"Non compatible dimensions p and d: p={0}, d={1}\".format(p,d))\n",
    "    \n",
    "    h = math.ceil(p/d)\n",
    "    Lambda=np.zeros((p,d))\n",
    "    for i in range(d-1):\n",
    "        Lambda[i*h:i*h+h,i] = np.ones(h)\n",
    "    \n",
    "    Lambda[(d-1)*h:,d-1] = np.ones(p-(d-1)*h)\n",
    "    return Lambda\n",
    "\n",
    "def create_mus(d,M,dist):\n",
    "    mus = np.zeros((M,d))\n",
    "    tot_range = (M-1)*dist \n",
    "    max_mu = tot_range/2\n",
    "    for i in range(M):\n",
    "        mus[i,:] = np.repeat(max_mu-i*dist, d)\n",
    "        \n",
    "    return mus\n",
    "\n",
    "def create_cluster_alloc(n_pc,M):\n",
    "    return np.repeat(range(M),n_pc)    "
   ]
  },
  {
   "cell_type": "code",
   "execution_count": 4,
   "id": "catholic-surgeon",
   "metadata": {
    "id": "catholic-surgeon",
    "outputId": "3122d9a9-dbcc-4b23-d9ad-fdec9381dc0f"
   },
   "outputs": [
    {
     "data": {
      "text/plain": [
       "[<matplotlib.lines.Line2D at 0x7ff5a8c33730>]"
      ]
     },
     "execution_count": 4,
     "metadata": {},
     "output_type": "execute_result"
    },
    {
     "data": {
      "image/png": "[encoded data removed]",
      "text/plain": [
       "<Figure size 432x288 with 1 Axes>"
      ]
     },
     "metadata": {
      "needs_background": "light"
     },
     "output_type": "display_data"
    }
   ],
   "source": [
    "##### just to visualize the latent points for one setting\n",
    "d=2\n",
    "delta_cov = np.eye(d)\n",
    "M=4\n",
    "dist=5\n",
    "mus = create_mus(d,M,dist)\n",
    "n_percluster=50\n",
    "\n",
    "cluster_alloc = create_cluster_alloc(n_percluster,M)\n",
    "etas = generate_etas(mus, delta_cov, cluster_alloc)\n",
    "\n",
    "plt.plot(etas[:,0],etas[:,1], 'bo')"
   ]
  },
  {
   "cell_type": "code",
   "execution_count": 5,
   "id": "fiscal-malawi",
   "metadata": {
    "id": "fiscal-malawi"
   },
   "outputs": [],
   "source": [
    "random.seed(1234)\n",
    "\n",
    "dist=5\n",
    "p_s = [100, 200, 400]\n",
    "d_s = [8]\n",
    "M_s = [4, 8]\n",
    "n_percluster_s = [50]\n",
    "\n",
    "for p in p_s:\n",
    "    sigma_bar_prec = np.repeat(2, p)\n",
    "    sigma_bar_cov = 1/sigma_bar_prec\n",
    "    for d in d_s:\n",
    "        lamb = create_lambda(p,d)\n",
    "        delta_cov = np.eye(d)\n",
    "        for M in M_s:\n",
    "            mus = create_mus(d,M,dist)\n",
    "            for n_percluster in n_percluster_s:                \n",
    "                cluster_alloc = create_cluster_alloc(n_percluster,M)\n",
    "                etas = generate_etas(mus, delta_cov, cluster_alloc)\n",
    "                data = generate_data(lamb, etas, sigma_bar_cov)\n",
    "                #with open(\"datasets/stud_p_{0}_d_{1}_M_{2}_npc_{3}_data.csv\".format(p,d,M,n_percluster),\"w+\") as my_csv:\n",
    "                    csvWriter = csv.writer(my_csv, delimiter=',')\n",
    "                    csvWriter.writerows(data)\n",
    "\n",
    "\n"
   ]
  },
  {
   "cell_type": "code",
   "execution_count": null,
   "id": "global-reality",
   "metadata": {},
   "outputs": [],
   "source": []
  }
 ],
 "metadata": {
  "colab": {
   "collapsed_sections": [],
   "name": "Generate_data_student_latent.ipynb",
   "provenance": []
  },
  "kernelspec": {
   "display_name": "Python 3",
   "language": "python",
   "name": "python3"
  },
  "language_info": {
   "codemirror_mode": {
    "name": "ipython",
    "version": 3
   },
   "file_extension": ".py",
   "mimetype": "text/x-python",
   "name": "python",
   "nbconvert_exporter": "python",
   "pygments_lexer": "ipython3",
   "version": "3.8.10"
  }
 },
 "nbformat": 4,
 "nbformat_minor": 5
}
