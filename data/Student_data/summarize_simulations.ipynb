{
 "cells": [
  {
   "cell_type": "code",
   "execution_count": 2,
   "id": "stuffed-surge",
   "metadata": {},
   "outputs": [],
   "source": [
    "import numpy as np\n",
    "import matplotlib.pyplot as plt\n",
    "from math import sqrt\n",
    "from scipy import stats\n",
    "from sklearn.metrics import adjusted_rand_score\n",
    "import pandas as pd\n",
    "from itertools import product"
   ]
  },
  {
   "cell_type": "code",
   "execution_count": 63,
   "id": "closing-washington",
   "metadata": {},
   "outputs": [
    {
     "ename": "FileNotFoundError",
     "evalue": "[Errno 2] No such file or directory: 'lamb_out/lamb_p_100_d_2_M_4_npc_50_out/conc_0.1_out1/df_performance_lamb.csv'",
     "output_type": "error",
     "traceback": [
      "\u001b[0;31m---------------------------------------------------------------------------\u001b[0m",
      "\u001b[0;31mFileNotFoundError\u001b[0m                         Traceback (most recent call last)",
      "\u001b[0;32m<ipython-input-63-12287ce57017>\u001b[0m in \u001b[0;36m<module>\u001b[0;34m\u001b[0m\n\u001b[1;32m     17\u001b[0m         \u001b[0;32mfor\u001b[0m \u001b[0mconc_dir\u001b[0m \u001b[0;32min\u001b[0m \u001b[0mconc_dir_s\u001b[0m\u001b[0;34m:\u001b[0m\u001b[0;34m\u001b[0m\u001b[0;34m\u001b[0m\u001b[0m\n\u001b[1;32m     18\u001b[0m \u001b[0;34m\u001b[0m\u001b[0m\n\u001b[0;32m---> 19\u001b[0;31m             \u001b[0;32mwith\u001b[0m \u001b[0mopen\u001b[0m\u001b[0;34m(\u001b[0m\u001b[0;34m\"lamb_out/lamb_p_{0}_d_{1}_M_{2}_npc_{3}_out/conc_{4}_out1/df_performance_lamb.csv\"\u001b[0m\u001b[0;34m.\u001b[0m\u001b[0mformat\u001b[0m\u001b[0;34m(\u001b[0m\u001b[0mp\u001b[0m\u001b[0;34m,\u001b[0m\u001b[0mdtrue\u001b[0m\u001b[0;34m,\u001b[0m\u001b[0mM\u001b[0m\u001b[0;34m,\u001b[0m\u001b[0mnpc\u001b[0m\u001b[0;34m,\u001b[0m\u001b[0mconc_dir\u001b[0m\u001b[0;34m)\u001b[0m\u001b[0;34m,\u001b[0m \u001b[0mnewline\u001b[0m\u001b[0;34m=\u001b[0m\u001b[0;34m''\u001b[0m\u001b[0;34m)\u001b[0m \u001b[0;32mas\u001b[0m \u001b[0mmy_csv\u001b[0m\u001b[0;34m:\u001b[0m\u001b[0;34m\u001b[0m\u001b[0;34m\u001b[0m\u001b[0m\n\u001b[0m\u001b[1;32m     20\u001b[0m                 \u001b[0mlamb_df\u001b[0m \u001b[0;34m=\u001b[0m \u001b[0mpd\u001b[0m\u001b[0;34m.\u001b[0m\u001b[0mread_csv\u001b[0m\u001b[0;34m(\u001b[0m\u001b[0mmy_csv\u001b[0m\u001b[0;34m)\u001b[0m\u001b[0;34m\u001b[0m\u001b[0;34m\u001b[0m\u001b[0m\n\u001b[1;32m     21\u001b[0m \u001b[0;34m\u001b[0m\u001b[0m\n",
      "\u001b[0;31mFileNotFoundError\u001b[0m: [Errno 2] No such file or directory: 'lamb_out/lamb_p_100_d_2_M_4_npc_50_out/conc_0.1_out1/df_performance_lamb.csv'"
     ]
    }
   ],
   "source": [
    "p_s = [100]\n",
    "d_s = [2,5,8]\n",
    "M_s = [4]\n",
    "n_percluster_s = [50]\n",
    "conc_dir_s = [0.1,0.5,1]\n",
    "rho_s = [5, 10, 20]\n",
    "\n",
    "# Outer cycle for reading the different datasets and perform the estimation\n",
    "for p,M,npc in product(p_s, M_s, n_percluster_s):\n",
    "    # for each of the combination of settings I create one dataframe\n",
    "    \n",
    "    list_compare = []\n",
    "    ar_ind = []\n",
    "    \n",
    "    for dtrue in d_s:\n",
    "\n",
    "        for conc_dir in conc_dir_s:\n",
    "\n",
    "            with open(\"lamb_out/lamb_p_{0}_d_{1}_M_{2}_npc_{3}_out/conc_{4}_out1/df_performance_lamb.csv\".format(p,dtrue,M,npc,conc_dir), newline='') as my_csv:\n",
    "                lamb_df = pd.read_csv(my_csv)\n",
    "\n",
    "\n",
    "            list_compare.append(lamb_df[[\"mode_nclus\",\"avg_nclus\",\"ari_best_clus\",\"CI_aris\"]])\n",
    "\n",
    "\n",
    "        for rho in rho_s:\n",
    "\n",
    "            with open(\"applam/app_p_{0}_d_{1}_M_{2}_npc_{3}_out/rho_{4}_out_0/df_performance.csv\".format(p,dtrue,M,npc,rho), newline='') as my_csv:\n",
    "                applam_df = pd.read_csv(my_csv)\n",
    "\n",
    "            list_compare.append(applam_df[[\"mode_nclus\",\"avg_nclus\",\"ari_best_clus\",\"CI_aris\"]])\n",
    "\n",
    "\n",
    "        df_final = pd.concat(list_compare)\n",
    "\n",
    "        ar_lamb = [np.repeat(dtrue,3),np.repeat(\"Lamb\",3),conc_dir_s]\n",
    "        ar_lamb = list(zip(*ar_lamb))\n",
    "\n",
    "        ar_app = [np.repeat(dtrue,3),np.repeat(\"APPLAM\",3),rho_s]\n",
    "        ar_app = list(zip(*ar_app))\n",
    "\n",
    "        ar_ind = [*ar_ind, *ar_lamb,*ar_app]\n",
    "        print(ar_ind)\n",
    "        \n",
    "    \n",
    "    index = pd.MultiIndex.from_tuples(ar_ind, names=[\"Latent dim\", \"Model\", \"Parameter\"])\n",
    "        \n",
    "    df_final = df_final.set_index(index)"
   ]
  },
  {
   "cell_type": "code",
   "execution_count": 58,
   "id": "adaptive-exchange",
   "metadata": {
    "scrolled": true
   },
   "outputs": [
    {
     "data": {
      "text/html": [
       "<div>\n",
       "<style scoped>\n",
       "    .dataframe tbody tr th:only-of-type {\n",
       "        vertical-align: middle;\n",
       "    }\n",
       "\n",
       "    .dataframe tbody tr th {\n",
       "        vertical-align: top;\n",
       "    }\n",
       "\n",
       "    .dataframe thead th {\n",
       "        text-align: right;\n",
       "    }\n",
       "</style>\n",
       "<table border=\"1\" class=\"dataframe\">\n",
       "  <thead>\n",
       "    <tr style=\"text-align: right;\">\n",
       "      <th></th>\n",
       "      <th></th>\n",
       "      <th>mode_nclus</th>\n",
       "      <th>avg_nclus</th>\n",
       "      <th>ari_best_clus</th>\n",
       "      <th>CI_aris</th>\n",
       "    </tr>\n",
       "    <tr>\n",
       "      <th>Model</th>\n",
       "      <th>Parameter</th>\n",
       "      <th></th>\n",
       "      <th></th>\n",
       "      <th></th>\n",
       "      <th></th>\n",
       "    </tr>\n",
       "  </thead>\n",
       "  <tbody>\n",
       "    <tr>\n",
       "      <th rowspan=\"3\" valign=\"top\">Lamb</th>\n",
       "      <th>0.1</th>\n",
       "      <td>6</td>\n",
       "      <td>5.8510</td>\n",
       "      <td>0.923497</td>\n",
       "      <td>(0.9007353409732807, 0.9047855669882504)</td>\n",
       "    </tr>\n",
       "    <tr>\n",
       "      <th>0.5</th>\n",
       "      <td>27</td>\n",
       "      <td>27.1990</td>\n",
       "      <td>0.265839</td>\n",
       "      <td>(0.25434730072910405, 0.2559705342377453)</td>\n",
       "    </tr>\n",
       "    <tr>\n",
       "      <th>1.0</th>\n",
       "      <td>30</td>\n",
       "      <td>29.7915</td>\n",
       "      <td>0.242947</td>\n",
       "      <td>(0.23754868916974473, 0.23903275022231504)</td>\n",
       "    </tr>\n",
       "    <tr>\n",
       "      <th rowspan=\"3\" valign=\"top\">APPLAM</th>\n",
       "      <th>5.0</th>\n",
       "      <td>6</td>\n",
       "      <td>6.2750</td>\n",
       "      <td>0.857560</td>\n",
       "      <td>(0.8219625111671286, 0.8251249077123758)</td>\n",
       "    </tr>\n",
       "    <tr>\n",
       "      <th>10.0</th>\n",
       "      <td>6</td>\n",
       "      <td>6.4100</td>\n",
       "      <td>0.841202</td>\n",
       "      <td>(0.8366691839253457, 0.8402379514053262)</td>\n",
       "    </tr>\n",
       "    <tr>\n",
       "      <th>20.0</th>\n",
       "      <td>7</td>\n",
       "      <td>6.9220</td>\n",
       "      <td>0.850102</td>\n",
       "      <td>(0.8366251744908427, 0.8407001467733958)</td>\n",
       "    </tr>\n",
       "  </tbody>\n",
       "</table>\n",
       "</div>"
      ],
      "text/plain": [
       "                  mode_nclus  avg_nclus  ari_best_clus  \\\n",
       "Model  Parameter                                         \n",
       "Lamb   0.1                 6     5.8510       0.923497   \n",
       "       0.5                27    27.1990       0.265839   \n",
       "       1.0                30    29.7915       0.242947   \n",
       "APPLAM 5.0                 6     6.2750       0.857560   \n",
       "       10.0                6     6.4100       0.841202   \n",
       "       20.0                7     6.9220       0.850102   \n",
       "\n",
       "                                                     CI_aris  \n",
       "Model  Parameter                                              \n",
       "Lamb   0.1          (0.9007353409732807, 0.9047855669882504)  \n",
       "       0.5         (0.25434730072910405, 0.2559705342377453)  \n",
       "       1.0        (0.23754868916974473, 0.23903275022231504)  \n",
       "APPLAM 5.0          (0.8219625111671286, 0.8251249077123758)  \n",
       "       10.0         (0.8366691839253457, 0.8402379514053262)  \n",
       "       20.0         (0.8366251744908427, 0.8407001467733958)  "
      ]
     },
     "execution_count": 58,
     "metadata": {},
     "output_type": "execute_result"
    }
   ],
   "source": [
    "df_final"
   ]
  },
  {
   "cell_type": "code",
   "execution_count": 34,
   "id": "dried-quarterly",
   "metadata": {},
   "outputs": [
    {
     "data": {
      "text/plain": [
       "[0.1, 0.5, 1]"
      ]
     },
     "execution_count": 34,
     "metadata": {},
     "output_type": "execute_result"
    }
   ],
   "source": [
    "conc_dir_s"
   ]
  },
  {
   "cell_type": "code",
   "execution_count": null,
   "id": "appropriate-strand",
   "metadata": {},
   "outputs": [],
   "source": [
    "list_performance = list()\n",
    "        nclus_lamb = np.array([len(np.unique(alloc_matrix[i,:])) for i in range(alloc_matrix.shape[0])])\n",
    "        post_mode_nclus_lamb = stats.mode(nclus_lamb)[0][0] # store in dataframe\n",
    "        post_avg_nclus_lamb = nclus_lamb.mean() # store in dataframe\n",
    "\n",
    "        best_clus_lamb = cluster_estimate(alloc_matrix)\n",
    "        true_clus = np.repeat(range(M),npc)\n",
    "        ari_best_clus_lamb = adjusted_rand_score(true_clus, best_clus_lamb) # store in dataframe\n",
    "\n",
    "        aris_chain_lamb = np.array([adjusted_rand_score(true_clus, alloc_matrix[i,:]) for i in range(alloc_matrix.shape[0])])\n",
    "        mean_aris_lamb, sigma_aris_lamb = np.mean(aris_chain_lamb), np.std(aris_chain_lamb) # store mean_aris in dataframe\n",
    "        CI_aris_lamb = stats.norm.interval(0.95, loc=mean_aris_lamb, scale=sigma_aris_lamb/sqrt(len(aris_chain_lamb))) # store in dataframe\n",
    "        list_performance.append([p,dtrue,M,npc,conc_dir,post_mode_nclus_lamb,\n",
    "                                    post_avg_nclus_lamb,ari_best_clus_lamb,CI_aris_lamb])\n",
    "\n",
    "        #list_compare.append([\"lamb\",conc_dir, post_mode_nclus_lamb, post_avg_nclus_lamb,ari_best_clus_lamb,CI_aris_lamb])\n",
    "\n",
    "        # Save in proper folders similar quantities than for applam\n",
    "        df_performance_lamb = pd.DataFrame(list_performance, columns=('p','d','M','npc','dir_concentr','mode_nclus', 'avg_nclus', 'ari_best_clus', 'CI_aris'))\n",
    "        df_performance_lamb.to_csv(\"data/Student_data/lamb_out/lamb_p_{0}_d_{1}_M_{2}_npc_{3}_out/conc_{4}_out1/df_performance_lamb.csv\".format(p,dtrue,M,npc,conc_dir))\n",
    "\n",
    "        \n",
    "  #for rho in rho_s:\n",
    "    \n",
    "     #with open(\"data/Student_data/applam/app_p_{0}_d_{1}_M_{2}_npc_{3}_out/rho_{0}_out\".format(p,dtrue,M,npc,rho), newline='') as my_csv:\n",
    "       #df_perf_applam = pd.read_csv(my_csv, sep=',')\n",
    "\n",
    "     #list_compare.append([\"applam\", df_perf_applam[[\"intensity\",'mode_nclus', 'avg_nclus', 'ari_best_clus', 'CI_aris']])\n",
    "\n",
    "\n",
    "    #df_compare = pd.DataFrame(list_compare, columns=('Model','dir_concentr/intens','mode_nclus', 'avg_nclus', 'ari_best_clus', 'CI_aris'))\n",
    "\n"
   ]
  }
 ],
 "metadata": {
  "kernelspec": {
   "display_name": "Python 3",
   "language": "python",
   "name": "python3"
  },
  "language_info": {
   "codemirror_mode": {
    "name": "ipython",
    "version": 3
   },
   "file_extension": ".py",
   "mimetype": "text/x-python",
   "name": "python",
   "nbconvert_exporter": "python",
   "pygments_lexer": "ipython3",
   "version": "3.8.10"
  }
 },
 "nbformat": 4,
 "nbformat_minor": 5
}
