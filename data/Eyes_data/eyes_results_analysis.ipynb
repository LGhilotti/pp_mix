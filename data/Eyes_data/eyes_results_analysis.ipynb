{
  "nbformat": 4,
  "nbformat_minor": 0,
  "metadata": {
    "colab": {
      "name": "eyes_results_analysis.ipynb",
      "provenance": [],
      "collapsed_sections": []
    },
    "kernelspec": {
      "name": "python3",
      "display_name": "Python 3"
    },
    "language_info": {
      "name": "python"
    }
  },
  "cells": [
    {
      "cell_type": "code",
      "source": [
        "import numpy as np\n",
        "import arviz as az\n",
        "import math\n",
        "# import pymc3 as pm\n",
        "import pickle\n",
        "import matplotlib.pyplot as plt\n",
        "from google.protobuf import text_format\n",
        "from scipy.stats import multivariate_normal as mvn\n",
        "from scipy.stats import skewnorm\n",
        "from scipy.stats import norm\n",
        "from scipy.interpolate import griddata\n",
        "import pp_mix.protos.py.params_pb2 as params_pb2\n",
        "\n",
        "from pp_mix.interface import cluster_estimate\n",
        "from pp_mix.utils import loadChains, to_numpy, to_proto\n",
        "from pp_mix.protos.py.state_pb2 import MultivariateMixtureState, EigenVector, EigenMatrix\n",
        "from pp_mix.protos.py.params_pb2 import Params"
      ],
      "metadata": {
        "id": "pcuK3KxvBzVQ"
      },
      "execution_count": null,
      "outputs": []
    },
    {
      "cell_type": "code",
      "source": [
        "chain = loadChains(\"data/data_by_rule_student/chains_compare_CD/chain.recordio\", MultivariateMixtureState)\n",
        "acc_rates = np.loadtxt(\"data/data_by_rule_student/chains_compare_CD/acc_rates.csv\", delimiter=',')\n"
      ],
      "metadata": {
        "id": "-l0g31Ge9O2A"
      },
      "execution_count": null,
      "outputs": []
    },
    {
      "cell_type": "markdown",
      "source": [
        "check chain mixing on some variables\n"
      ],
      "metadata": {
        "id": "u5Yi0UqW9tBf"
      }
    },
    {
      "cell_type": "code",
      "source": [
        "tau_chain = np.array([x.lamb_block.tau for x in chain])\n",
        "plt.plot(tau_chain)\n",
        "\n"
      ],
      "metadata": {
        "id": "p10OPX8L7LGO"
      },
      "execution_count": null,
      "outputs": []
    },
    {
      "cell_type": "code",
      "source": [
        "first_sbar_chain = np.array([to_numpy(x.sigma_bar)[0] for x in chain])\n",
        "plt.plot(first_sbar_chain,color='red')\n",
        "\n",
        "last_sbar_chain = np.array([to_numpy(x.sigma_bar)[-1] for x in chain])\n",
        "plt.plot(last_sbar_chain,color='blue')\n"
      ],
      "metadata": {
        "id": "4ZqnYRhC-z8i"
      },
      "execution_count": null,
      "outputs": []
    },
    {
      "cell_type": "code",
      "source": [
        "first_sbar_chain = np.array([to_numpy(x.sigma_bar)[0] for x in chain])\n",
        "plt.plot(first_sbar_chain)\n",
        "\n",
        "last_sbar_chain = np.array([to_numpy(x.sigma_bar)[-1] for x in chain])\n",
        "plt.plot(last_sbar_chain)\n"
      ],
      "metadata": {
        "id": "fu1eoNZq_m6d"
      },
      "execution_count": null,
      "outputs": []
    },
    {
      "cell_type": "markdown",
      "source": [
        "evaluate performance on simulate data: return performance dataframe\n"
      ],
      "metadata": {
        "id": "X5hodTvVARYL"
      }
    },
    {
      "cell_type": "code",
      "source": [
        "from scipy import stats\n",
        "from sklearn.metrics import adjusted_rand_score\n",
        "import pandas as pd\n",
        "from math import sqrt\n",
        "\n",
        "list_performance = list()\n",
        "\n",
        "n_cluster_chain = np.array([x.ma for x in chain])\n",
        "n_nonall_chain = np.array([x.mna for x in chain])\n",
        "\n",
        "post_mode_nclus = stats.mode(n_cluster_chain)[0][0] # store in dataframe\n",
        "post_avg_nclus = n_cluster_chain.mean() # store in dataframe\n",
        "post_avg_nonall =  n_nonall_chain.mean() # store in dataframe\n",
        "\n",
        "clus_alloc_chain = [x.clus_alloc for x in chain]\n",
        "best_clus = cluster_estimate(np.array(clus_alloc_chain))\n",
        "n_clus_best_clus = np.size(np.unique(best_clus))\n",
        "\n",
        "#true_clus = np.repeat(range(M),n_percluster)\n",
        "#ari_best_clus = adjusted_rand_score(true_clus, best_clus) # store in dataframe\n",
        "\n",
        "#aris_chain = np.array([adjusted_rand_score(true_clus, x) for x in clus_alloc_chain])\n",
        "#mean_aris, sigma_aris = np.mean(aris_chain), np.std(aris_chain) # store mean_aris in dataframe\n",
        "#CI_aris = stats.norm.interval(0.95, loc=mean_aris, scale=sigma_aris/sqrt(len(aris_chain))) # store in dataframe\n",
        "\n",
        "list_performance.append([acc_rates[0],acc_rates[1],post_mode_nclus,\n",
        "                    post_avg_nclus, post_avg_nonall])\n",
        "        \n",
        "        \n",
        "df_performance = pd.DataFrame(list_performance, columns=('means_ar','lambda_ar',\n",
        "                                      'mode_nclus', 'avg_nclus', 'avg_nonalloc'))\n",
        "    "
      ],
      "metadata": {
        "id": "JTMDYC6xAL2R"
      },
      "execution_count": null,
      "outputs": []
    },
    {
      "cell_type": "code",
      "source": [
        "# read the dataset\n",
        "df = pd.read_excel(\"41598_2021_2025_MOESM2_ESM.xlsx\")\n",
        "# extract only right eyes (OD)\n",
        "df_od = df.loc[df['Masked_Id_Age1'].str.contains(\"OD\", case=True)].set_index('Masked_Id_Age1')\n",
        "# clustering obtained by cifu (method used in the paper)\n",
        "cifu_clustering = df_od['Cluster_Id_Age1']\n",
        "\n",
        "# THIS IS THE DATA USED IN THE ALGORITHM, THEN CONVERTED TO NUMPY ARRAY\n",
        "df_od = df_od[df_od.columns[1:]]\n",
        "# NUMPY ARRAY OF DATA\n",
        "data = df_od.to_numpy()"
      ],
      "metadata": {
        "id": "E255Rqp2GuZk"
      },
      "execution_count": null,
      "outputs": []
    },
    {
      "cell_type": "code",
      "source": [
        "vals = df_od[df_od.columns[2:]].values\n"
      ],
      "metadata": {
        "id": "3CdCaxXDgEIY"
      },
      "execution_count": null,
      "outputs": []
    },
    {
      "cell_type": "code",
      "source": [
        "theta = np.linspace(0, 2 * np.pi, vals.shape[1])\n",
        "dx = theta[1] - theta[0]"
      ],
      "metadata": {
        "id": "7u3EwBQVgYrb"
      },
      "execution_count": null,
      "outputs": []
    },
    {
      "cell_type": "code",
      "source": [
        "fig, axs = plt.subplots(nrows=sqrt(n_clus_best_clus), ncols=sqrt(n_clus_best_clus), polar=True)\n",
        "\n",
        "\n",
        "for clus, ax in zip(range(n_clus_best_clus), axs.ravel()):\n",
        "  ax.plot(theta, vals[best_clus == clus,:].T)\n",
        "  # chart formatting\n",
        "  ax.set_title(\"cluster \", clus)\n",
        "  ax.get_legend().remove()\n",
        "\n",
        "plt.show()"
      ],
      "metadata": {
        "colab": {
          "base_uri": "https://localhost:8080/"
        },
        "id": "zzl7CAqYC0Fg",
        "outputId": "f4192d67-2340-4b0a-d8b8-609339ee01c0"
      },
      "execution_count": 9,
      "outputs": [
        {
          "output_type": "stream",
          "name": "stdout",
          "text": [
            "0\n",
            "1\n",
            "2\n"
          ]
        }
      ]
    }
  ]
}