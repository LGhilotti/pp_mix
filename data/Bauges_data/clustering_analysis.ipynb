{
  "nbformat": 4,
  "nbformat_minor": 0,
  "metadata": {
    "colab": {
      "provenance": []
    },
    "kernelspec": {
      "name": "python3",
      "display_name": "Python 3"
    },
    "language_info": {
      "name": "python"
    }
  },
  "cells": [
    {
      "cell_type": "code",
      "source": [
        "import pandas as pd\n",
        "import plotnine\n",
        "from plotnine import *\n",
        "import seaborn as sns\n",
        "import numpy as np\n",
        "import matplotlib as plt\n"
      ],
      "metadata": {
        "id": "Jxi1aPRo9MSV"
      },
      "execution_count": 1,
      "outputs": []
    },
    {
      "cell_type": "markdown",
      "source": [
        "# Plot covariates"
      ],
      "metadata": {
        "id": "zQCj-1PMbfRV"
      }
    },
    {
      "cell_type": "code",
      "execution_count": null,
      "metadata": {
        "id": "kdxV8FKJ8_e0"
      },
      "outputs": [],
      "source": [
        "with open(\"Bauges_data_covariates.csv\", newline='') as my_csv:\n",
        "            data_names = pd.read_csv(my_csv, sep=',', index_col=0)"
      ]
    },
    {
      "cell_type": "code",
      "source": [
        "list(data_names.columns)"
      ],
      "metadata": {
        "colab": {
          "base_uri": "https://localhost:8080/"
        },
        "id": "G_SgPoqC9IsH",
        "outputId": "5ece426c-cca6-4667-ad9b-d0e7dfa68b2d"
      },
      "execution_count": null,
      "outputs": [
        {
          "output_type": "execute_result",
          "data": {
            "text/plain": [
              "['bio_1_0', 'bio_12_0', 'bio_19_0', 'bio_8_0', 'slope', 'PC1', 'PC2']"
            ]
          },
          "metadata": {},
          "execution_count": 27
        }
      ]
    },
    {
      "cell_type": "code",
      "source": [
        "# the best clustering is: applam_d_4_fixed_out/rho_50_ranges_50_out_0\n",
        "best_clust = pd.read_csv(\"best_clus.txt\", sep=\" \", header=None).astype(int)\n",
        "#best_clust = best_clust.astype(\"category\")"
      ],
      "metadata": {
        "id": "1GeyOa0d_Rxu"
      },
      "execution_count": null,
      "outputs": []
    },
    {
      "cell_type": "markdown",
      "source": [
        "Numerosity of the clusters"
      ],
      "metadata": {
        "id": "w6sLBjelsdO5"
      }
    },
    {
      "cell_type": "code",
      "source": [
        "un , count = np.unique(np.array(best_clust[0]), return_counts=True)\n",
        "count"
      ],
      "metadata": {
        "colab": {
          "base_uri": "https://localhost:8080/"
        },
        "id": "Yx0lqO7qqpTv",
        "outputId": "d622288f-fda5-433b-f27a-0a9f663bd127"
      },
      "execution_count": null,
      "outputs": [
        {
          "output_type": "execute_result",
          "data": {
            "text/plain": [
              "array([212, 236, 221, 246, 224])"
            ]
          },
          "metadata": {},
          "execution_count": 29
        }
      ]
    },
    {
      "cell_type": "code",
      "source": [
        "df_cluster = data_names \n",
        "df_cluster.insert(0, \"Cluster\", best_clust)"
      ],
      "metadata": {
        "id": "9BWRfjKDZIAc"
      },
      "execution_count": null,
      "outputs": []
    },
    {
      "cell_type": "code",
      "source": [
        "df_cluster[\"Cluster_fact\"] = df_cluster[\"Cluster\"].astype(\"category\")"
      ],
      "metadata": {
        "id": "TLcf5YKuZ1fu"
      },
      "execution_count": null,
      "outputs": []
    },
    {
      "cell_type": "markdown",
      "source": [
        "Box-plots for each of the covariate, with clusters"
      ],
      "metadata": {
        "id": "rN9cMLzfW29M"
      }
    },
    {
      "cell_type": "code",
      "source": [
        "bp_1 = ggplot(df_cluster, aes(\"Cluster_fact\", \"bio_1_0\", fill = \"Cluster_fact\")) \\\n",
        "+ geom_boxplot(show_legend=False) + xlab(\"cluster\") + ggtitle(\"bio_1_0 distribution among clusters\")\n",
        "\n",
        "bp_2 = ggplot(df_cluster, aes(\"Cluster_fact\", \"bio_12_0\", fill = \"Cluster_fact\")) \\\n",
        "+ geom_boxplot(show_legend=False) + xlab(\"cluster\") + ggtitle(\"bio_12_0 distribution among clusters\")\n",
        "\n",
        "bp_3 = ggplot(df_cluster, aes(\"Cluster_fact\", \"bio_19_0\", fill = \"Cluster_fact\")) \\\n",
        "+ geom_boxplot(show_legend=False) + xlab(\"cluster\") + ggtitle(\"bio_19_0 distribution among clusters\")\n",
        "\n",
        "bp_4 = ggplot(df_cluster, aes(\"Cluster_fact\", \"bio_8_0\", fill = \"Cluster_fact\")) \\\n",
        "+ geom_boxplot(show_legend=False) + xlab(\"cluster\") + ggtitle(\"bio_8_0 distribution among clusters\")\n",
        "\n"
      ],
      "metadata": {
        "id": "-UGTUUora8Px"
      },
      "execution_count": null,
      "outputs": []
    },
    {
      "cell_type": "code",
      "source": [
        "print(bp_1)\n",
        "print(bp_2)\n",
        "print(bp_3)\n",
        "print(bp_4)"
      ],
      "metadata": {
        "id": "Cs6NyPPGim6V"
      },
      "execution_count": null,
      "outputs": []
    },
    {
      "cell_type": "code",
      "source": [
        "bp_slope = ggplot(df_cluster, aes(\"Cluster_fact\", \"slope\", fill = \"Cluster_fact\")) \\\n",
        "+ geom_boxplot(show_legend=False) + xlab(\"cluster\") + ggtitle(\"slope distribution among clusters\")\n",
        "\n",
        "bp_pc1 = ggplot(df_cluster, aes(\"Cluster_fact\", \"PC1\", fill = \"Cluster_fact\")) \\\n",
        "+ geom_boxplot(show_legend=False) + xlab(\"cluster\") + ggtitle(\"PC1 distribution among clusters\")\n",
        "\n",
        "bp_pc2 = ggplot(df_cluster, aes(\"Cluster_fact\", \"PC2\", fill = \"Cluster_fact\")) \\\n",
        "+ geom_boxplot(show_legend=False) + xlab(\"cluster\") + ggtitle(\"PC2 distribution among clusters\")\n",
        "\n",
        "print(bp_slope)\n",
        "print(bp_pc1)\n",
        "print(bp_pc2)"
      ],
      "metadata": {
        "id": "dY-za7cdgfL2"
      },
      "execution_count": null,
      "outputs": []
    },
    {
      "cell_type": "markdown",
      "source": [
        "Pair plots \n"
      ],
      "metadata": {
        "id": "8wxdgRvmkR14"
      }
    },
    {
      "cell_type": "code",
      "source": [
        "sns.pairplot(df_cluster, vars = ['bio_1_0', 'bio_12_0', 'bio_19_0','bio_8_0'], \n",
        "             hue = 'Cluster_fact')"
      ],
      "metadata": {
        "id": "ZoSjotJ4kRID"
      },
      "execution_count": null,
      "outputs": []
    },
    {
      "cell_type": "markdown",
      "source": [
        "# Species distribution within clusters"
      ],
      "metadata": {
        "id": "EGTd05bP1Zuk"
      }
    },
    {
      "cell_type": "code",
      "source": [
        "with open(\"Bauges_data.csv\", newline='') as my_csv:\n",
        "            data_species = pd.read_csv(my_csv, sep=',', index_col=0)"
      ],
      "metadata": {
        "id": "ewuBz-yU1ZBL"
      },
      "execution_count": 2,
      "outputs": []
    },
    {
      "cell_type": "code",
      "source": [
        "# the best clustering is: applam_d_4_fixed_out/rho_50_ranges_50_out_0\n",
        "best_clust = pd.read_csv(\"best_clus.txt\", sep=\" \", header=None).astype(int)\n",
        "#best_clust = best_clust.astype(\"category\")"
      ],
      "metadata": {
        "id": "9oGTpAH-3PmF"
      },
      "execution_count": 3,
      "outputs": []
    },
    {
      "cell_type": "code",
      "source": [
        "# Define the different indexes V for measuring association\n",
        "\n",
        "### Compute Cramer's V [But to be substituted with meaningful index]\n",
        "def cramers(cont):\n",
        "    #Chi-squared test statistic, sample size, and minimum of rows and columns\n",
        "    X2 = stats.chi2_contingency(cont, correction=False)[0]\n",
        "    n = np.sum(cont)\n",
        "    minDim = min(cont.shape)-1\n",
        "    #calculate Cramer's V \n",
        "    return np.sqrt((X2/n) / minDim)\n",
        "\n",
        "### Compute the ratio between the number of sites in the cluster where the species is present, over ...\n",
        "def jaccard(cont):\n",
        "  return cont[1,1]/(cont[1,1]+cont[0,1]+cont[1,0])"
      ],
      "metadata": {
        "id": "ZTRz4qINPaF8"
      },
      "execution_count": 4,
      "outputs": []
    },
    {
      "cell_type": "code",
      "source": [
        "from scipy.stats.contingency import crosstab\n",
        "import scipy.stats as stats\n",
        "\n",
        "num_largest = 5\n",
        "\n",
        "nobs = best_clust.shape[0]\n",
        "nspecies = data_species.shape[1]\n",
        "nclusters = np.unique(np.array(best_clust[0])).size\n",
        "\n",
        "# Relevent species (per cluster) in decreasing order and the V index for all the species (not ordered)\n",
        "rel_species_pc = np.empty(nclusters, dtype=object)\n",
        "V_species_pc = np.empty(nclusters, dtype=object)\n",
        "\n",
        "for c in range(nclusters):\n",
        "  ### Create the dummy: 1 if in cluster c, 0 if not in cluster c\n",
        "  dum = 1*(best_clust == c).to_numpy().reshape(nobs)\n",
        "\n",
        "  ### Extract each species columns, from the first to the last, and compute index\n",
        "  V = np.empty(nspecies)\n",
        "  for s in range(nspecies):\n",
        "    sp = data_species[data_species.columns[s]].to_numpy()\n",
        "    res = crosstab(dum,sp)\n",
        "    cont_t = res[1]\n",
        "    V[s] = jaccard(cont_t)\n",
        "\n",
        "  ### Once computed the index for all the species, take the 3 largest ones\n",
        "  ord_species = np.argsort(V)[::-1]\n",
        "  rel_species_pc[c] = ord_species[0:num_largest]\n",
        "  V_species_pc[c] = V\n",
        "\n"
      ],
      "metadata": {
        "id": "l7ZA_xQN4Ijk"
      },
      "execution_count": 5,
      "outputs": []
    },
    {
      "cell_type": "code",
      "source": [
        "### Most relevant species within each group\n",
        "c1 = np.repeat(range(nclusters), num_largest)\n",
        "c2 = np.concatenate(rel_species_pc)\n",
        "df_tmp = pd.DataFrame({ 'cluster': c1 , 'rel_species_pc' : c2})\n",
        "\n",
        "df_tmp['cluster'] = df_tmp['cluster'].astype(\"category\")\n",
        "df_tmp['rel_species_pc'] = df_tmp['rel_species_pc'].astype(\"category\")\n",
        "\n",
        "d = df_tmp.groupby('rel_species_pc')\n",
        "df_new = d.apply(lambda x: np.array(x.loc[:,'cluster']))\n",
        "\n",
        "print(\"species in each of the cluster: \", list(rel_species_pc))\n",
        "\n",
        "print(\"clusters showing each of the species: \",df_new)\n",
        "\n"
      ],
      "metadata": {
        "colab": {
          "base_uri": "https://localhost:8080/"
        },
        "id": "g1X5I-d_hKL5",
        "outputId": "9f54ab36-506f-4766-8ff7-8ffd95a3bf73"
      },
      "execution_count": 6,
      "outputs": [
        {
          "output_type": "stream",
          "name": "stdout",
          "text": [
            "species in each of the cluster:  [array([113,  45,   0, 112,  14]), array([ 61, 113,  45,   0,  99]), array([ 22, 113,  14,  83,  77]), array([ 45,  61,  80, 112,  28]), array([ 45, 113,  28,   0, 112])]\n",
            "clusters showing each of the species:  rel_species_pc\n",
            "0         [0, 1, 4]\n",
            "14           [0, 2]\n",
            "22              [2]\n",
            "28           [3, 4]\n",
            "45     [0, 1, 3, 4]\n",
            "61           [1, 3]\n",
            "77              [2]\n",
            "80              [3]\n",
            "83              [2]\n",
            "99              [1]\n",
            "112       [0, 3, 4]\n",
            "113    [0, 1, 2, 4]\n",
            "dtype: object\n"
          ]
        }
      ]
    },
    {
      "cell_type": "code",
      "source": [
        "data_species.columns[df['rel_species']]"
      ],
      "metadata": {
        "colab": {
          "base_uri": "https://localhost:8080/"
        },
        "id": "LTC8XhZBRrw0",
        "outputId": "0cf4e332-721f-4d0b-f6b1-18e3d7439dc8"
      },
      "execution_count": 23,
      "outputs": [
        {
          "output_type": "execute_result",
          "data": {
            "text/plain": [
              "Index(['23', '2740', '4776', '6077', '7895', '9369', '11151', '11726', '11874',\n",
              "       '15630', '17343', '17363', '23', '2740', '4776', '6077', '7895', '9369',\n",
              "       '11151', '11726', '11874', '15630', '17343', '17363', '23', '2740',\n",
              "       '4776', '6077', '7895', '9369', '11151', '11726', '11874', '15630',\n",
              "       '17343', '17363', '23', '2740', '4776', '6077', '7895', '9369', '11151',\n",
              "       '11726', '11874', '15630', '17343', '17363', '23', '2740', '4776',\n",
              "       '6077', '7895', '9369', '11151', '11726', '11874', '15630', '17343',\n",
              "       '17363'],\n",
              "      dtype='object')"
            ]
          },
          "metadata": {},
          "execution_count": 23
        }
      ]
    },
    {
      "cell_type": "code",
      "source": [
        "### Plot the results\n",
        "rel_species = np.unique(np.concatenate(rel_species_pc))\n",
        "V_rel_species_pc = np.array([V_sp[rel_species] for V_sp in V_species_pc]) \n",
        "\n",
        "# Build the dataframe with three columns (cluster, rel_species, V_rel_species)\n",
        "num_rel_species = rel_species.size\n",
        "\n",
        "col_cluster = np.repeat(range(nclusters), num_rel_species)\n",
        "col_rel_species = np.tile(rel_species, nclusters)\n",
        "col_V_rel_species = V_rel_species_pc.flatten()\n",
        "\n",
        "df = pd.DataFrame({ 'Cluster': col_cluster , 'rel_species' : col_rel_species, 'V_index': col_V_rel_species})\n",
        "df['Cluster']=df['Cluster'].astype(\"category\")\n",
        "df['rel_species']=df['rel_species'].astype(\"category\")\n",
        "\n",
        "# Barplot with multiple groups\n",
        "species = ggplot(df, aes(\"rel_species\", \"V_index\", fill=\"Cluster\")) +  geom_bar(stat=\"identity\", position=\"dodge\", width=0.6) \\\n",
        "  + xlab(\"Species id\") + ylab(\"Ratio\") \n",
        "print(species)\n",
        "species.save(\"species_and_clusters.pdf\")"
      ],
      "metadata": {
        "colab": {
          "base_uri": "https://localhost:8080/",
          "height": 501
        },
        "id": "riKGyL_fQif4",
        "outputId": "c3dd9bd0-d246-4a22-97b3-774547047d18"
      },
      "execution_count": 22,
      "outputs": [
        {
          "output_type": "display_data",
          "data": {
            "text/plain": [
              "<Figure size 640x480 with 1 Axes>"
            ],
            "image/png": "[encoded data removed]"
          },
          "metadata": {}
        },
        {
          "output_type": "stream",
          "name": "stdout",
          "text": [
            "\n"
          ]
        },
        {
          "output_type": "stream",
          "name": "stderr",
          "text": [
            "/usr/local/lib/python3.8/dist-packages/plotnine/ggplot.py:719: PlotnineWarning: Saving 6.4 x 4.8 in image.\n",
            "/usr/local/lib/python3.8/dist-packages/plotnine/ggplot.py:722: PlotnineWarning: Filename: species_and_clusters.pdf\n"
          ]
        }
      ]
    },
    {
      "cell_type": "code",
      "source": [
        "# Alternatively, each species bar is build in descreasing order [ACTUALLY THE SAME]\n",
        "df_ord = df\n",
        "g = df_ord.groupby('rel_species', as_index=False)\n",
        "df_ord = g.apply(lambda x: x.sort_values('V_index', ascending=False))\n",
        "df_ord = df_ord.reset_index(drop=True)\n",
        "# Stacked barplot with multiple groups\n",
        "species_ord = ggplot(df_ord, aes(\"rel_species\", \"V_index\", fill=\"cluster\")) +  geom_bar(stat=\"identity\", position=\"dodge\") \\\n",
        "  + xlab(\"species id\") + ylab(\"V index\")\n",
        "print(species_ord)"
      ],
      "metadata": {
        "colab": {
          "base_uri": "https://localhost:8080/",
          "height": 465
        },
        "id": "IGmvHvDv9Mot",
        "outputId": "365955fd-487b-46ef-eba5-7226f056fbd4"
      },
      "execution_count": null,
      "outputs": [
        {
          "output_type": "display_data",
          "data": {
            "text/plain": [
              "<Figure size 640x480 with 1 Axes>"
            ],
            "image/png": "[encoded data removed]"
          },
          "metadata": {}
        },
        {
          "output_type": "stream",
          "name": "stdout",
          "text": [
            "\n"
          ]
        }
      ]
    }
  ]
}