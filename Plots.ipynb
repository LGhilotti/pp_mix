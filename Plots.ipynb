{
 "cells": [
  {
   "cell_type": "code",
   "execution_count": 2,
   "metadata": {},
   "outputs": [],
   "source": [
    "import numpy as np\n",
    "import arviz as az\n",
    "# import pymc3 as pm\n",
    "import pickle\n",
    "import matplotlib.pyplot as plt\n",
    "from google.protobuf import text_format\n",
    "from scipy.stats import multivariate_normal as mvn\n",
    "from scipy.stats import skewnorm\n",
    "from scipy.stats import norm\n",
    "from scipy.interpolate import griddata\n",
    "from pp_mix.interface import estimate_density_seq\n",
    "from pp_mix.params_helper import make_default_strauss\n",
    "import pp_mix.protos.py.params_pb2 as params_pb2\n",
    "\n",
    "\n",
    "from pp_mix.state import extract_chain\n",
    "from pp_mix.interface import ConditionalMCMC, estimate_density_seq, simulate_strauss2d\n",
    "from pp_mix.utils import loadChains, to_numpy, to_proto\n",
    "from pp_mix.protos.py.state_pb2 import MultivariateMixtureState\n",
    "from pp_mix.protos.py.params_pb2 import Params"
   ]
  },
  {
   "cell_type": "code",
   "execution_count": 3,
   "metadata": {},
   "outputs": [],
   "source": [
    "params_file = \"pp_mix/resources/sampler_params.asciipb\"\n",
    "params = Params()\n",
    "with open(params_file, 'r') as fp:\n",
    "    params = Params()\n",
    "    text_format.Parse(fp.read(), params)\n",
    "    \n",
    "    \n",
    "params.wishart.sigma = 0.01\n",
    "params.strauss.init.gamma = 1e-30\n",
    "params.strauss.init.beta = 0.001\n",
    "params.strauss.init.R = 5.0\n",
    "params.strauss.fixed_params = True"
   ]
  },
  {
   "cell_type": "markdown",
   "metadata": {},
   "source": [
    "## SIMULATION 0"
   ]
  },
  {
   "cell_type": "code",
   "execution_count": null,
   "metadata": {},
   "outputs": [],
   "source": [
    "# sigma1 = np.array([[1, 0], [0, 3]])\n",
    "# sigma2 = np.array([[3, 0], [0, 1]])\n",
    "\n",
    "# data = np.vstack([\n",
    "#        [mvn.rvs(mean=np.array([5, 5]), cov=np.eye(2)) for _ in range(100)],\n",
    "#        [mvn.rvs(mean=np.array([-5, -5]), cov=np.eye(2)) for _ in range(100)],\n",
    "#        [mvn.rvs(mean=np.array([5, -5]), cov=sigma1) for _ in range(100)],\n",
    "#        [mvn.rvs(mean=np.array([-5, 5]), cov=sigma2) for _ in range(100)]])\n",
    "\n",
    "# plt.scatter(data[:, 0], data[:, 1])"
   ]
  },
  {
   "cell_type": "code",
   "execution_count": null,
   "metadata": {},
   "outputs": [],
   "source": [
    "# np.savetxt(\"data/data_0.txt\", data)"
   ]
  },
  {
   "cell_type": "code",
   "execution_count": null,
   "metadata": {},
   "outputs": [],
   "source": [
    "data = np.loadtxt(\"data/data_0.txt\")"
   ]
  },
  {
   "cell_type": "code",
   "execution_count": null,
   "metadata": {
    "scrolled": true
   },
   "outputs": [],
   "source": [
    "# sampler0 = ConditionalMCMC(params=params, fixed_pp=True, inits=[0.00001, 1e-30, 5.0])\n",
    "sampler0 = ConditionalMCMC(\n",
    "    pp_params=params.strauss,\n",
    "    prec_params=params.wishart,\n",
    "    jump_params=params.gamma_jump)\n",
    "\n",
    "sampler0.run(50000, 50000, 10, data)\n",
    "# sampler0.serialize_chains(\"data/chains_sim_0.recordio\")"
   ]
  },
  {
   "cell_type": "code",
   "execution_count": null,
   "metadata": {},
   "outputs": [],
   "source": [
    "k_chain_raf = np.loadtxt(\"data/data_0_K_raf.txt\")\n",
    "k_chain_bnp = np.loadtxt(\"data/data_0_K_bnpmix.txt\")"
   ]
  },
  {
   "cell_type": "code",
   "execution_count": null,
   "metadata": {},
   "outputs": [],
   "source": [
    "chains = sampler0.chains\n",
    "ma_chain = np.array([len(x.a_means) for x in chains])\n",
    "mna_chain = np.array([(x.mna) for x in chains])\n",
    "\n",
    "width = 0.2\n",
    "bars = np.arange(max(np.max(ma_chain), 6))\n",
    "heights = np.array([np.sum(ma_chain ==i ) for i in bars])\n",
    "plt.bar(bars - width, heights / len(ma_chain), width=width,\n",
    "        edgecolor=\"white\", label=\"strauss\")\n",
    "\n",
    "bars = np.arange(max(np.max(k_chain_raf), 5.0))\n",
    "heights = np.array([np.sum(k_chain_raf ==i ) for i in bars])\n",
    "plt.bar(bars, heights / len(k_chain_raf), width=width,\n",
    "        edgecolor=\"white\", label=\"finite mixture\")\n",
    "\n",
    "bars = np.arange(max(np.max(k_chain_bnp), 6))\n",
    "heights = np.array([np.sum(k_chain_bnp == i ) for i in bars])\n",
    "plt.bar(bars + width, heights / len(k_chain_bnp), width=width,\n",
    "        edgecolor=\"white\", label=\"DPM\")\n",
    "\n",
    "plt.legend()\n",
    "# plt.savefig(\"images/data_0_histogram_K.pdf\")\n",
    "plt.show()"
   ]
  },
  {
   "cell_type": "code",
   "execution_count": null,
   "metadata": {},
   "outputs": [],
   "source": [
    "np.sum(ma_chain == 4) / 5000"
   ]
  },
  {
   "cell_type": "code",
   "execution_count": null,
   "metadata": {},
   "outputs": [],
   "source": [
    "wh = np.where(ma_chain == 5)[0]\n",
    "N = len(wh)\n",
    "np.sum((wh < 3000) & (wh > 2000))  / N"
   ]
  },
  {
   "cell_type": "code",
   "execution_count": null,
   "metadata": {},
   "outputs": [],
   "source": [
    "ma_chain = np.array([np.max(x.clus_alloc) + 1 for x in chains])\n",
    "np.where(ma_chain == 5)"
   ]
  },
  {
   "cell_type": "markdown",
   "metadata": {},
   "source": [
    "### DENSITY ESTIMATION"
   ]
  },
  {
   "cell_type": "code",
   "execution_count": null,
   "metadata": {},
   "outputs": [],
   "source": [
    "x_ = np.linspace(-10, 10, 100)\n",
    "y_ = np.linspace(-10, 10, 100)\n",
    "x, y = np.meshgrid(x_, y_)\n",
    "grid = np.hstack([x.reshape(-1, 1), y.reshape(-1, 1)])\n",
    "\n",
    "estimate = estimate_density_seq(chains, grid)\n",
    "our_estimate = np.mean(estimate, axis=0)"
   ]
  },
  {
   "cell_type": "code",
   "execution_count": null,
   "metadata": {},
   "outputs": [],
   "source": [
    "bnpmix_estimate = np.loadtxt(\"data/data_1_dens_bnpmix.txt\")"
   ]
  },
  {
   "cell_type": "code",
   "execution_count": null,
   "metadata": {},
   "outputs": [],
   "source": [
    "fig, ax = plt.subplots(figsize=(7, 7))\n",
    "\n",
    "bnpmix_Z = griddata(grid, bnpmix_estimate, (x, y))\n",
    "cntr1 = plt.contour(x, y, bnpmix_Z, colors=\"darkgreen\", linewidths=3.5, \n",
    "            linestyles=\"dashed\")\n",
    "\n",
    "our_Z = griddata(grid, our_estimate, (x, y))\n",
    "cntr2 = plt.contour(x, y, our_Z, colors=\"steelblue\", linewidths=3.5, \n",
    "            linestyles=\"dashed\")\n",
    "\n",
    "plt.scatter(data[:, 0], data[:, 1], s=3, color=\"black\")\n",
    "\n",
    "h1,_ = cntr1.legend_elements()\n",
    "h2,_ = cntr2.legend_elements()\n",
    "\n",
    "ax.legend([h1[0], h2[0]], ['DPM', 'strauss'], loc=\"upper left\")\n",
    "# plt.savefig(\"images/data_0_dens_estimate.pdf\")\n",
    "\n",
    "plt.show()"
   ]
  },
  {
   "cell_type": "markdown",
   "metadata": {},
   "source": [
    "## SIMULATION 1"
   ]
  },
  {
   "cell_type": "code",
   "execution_count": null,
   "metadata": {},
   "outputs": [],
   "source": [
    "# data = np.vstack([\n",
    "#        [mvn.rvs(mean=np.array([5, 5]), cov=np.eye(2)) for _ in range(100)],\n",
    "#        [mvn.rvs(mean=np.array([-5, -5]), cov=np.eye(2)) for _ in range(100)]])\n",
    "\n",
    "# xx = np.hstack([\n",
    "#         np.array([skewnorm.rvs(2, -3, 1.5) for i in range(200)]).reshape(-1, 1),\n",
    "#         np.array([skewnorm.rvs(2, -3, 1.5) for i in range(200)]).reshape(-1, 1)])\n",
    "\n",
    "# yy = np.array(\n",
    "#     [mvn.rvs(mean=np.array([3, 3]), cov=np.eye(2)) for _ in range(200)])  \n",
    "# data = np.vstack([xx, yy])\n",
    "\n",
    "data = np.loadtxt(\"data/data_1.txt\")"
   ]
  },
  {
   "cell_type": "code",
   "execution_count": null,
   "metadata": {
    "scrolled": true
   },
   "outputs": [],
   "source": [
    "sampler = ConditionalMCMC(\n",
    "    pp_params=params.strauss,\n",
    "    prec_params=params.wishart,\n",
    "    jump_params=params.gamma_jump)\n",
    "sampler.run(50000, 50000, 10, data)"
   ]
  },
  {
   "cell_type": "code",
   "execution_count": null,
   "metadata": {},
   "outputs": [],
   "source": [
    "# sampler.serialize_chains(\"data/chains_sim_1.recordio\")"
   ]
  },
  {
   "cell_type": "code",
   "execution_count": null,
   "metadata": {},
   "outputs": [],
   "source": [
    "k_chain_raf = np.loadtxt(\"data/data_1_K_raf.txt\")\n",
    "k_chain_bnp = np.loadtxt(\"data/data_1_K_bnpmix.txt\")"
   ]
  },
  {
   "cell_type": "code",
   "execution_count": null,
   "metadata": {},
   "outputs": [],
   "source": [
    "chains = sampler.chains\n",
    "ma_chain = np.array([max(x.clus_alloc) + 1 for x in chains])\n",
    "mna_chain = np.array([(x.mna) for x in chains])\n",
    "np.savetxt(\"data/data_1_K_our.txt\", ma_chain)\n",
    "\n",
    "width = 0.2\n",
    "bars = np.arange(max(np.max(ma_chain), 4))\n",
    "heights = np.array([np.sum(ma_chain ==i ) for i in bars])\n",
    "plt.bar(bars - width, heights / len(ma_chain), width=width,\n",
    "        edgecolor=\"white\", label=\"strauss\")\n",
    "\n",
    "bars = np.arange(max(np.max(k_chain_raf), 4))\n",
    "heights = np.array([np.sum(k_chain_raf ==i ) for i in bars])\n",
    "plt.bar(bars, heights / len(k_chain_raf), width=width,\n",
    "        edgecolor=\"white\", label=\"finite mixture\")\n",
    "\n",
    "bars = np.arange(max(np.max(k_chain_bnp), 4))\n",
    "heights = np.array([np.sum(k_chain_bnp ==i ) for i in bars])\n",
    "plt.bar(bars + width, heights / len(k_chain_bnp), width=width,\n",
    "        edgecolor=\"white\", label=\"DPM\")\n",
    "\n",
    "\n",
    "# bars = np.arange(max(np.max(mna_chain), 4))\n",
    "# heights = np.array([np.sum(mna_chain ==i ) for i in bars])\n",
    "# plt.bar(bars + 0.05, heights / len(mna_chain), width=0.2)\n",
    "\n",
    "plt.legend()\n",
    "# plt.savefig(\"images/data_1_histogram_K.pdf\")\n",
    "plt.show()"
   ]
  },
  {
   "cell_type": "markdown",
   "metadata": {},
   "source": [
    "### DENSITY ESTIMATE"
   ]
  },
  {
   "cell_type": "code",
   "execution_count": null,
   "metadata": {},
   "outputs": [],
   "source": [
    "x_ = np.linspace(-6, 7, 100)\n",
    "y_ = np.linspace(-6, 7, 100)\n",
    "x, y = np.meshgrid(x_, y_)\n",
    "grid = np.hstack([x.reshape(-1, 1), y.reshape(-1, 1)])\n",
    "\n",
    "estimate = estimate_density_seq(chains, grid)\n",
    "our_estimate = np.mean(estimate, axis=0)"
   ]
  },
  {
   "cell_type": "code",
   "execution_count": null,
   "metadata": {},
   "outputs": [],
   "source": [
    "bnpmix_estimate = np.loadtxt(\"data/data_1_dens_bnpmix.txt\")"
   ]
  },
  {
   "cell_type": "code",
   "execution_count": null,
   "metadata": {},
   "outputs": [],
   "source": [
    "fig, ax = plt.subplots(figsize=(7, 7))\n",
    "\n",
    "bnpmix_Z = griddata(grid, bnpmix_estimate, (x, y))\n",
    "cntr1 = plt.contour(x, y, bnpmix_Z, colors=\"darkgreen\", linewidths=3.5, \n",
    "            linestyles=\"dashed\")\n",
    "\n",
    "our_Z = griddata(grid, our_estimate, (x, y))\n",
    "cntr2 = plt.contour(x, y, our_Z, colors=\"steelblue\", linewidths=3.5, \n",
    "            linestyles=\"dashed\")\n",
    "\n",
    "plt.scatter(data[:, 0], data[:, 1], s=3, color=\"black\")\n",
    "\n",
    "h1,_ = cntr1.legend_elements()\n",
    "h2,_ = cntr2.legend_elements()\n",
    "\n",
    "ax.legend([h1[0], h2[0]], ['DPM', 'strauss'], loc=\"upper left\")\n",
    "# plt.savefig(\"images/data_1_dens_estimate.pdf\")\n",
    "\n",
    "plt.show()"
   ]
  },
  {
   "cell_type": "markdown",
   "metadata": {},
   "source": [
    "## Univariate Like Miller and Dunson"
   ]
  },
  {
   "cell_type": "code",
   "execution_count": 4,
   "metadata": {},
   "outputs": [],
   "source": [
    "from scipy.stats import dirichlet\n",
    "\n",
    "true_mu = np.array([-3.5, 3, 0, 6])\n",
    "true_sigma = np.array([0.8, 0.5, 0.4, 0.5])\n",
    "w_t = np.array([0.25, 0.25, 0.3, 0.2])\n",
    "\n",
    "alpha0 = 500\n",
    "L = 10000\n",
    "y_t = np.random.choice(len(w_t), size=L, replace=True, p=w_t)\n",
    "locations = true_mu[y_t] + true_sigma[y_t] * np.random.normal(size=L)\n",
    "weights = dirichlet.rvs(np.ones(L) * 500 / L)[0, :]\n",
    "s = 0.25\n",
    "\n",
    "\n",
    "def f0(x):\n",
    "    out = np.zeros_like(x)\n",
    "    for w, l in zip(weights, locations):\n",
    "        out += w * norm.pdf(x, l, s)\n",
    "    return out\n",
    "\n",
    "def generate_data(size):\n",
    "    clus_alloc = np.random.choice(L, size=size, replace=True, p=weights)\n",
    "    out = np.random.normal(size=size) * s + locations[clus_alloc]\n",
    "    return out"
   ]
  },
  {
   "cell_type": "code",
   "execution_count": 18,
   "metadata": {},
   "outputs": [
    {
     "data": {
      "text/plain": [
       "[<matplotlib.lines.Line2D at 0x7fa0022f20a0>]"
      ]
     },
     "execution_count": 18,
     "metadata": {},
     "output_type": "execute_result"
    },
    {
     "data": {
      "image/png": "[encoded data removed]",
      "text/plain": [
       "<Figure size 432x288 with 1 Axes>"
      ]
     },
     "metadata": {
      "needs_background": "light"
     },
     "output_type": "display_data"
    }
   ],
   "source": [
    "xgrid = np.linspace(-6, 8, 500)\n",
    "f_eval = f0(xgrid)\n",
    "\n",
    "plt.savefig(\"images/data_univ_miller_dunson_true_dens.pdf\")\n",
    "plt.plot(xgrid, f_eval)"
   ]
  },
  {
   "cell_type": "code",
   "execution_count": 17,
   "metadata": {},
   "outputs": [],
   "source": [
    "import pickle\n",
    "with open(\"data/data_univ_miller_dunson_true_f.pickle\", 'wb') as fp:\n",
    "    pickle.dump({\"xgrid\": xgrid, \"f_eval\": f0(xgrid)}, fp)"
   ]
  },
  {
   "cell_type": "code",
   "execution_count": 13,
   "metadata": {},
   "outputs": [],
   "source": [
    "np.savetxt(\"data/data_univ_miller_dunson.txt\", data)"
   ]
  },
  {
   "cell_type": "code",
   "execution_count": 6,
   "metadata": {
    "scrolled": true
   },
   "outputs": [
    {
     "data": {
      "text/plain": [
       "(array([ 13.,  56.,  69.,   7., 120.,  20.,  89.,  32.,  64.,  30.]),\n",
       " array([-6.32489114, -4.94367959, -3.56246804, -2.1812565 , -0.80004495,\n",
       "         0.5811666 ,  1.96237815,  3.3435897 ,  4.72480125,  6.10601279,\n",
       "         7.48722434]),\n",
       " <a list of 10 Patch objects>)"
      ]
     },
     "execution_count": 6,
     "metadata": {},
     "output_type": "execute_result"
    },
    {
     "data": {
      "image/png": "[encoded data removed]",
      "text/plain": [
       "<Figure size 432x288 with 1 Axes>"
      ]
     },
     "metadata": {
      "needs_background": "light"
     },
     "output_type": "display_data"
    }
   ],
   "source": [
    "# data = generate_data(500)\n",
    "# np.savetxt(\"data/data_univ_0.txt\", data)\n",
    "data = np.loadtxt(\"data/data_univ_0.txt\")\n",
    "plt.hist(data)"
   ]
  },
  {
   "cell_type": "code",
   "execution_count": 7,
   "metadata": {},
   "outputs": [
    {
     "data": {
      "text/plain": [
       "prior {\n",
       "  beta_l: 0.036200102773504404\n",
       "  beta_u: 4.344012332820529\n",
       "}\n",
       "init {\n",
       "  beta: 0.036200102773504404\n",
       "  gamma: 4.5399929762484854e-05\n",
       "  R: 1.5963751563135062\n",
       "}"
      ]
     },
     "execution_count": 7,
     "metadata": {},
     "output_type": "execute_result"
    }
   ],
   "source": [
    "strauss_params = make_default_strauss(data.reshape(-1, 1))\n",
    "strauss_params"
   ]
  },
  {
   "cell_type": "code",
   "execution_count": 10,
   "metadata": {
    "scrolled": true
   },
   "outputs": [
    {
     "name": "stdout",
     "output_type": "stream",
     "text": [
      "Burnin, iter # 200  /  10000\n",
      "Burnin, iter # 400  /  10000\n",
      "Burnin, iter # 600  /  10000\n",
      "Burnin, iter # 800  /  10000\n",
      "Burnin, iter # 1000  /  10000\n",
      "Burnin, iter # 1200  /  10000\n",
      "Burnin, iter # 1400  /  10000\n",
      "Burnin, iter # 1600  /  10000\n",
      "Burnin, iter # 1800  /  10000\n",
      "Burnin, iter # 2000  /  10000\n",
      "Burnin, iter # 2200  /  10000\n",
      "Burnin, iter # 2400  /  10000\n",
      "Burnin, iter # 2600  /  10000\n",
      "Burnin, iter # 2800  /  10000\n",
      "Burnin, iter # 3000  /  10000\n",
      "Burnin, iter # 3200  /  10000\n",
      "Burnin, iter # 3400  /  10000\n",
      "Burnin, iter # 3600  /  10000\n",
      "Burnin, iter # 3800  /  10000\n",
      "Burnin, iter # 4000  /  10000\n",
      "Burnin, iter # 4200  /  10000\n",
      "Burnin, iter # 4400  /  10000\n",
      "Burnin, iter # 4600  /  10000\n",
      "Burnin, iter # 4800  /  10000\n",
      "Burnin, iter # 5000  /  10000\n",
      "Burnin, iter # 5200  /  10000\n",
      "Burnin, iter # 5400  /  10000\n",
      "Burnin, iter # 5600  /  10000\n",
      "Burnin, iter # 5800  /  10000\n",
      "Burnin, iter # 6000  /  10000\n",
      "Burnin, iter # 6200  /  10000\n",
      "Burnin, iter # 6400  /  10000\n",
      "Burnin, iter # 6600  /  10000\n",
      "Burnin, iter # 6800  /  10000\n",
      "Burnin, iter # 7000  /  10000\n",
      "Burnin, iter # 7200  /  10000\n",
      "Burnin, iter # 7400  /  10000\n",
      "Burnin, iter # 7600  /  10000\n",
      "Burnin, iter # 7800  /  10000\n",
      "Burnin, iter # 8000  /  10000\n",
      "Burnin, iter # 8200  /  10000\n",
      "Burnin, iter # 8400  /  10000\n",
      "Burnin, iter # 8600  /  10000\n",
      "Burnin, iter # 8800  /  10000\n",
      "Burnin, iter # 9000  /  10000\n",
      "Burnin, iter # 9200  /  10000\n",
      "Burnin, iter # 9400  /  10000\n",
      "Burnin, iter # 9600  /  10000\n",
      "Burnin, iter # 9800  /  10000\n",
      "Burnin, iter # 10000  /  10000\n",
      "Running, iter # 200  /  10000\n",
      "Running, iter # 400  /  10000\n",
      "Running, iter # 600  /  10000\n",
      "Running, iter # 800  /  10000\n",
      "Running, iter # 1000  /  10000\n",
      "Running, iter # 1200  /  10000\n",
      "Running, iter # 1400  /  10000\n",
      "Running, iter # 1600  /  10000\n",
      "Running, iter # 1800  /  10000\n",
      "Running, iter # 2000  /  10000\n",
      "Running, iter # 2200  /  10000\n",
      "Running, iter # 2400  /  10000\n",
      "Running, iter # 2600  /  10000\n",
      "Running, iter # 2800  /  10000\n",
      "Running, iter # 3000  /  10000\n",
      "Running, iter # 3200  /  10000\n",
      "Running, iter # 3400  /  10000\n",
      "Running, iter # 3600  /  10000\n",
      "Running, iter # 3800  /  10000\n",
      "Running, iter # 4000  /  10000\n",
      "Running, iter # 4200  /  10000\n",
      "Running, iter # 4400  /  10000\n",
      "Running, iter # 4600  /  10000\n",
      "Running, iter # 4800  /  10000\n",
      "Running, iter # 5000  /  10000\n",
      "Running, iter # 5200  /  10000\n",
      "Running, iter # 5400  /  10000\n",
      "Running, iter # 5600  /  10000\n",
      "Running, iter # 5800  /  10000\n",
      "Running, iter # 6000  /  10000\n",
      "Running, iter # 6200  /  10000\n",
      "Running, iter # 6400  /  10000\n",
      "Running, iter # 6600  /  10000\n",
      "Running, iter # 6800  /  10000\n",
      "Running, iter # 7000  /  10000\n",
      "Running, iter # 7200  /  10000\n",
      "Running, iter # 7400  /  10000\n",
      "Running, iter # 7600  /  10000\n",
      "Running, iter # 7800  /  10000\n",
      "Running, iter # 8000  /  10000\n",
      "Running, iter # 8200  /  10000\n",
      "Running, iter # 8400  /  10000\n",
      "Running, iter # 8600  /  10000\n",
      "Running, iter # 8800  /  10000\n",
      "Running, iter # 9000  /  10000\n",
      "Running, iter # 9200  /  10000\n",
      "Running, iter # 9400  /  10000\n",
      "Running, iter # 9600  /  10000\n",
      "Running, iter # 9800  /  10000\n",
      "Running, iter # 10000  /  10000\n"
     ]
    }
   ],
   "source": [
    "strauss_params = make_default_strauss(data.reshape(-1, 1))\n",
    "# nrep_params = params_pb2.NrepParams(u=0.5, p=0.9)\n",
    "gamma_prec_params = params_pb2.GammaParams(alpha=1, beta=1)\n",
    "gamma_jump_params = params_pb2.GammaParams(alpha=1, beta=1)\n",
    "\n",
    "strauss_params.init.gamma = 1e-10\n",
    "strauss_params.init.beta = 0.0000001\n",
    "strauss_params.fixed_params = True\n",
    "\n",
    "sampler = ConditionalMCMC(pp_params=strauss_params, \n",
    "                          prec_params=gamma_prec_params,\n",
    "                          jump_params=gamma_prec_params)\n",
    "\n",
    "\n",
    "sampler.run(10000, 10000, 10, data)"
   ]
  },
  {
   "cell_type": "code",
   "execution_count": 19,
   "metadata": {},
   "outputs": [],
   "source": [
    "sampler.serialize_chains(\"data/data_univ_miller_dunson_chains.recordio\")"
   ]
  },
  {
   "cell_type": "code",
   "execution_count": 11,
   "metadata": {},
   "outputs": [
    {
     "data": {
      "text/plain": [
       "[<matplotlib.lines.Line2D at 0x7fa0056c34c0>]"
      ]
     },
     "execution_count": 11,
     "metadata": {},
     "output_type": "execute_result"
    },
    {
     "data": {
      "image/png": "[encoded data removed]",
      "text/plain": [
       "<Figure size 432x288 with 1 Axes>"
      ]
     },
     "metadata": {
      "needs_background": "light"
     },
     "output_type": "display_data"
    }
   ],
   "source": [
    "from scipy.stats import norm\n",
    "import seaborn as sns\n",
    "\n",
    "xgrid = np.linspace(-6, 8, 500)\n",
    "dens = estimate_density_seq(sampler.chains, xgrid)"
   ]
  },
  {
   "cell_type": "code",
   "execution_count": 35,
   "metadata": {},
   "outputs": [
    {
     "data": {
      "image/png": "[encoded data removed]",
      "text/plain": [
       "<Figure size 432x288 with 1 Axes>"
      ]
     },
     "metadata": {
      "needs_background": "light"
     },
     "output_type": "display_data"
    }
   ],
   "source": [
    "bnpmix_estimate = np.loadtxt(\"data/data_univ_miller_dunson_dens_bnpmix.txt\")\n",
    "plt.plot(xgrid, np.mean(dens, axis=0), color=\"steelblue\", label=\"strauss\")\n",
    "plt.plot(xgrid, f_eval, color=\"red\", label=\"true\")\n",
    "plt.plot(np.linspace(-10, 10, 200), np.mean(bnpmix_estimate, axis=0), color=\"green\", label=\"DPM\")\n",
    "plt.xlim(-6, 8)\n",
    "plt.legend()\n",
    "plt.savefig(\"images/data_univ_miller_dunson_dens_estimate.pdf\")"
   ]
  },
  {
   "cell_type": "code",
   "execution_count": 25,
   "metadata": {},
   "outputs": [
    {
     "data": {
      "image/png": "[encoded data removed]",
      "text/plain": [
       "<Figure size 432x288 with 1 Axes>"
      ]
     },
     "metadata": {
      "needs_background": "light"
     },
     "output_type": "display_data"
    }
   ],
   "source": [
    "k_chain_raf = np.loadtxt(\"data/data_univ_miller_dunson_K_raf.txt\")\n",
    "k_chain_bnp = np.loadtxt(\"data/data_univ_miller_dunson_K_bnpmix.txt\")\n",
    "\n",
    "\n",
    "chains = sampler.chains[200:]\n",
    "ma_chain = np.array([max(x.clus_alloc) + 1 for x in chains])\n",
    "mna_chain = np.array([(x.mna) for x in chains])\n",
    "np.savetxt(\"data/data_1_K_our.txt\", ma_chain)\n",
    "\n",
    "width = 0.2\n",
    "bars = np.arange(max(np.max(ma_chain), 4))\n",
    "heights = np.array([np.sum(ma_chain ==i ) for i in bars])\n",
    "plt.bar(bars - width, heights / len(ma_chain), width=width,\n",
    "        edgecolor=\"white\", label=\"strauss\")\n",
    "\n",
    "bars = np.arange(max(np.max(k_chain_raf), 4))\n",
    "heights = np.array([np.sum(k_chain_raf ==i ) for i in bars])\n",
    "plt.bar(bars, heights / len(k_chain_raf), width=width,\n",
    "        edgecolor=\"white\", label=\"finite mixture\")\n",
    "\n",
    "bars = np.arange(max(np.max(k_chain_bnp), 4))\n",
    "heights = np.array([np.sum(k_chain_bnp ==i ) for i in bars])\n",
    "plt.bar(bars + width, heights / len(k_chain_bnp), width=width,\n",
    "        edgecolor=\"white\", label=\"DPM\")\n",
    "\n",
    "plt.xlim((3, 12))\n",
    "\n",
    "plt.legend()\n",
    "plt.savefig(\"images/data_miller_dunson_hist_k.pdf\")\n",
    "plt.show()"
   ]
  },
  {
   "cell_type": "markdown",
   "metadata": {},
   "source": [
    "# Univariate of T and SkewNormal"
   ]
  },
  {
   "cell_type": "code",
   "execution_count": null,
   "metadata": {},
   "outputs": [],
   "source": [
    "from scipy.stats import t, cauchy, skewnorm\n",
    "data = np.concatenate([\n",
    "        [t.rvs(5, loc=-5) for _ in range(100)],\n",
    "        [skewnorm.rvs(2, loc=5) for _ in range(100)]])\n",
    "\n",
    "plt.hist(data)"
   ]
  },
  {
   "cell_type": "code",
   "execution_count": null,
   "metadata": {},
   "outputs": [],
   "source": [
    "# np.savetxt(\"data/data_univ_1.txt\", data)\n",
    "data = np.loadtxt(\"data/data_univ_1.txt\")"
   ]
  },
  {
   "cell_type": "code",
   "execution_count": null,
   "metadata": {
    "scrolled": true
   },
   "outputs": [],
   "source": [
    "strauss_params = make_default_strauss(data.reshape(-1, 1))\n",
    "gamma_prec_params = params_pb2.GammaParams(alpha=2, beta=2)\n",
    "gamma_jump_params = params_pb2.GammaParams(alpha=1, beta=100)\n",
    "\n",
    "strauss_params.init.gamma = 1e-30\n",
    "strauss_params.init.beta = 1e-20\n",
    "strauss_params.init.R = 5.0\n",
    "strauss_params.fixed_params = True\n",
    "\n",
    "\n",
    "sampler = ConditionalMCMC(pp_params=strauss_params, \n",
    "                          prec_params=gamma_prec_params,\n",
    "                          jump_params=gamma_prec_params,\n",
    "                          mala_stepsize=0.001)\n",
    "\n",
    "\n",
    "sampler.run(10000, 10000, 1, data)"
   ]
  },
  {
   "cell_type": "code",
   "execution_count": null,
   "metadata": {},
   "outputs": [],
   "source": [
    "# sampler.serialize_chains(\"data/data_1_chains.recordio\")"
   ]
  },
  {
   "cell_type": "code",
   "execution_count": null,
   "metadata": {},
   "outputs": [],
   "source": [
    "grid = np.linspace(-10, 10, 200)\n",
    "dens = estimate_density_seq(sampler.chains, grid)\n",
    "\n",
    "bnpmix_estimate = np.loadtxt(\"data/data_1_univ_dens_bnpmix.txt\")\n",
    "\n",
    "plt.plot(grid, np.mean(dens, axis=0), label=\"strauss\", color=\"steelblue\")\n",
    "plt.plot(grid, np.mean(bnpmix_estimate, axis=0), label=\"DPM\", color=\"green\")\n",
    "plt.plot(grid, 0.5*t.pdf(grid, 5, loc=-5) + 0.5*skewnorm.pdf(grid, 2, loc=5), label=\"true\", color=\"red\")\n",
    "plt.legend()\n",
    "\n",
    "plt.savefig(\"images/data_univ_1_dens_estimate.pdf\")\n",
    "plt.show()"
   ]
  },
  {
   "cell_type": "code",
   "execution_count": null,
   "metadata": {},
   "outputs": [],
   "source": [
    "k_chain_raf = np.loadtxt(\"data/data_univ_1_K_raf.txt\")\n",
    "k_chain_bnp = np.loadtxt(\"data/data_1_univ_K_bnpmix.txt\")\n",
    "\n",
    "\n",
    "chains = sampler.chains\n",
    "ma_chain = np.array([max(x.clus_alloc) + 1 for x in chains])\n",
    "mna_chain = np.array([(x.mna) for x in chains])\n",
    "# np.savetxt(\"data/data_1_K_our.txt\", ma_chain)\n",
    "\n",
    "width = 0.2\n",
    "bars = np.arange(max(np.max(ma_chain), 4))\n",
    "heights = np.array([np.sum(ma_chain ==i ) for i in bars])\n",
    "plt.bar(bars - width, heights / len(ma_chain), width=width,\n",
    "        edgecolor=\"white\", label=\"strauss\")\n",
    "\n",
    "bars = np.arange(max(np.max(k_chain_raf), 4))\n",
    "heights = np.array([np.sum(k_chain_raf ==i ) for i in bars])\n",
    "plt.bar(bars, heights / len(k_chain_raf), width=width,\n",
    "        edgecolor=\"white\", label=\"finite mixture\")\n",
    "\n",
    "bars = np.arange(max(np.max(k_chain_bnp), 4))\n",
    "heights = np.array([np.sum(k_chain_bnp ==i ) for i in bars])\n",
    "plt.bar(bars + width, heights / len(k_chain_bnp), width=width,\n",
    "        edgecolor=\"white\", label=\"DPM\")\n",
    "\n",
    "plt.xlim((1, 8))\n",
    "\n",
    "plt.legend()\n",
    "plt.savefig(\"images/data_univ_1_histogram_K.pdf\")\n",
    "plt.show()"
   ]
  },
  {
   "cell_type": "code",
   "execution_count": null,
   "metadata": {},
   "outputs": [],
   "source": [
    "sampler.chains[i-1].pp_state"
   ]
  },
  {
   "cell_type": "code",
   "execution_count": null,
   "metadata": {},
   "outputs": [],
   "source": [
    "i = 305\n",
    "print(sampler.chains[i].a_means)\n",
    "print(sampler.chains[i].na_means)"
   ]
  },
  {
   "cell_type": "code",
   "execution_count": null,
   "metadata": {},
   "outputs": [],
   "source": [
    "u_chain = np.array([x.u for x in sampler.chains])[200:]"
   ]
  },
  {
   "cell_type": "code",
   "execution_count": null,
   "metadata": {},
   "outputs": [],
   "source": [
    "u_chain[i]"
   ]
  },
  {
   "cell_type": "markdown",
   "metadata": {},
   "source": [
    "## FAITHFUL"
   ]
  },
  {
   "cell_type": "code",
   "execution_count": null,
   "metadata": {},
   "outputs": [],
   "source": [
    "import pandas as pd\n",
    "data = pd.read_csv(\"data/faithful.csv\").values"
   ]
  },
  {
   "cell_type": "code",
   "execution_count": null,
   "metadata": {},
   "outputs": [],
   "source": [
    "sampler = ConditionalMCMC(params_file=\"pp_mix/resources/sampler_params.asciipb\")\n",
    "\n",
    "sampler.run(25000, 25000, 5, data)"
   ]
  },
  {
   "cell_type": "code",
   "execution_count": null,
   "metadata": {},
   "outputs": [],
   "source": [
    "sampler.chains[-1]"
   ]
  },
  {
   "cell_type": "code",
   "execution_count": null,
   "metadata": {},
   "outputs": [],
   "source": [
    "az.plot_trace(extract_chain(chains[30000:], \"ma\"))"
   ]
  },
  {
   "cell_type": "code",
   "execution_count": null,
   "metadata": {},
   "outputs": [],
   "source": [
    "from scipy.interpolate import griddata\n",
    "x_ = np.linspace(1, 6, 100)\n",
    "y_ = np.linspace(1, 6, 100)\n",
    "x, y = np.meshgrid(x_, y_)\n",
    "grid = np.hstack([x.reshape(-1, 1), y.reshape(-1, 1)])\n",
    "\n",
    "chains = np.array(chains[30000:])\n",
    "estimates = estimate_density_seq(chains, grid)\n",
    "\n",
    "Z = griddata(grid, np.mean(estimates, axis=0), (x, y))\n",
    "fig = plt.figure(figsize=(7, 7))\n",
    "plt.contour(x, y, Z)\n",
    "plt.scatter(data[:, 0], data[:, 1])\n",
    "plt.show()"
   ]
  },
  {
   "cell_type": "code",
   "execution_count": null,
   "metadata": {},
   "outputs": [],
   "source": [
    "chains[100]"
   ]
  }
 ],
 "metadata": {
  "kernelspec": {
   "display_name": "Python 3",
   "language": "python",
   "name": "python3"
  },
  "language_info": {
   "codemirror_mode": {
    "name": "ipython",
    "version": 3
   },
   "file_extension": ".py",
   "mimetype": "text/x-python",
   "name": "python",
   "nbconvert_exporter": "python",
   "pygments_lexer": "ipython3",
   "version": "3.8.0"
  }
 },
 "nbformat": 4,
 "nbformat_minor": 4
}
